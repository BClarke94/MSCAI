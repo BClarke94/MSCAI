{
  "nbformat": 4,
  "nbformat_minor": 0,
  "metadata": {
    "colab": {
      "name": "B9AI108-RobertClarke-CA2.ipynb",
      "provenance": [],
      "collapsed_sections": [],
      "authorship_tag": "ABX9TyMIqmTkKLKAihRlM6NbxiZ1",
      "include_colab_link": true
    },
    "kernelspec": {
      "name": "python3",
      "display_name": "Python 3"
    },
    "language_info": {
      "name": "python"
    }
  },
  "cells": [
    {
      "cell_type": "markdown",
      "metadata": {
        "id": "view-in-github",
        "colab_type": "text"
      },
      "source": [
        "<a href=\"https://colab.research.google.com/github/BClarke94/MSCAI/blob/main/B9AI108_RobertClarke_CA2.ipynb\" target=\"_parent\"><img src=\"https://colab.research.google.com/assets/colab-badge.svg\" alt=\"Open In Colab\"/></a>"
      ]
    },
    {
      "cell_type": "markdown",
      "source": [
        "**Data Aquisition Pipeline**\n",
        "\n",
        "Robert Clarke 10596311\n",
        "\n",
        "https://colab.research.google.com/drive/1_2LHqX-MpuzyfxiGUK3XEwj2PfZ6bqSA?usp=sharing"
      ],
      "metadata": {
        "id": "rG1ZvEe89J6s"
      }
    },
    {
      "cell_type": "markdown",
      "source": [
        "Goal of data aquisition pipeline is to gather data on 15minute stock price's for use later. Adding in technical indicators to the data on a rolling basis for that 15 minute window and proceeding to update a GFS MYSQL database for later retrieval. \n",
        "\n",
        "Using mysql-connector for database interactions"
      ],
      "metadata": {
        "id": "TyJyyJlo12VW"
      }
    },
    {
      "cell_type": "code",
      "source": [
        "#downloading latest version of mysql-connector-python\n",
        "%%sh\n",
        "pip install mysql-connector-python"
      ],
      "metadata": {
        "colab": {
          "base_uri": "https://localhost:8080/"
        },
        "id": "JfPCqDOszTTd",
        "outputId": "63b40d47-fa7c-45cb-ab8d-86f252225059"
      },
      "execution_count": null,
      "outputs": [
        {
          "output_type": "stream",
          "name": "stdout",
          "text": [
            "Requirement already satisfied: mysql-connector-python in /usr/local/lib/python3.7/dist-packages (8.0.27)\n",
            "Requirement already satisfied: protobuf>=3.0.0 in /usr/local/lib/python3.7/dist-packages (from mysql-connector-python) (3.17.3)\n",
            "Requirement already satisfied: six>=1.9 in /usr/local/lib/python3.7/dist-packages (from protobuf>=3.0.0->mysql-connector-python) (1.15.0)\n"
          ]
        }
      ]
    },
    {
      "cell_type": "code",
      "source": [
        ""
      ],
      "metadata": {
        "id": "Sg6mkYaiCxrO"
      },
      "execution_count": null,
      "outputs": []
    },
    {
      "cell_type": "markdown",
      "source": [
        "Data Aquisition section of the project"
      ],
      "metadata": {
        "id": "o2Zd_WE0zTEp"
      }
    },
    {
      "cell_type": "code",
      "source": [
        "#Imports and defining user request for desired stock data\n",
        "import numpy as np\n",
        "import pandas as pd\n",
        "pd.set_option('display.max_columns', None)\n",
        "import csv\n",
        "import requests\n",
        "\n",
        "\n",
        "def get_ticker():\n",
        "  print('Please enter stock tickers seperated by a space:')\n",
        "  print('Maximum of 2 at a time:')\n",
        "  print('e.g. MSFT TSLA: ')\n",
        "  global ticker_list\n",
        "  ticker_list = input()\n",
        "  ticker_list = ticker_list.split()\n",
        "  return ticker_list"
      ],
      "metadata": {
        "id": "gFdVNhW59xzg"
      },
      "execution_count": null,
      "outputs": []
    },
    {
      "cell_type": "code",
      "source": [
        "#Verifying that the user input is strictly alphabetical and is less than a certain number of characters \n",
        "\n",
        "get_ticker()\n",
        "while len(ticker_list) > 2:\n",
        "  print(\"Please enter a valid number of stock tickers: \")\n",
        "  get_ticker()\n",
        "\n",
        "for i in ticker_list:\n",
        "  if (len(i) > 6 or i.isalpha() == False):\n",
        "    print(i, \"Not a valid stock name removing from list\")\n",
        "    ticker_list.remove(i)"
      ],
      "metadata": {
        "colab": {
          "base_uri": "https://localhost:8080/"
        },
        "id": "4uYlqCCgxkiu",
        "outputId": "4d49b24d-fba3-4168-e8e9-6eacd905075d"
      },
      "execution_count": null,
      "outputs": [
        {
          "name": "stdout",
          "output_type": "stream",
          "text": [
            "Please enter stock tickers seperated by a space:\n",
            "Maximum of 2 at a time:\n",
            "e.g. MSFT TSLA: \n",
            "MSFT NVDA\n"
          ]
        }
      ]
    },
    {
      "cell_type": "code",
      "source": [
        "#Code to get 15 minute time frame data on a stock of user choice\n",
        "\n",
        "#API only allows 15 minute calls for 1 month at a time, getting the previous 60 days worth of data using the following timeFrame list \n",
        "#Can easily add or retract dates and times in case more are needed however free rates of the api usage still apply and as such more is not reccomended \n",
        "timeFrame = ['year1month1', 'year1month2']\n",
        "def get_stock_data(ticker):\n",
        "    my_list = []\n",
        "    with requests.Session() as s:\n",
        "      #Reading in the code and converting it into a list that can be used for creating a dataframe\n",
        "      for i in timeFrame:\n",
        "          download = s.get('https://www.alphavantage.co/query?function=TIME_SERIES_INTRADAY_EXTENDED&symbol=' + ticker + '&interval=15min&slice='+ i +'&apikey=33ELI0Y2XQJY92EA')    \n",
        "          decoded_content = download.content.decode('utf-8')\n",
        "          cr = csv.reader(decoded_content.splitlines(), delimiter=',')\n",
        "          cr =list(cr)\n",
        "          my_list.append(cr)\n",
        "      flat_list = [item for sublist in my_list for item in sublist]\n",
        "    return flat_list    "
      ],
      "metadata": {
        "id": "Sz-8r479meWe"
      },
      "execution_count": null,
      "outputs": []
    },
    {
      "cell_type": "code",
      "source": [
        "#Defining the data preperation step. Adding in technical indicators for a more thorough evaluation of the market line by line\n",
        "def dataPrep(api_list):\n",
        "  df = pd.DataFrame(api_list)\n",
        "  df.columns = df.iloc[0]\n",
        "  delRow = df.loc[df['time'] == 'time']\n",
        "  #Removing the column headers that get passed in through the list\n",
        "  for row in delRow.index:\n",
        "    df = df.drop([row, (row+1)])\n",
        "\n",
        "#Technical indicators include bollinger band and simple moving average for varying time peroids\n",
        "  df['BollingerBand_Upper'] = df['open'].rolling(10).mean() + 2*df['open'].rolling(10).std()\n",
        "  df['BollingerBand_Lower'] = df['open'].rolling(10).mean() - 2*df['open'].rolling(10).std()\n",
        "  df['SimpleMovingAverage50'] = df['open'].rolling(50).mean()\n",
        "  df['SimpleMovingAverage30'] = df['open'].rolling(30).mean()\n",
        "  df['SimpleMovingAverage20'] = df['open'].rolling(20).mean()\n",
        "  df['SimpleMovingAverage10'] = df['open'].rolling(10).mean()\n",
        "  df[\"volume\"] =pd.to_numeric(df[\"volume\"])\n",
        "\n",
        "  #The oldest 50 lines will be removed or about a half day's worth of data due to the rolling functionality\n",
        "  df=df.dropna()\n",
        "\n",
        "  return df  \n",
        "\n",
        "\n",
        "#df = dataPrep(flat_list)  "
      ],
      "metadata": {
        "id": "YWzLP8P198mk"
      },
      "execution_count": null,
      "outputs": []
    },
    {
      "cell_type": "code",
      "source": [
        "#Creating a dictionary with the different dataframes of data stored under ticker name in a dictionary\n",
        "#calling the dataPrep and get_stock_data together for updating the dictionary with the relevant data\n",
        "#User inputed data will be used as a key which is a security concern although as they are limited to alphabetical characters exposure should be limited\n",
        "ticker_dict = {}\n",
        "for i in ticker_list:\n",
        "  ticker_dict[i] = dataPrep(get_stock_data(i))\n"
      ],
      "metadata": {
        "id": "wqs8p8yf23s1"
      },
      "execution_count": null,
      "outputs": []
    },
    {
      "cell_type": "code",
      "source": [
        "#Verifying output looks as expected\n",
        "for key in ticker_dict:\n",
        "  print(ticker_dict[key])\n"
      ],
      "metadata": {
        "colab": {
          "base_uri": "https://localhost:8080/"
        },
        "id": "VkWBOdzK280S",
        "outputId": "142b9aee-815e-4652-f2f2-f68319c05400"
      },
      "execution_count": null,
      "outputs": [
        {
          "output_type": "stream",
          "name": "stdout",
          "text": [
            "0                    time           open           high            low  \\\n",
            "51    2021-12-20 07:30:00          319.8          319.8         319.38   \n",
            "52    2021-12-20 07:15:00          319.8          319.9          319.2   \n",
            "53    2021-12-20 07:00:00         319.36         319.49         318.81   \n",
            "54    2021-12-20 06:45:00          319.3          319.3          319.3   \n",
            "55    2021-12-20 06:30:00         318.98         318.98         318.98   \n",
            "...                   ...            ...            ...            ...   \n",
            "2528  2021-10-22 05:15:00  310.282722082  310.282722082  310.232813328   \n",
            "2529  2021-10-22 05:00:00  310.232813328  310.582174604  310.232813328   \n",
            "2530  2021-10-22 04:45:00  310.152959322  310.152959322  310.152959322   \n",
            "2531  2021-10-22 04:30:00   310.13299582   310.13299582  309.893433802   \n",
            "2532  2021-10-22 04:15:00  309.703780538  309.703780538  309.703780538   \n",
            "\n",
            "0             close  volume  BollingerBand_Upper  BollingerBand_Lower  \\\n",
            "51           319.65   16688           320.464611           318.189089   \n",
            "52           319.86    8095           320.378325           318.225375   \n",
            "53           319.49    3107           320.297563           318.230137   \n",
            "54            319.3     210           320.305445           318.302255   \n",
            "55           318.98     198           320.232091           318.463609   \n",
            "...             ...     ...                  ...                  ...   \n",
            "2528  310.232813328    1374           310.640570           310.150462   \n",
            "2529  310.232813328    6407           310.626876           310.114247   \n",
            "2530  310.152959322     291           310.551446           310.097845   \n",
            "2531  309.893433802     551           310.525173           310.058238   \n",
            "2532  309.703780538     899           310.627677           309.804012   \n",
            "\n",
            "0     SimpleMovingAverage50  SimpleMovingAverage30  SimpleMovingAverage20  \\\n",
            "51               319.834298             319.310830             319.504750   \n",
            "52               319.797498             319.336497             319.533250   \n",
            "53               319.746698             319.334163             319.595250   \n",
            "54               319.696498             319.351830             319.641750   \n",
            "55               319.639898             319.353830             319.668750   \n",
            "...                     ...                    ...                    ...   \n",
            "2528             309.212952             309.611589             310.141440   \n",
            "2529             309.250683             309.655509             310.203327   \n",
            "2530             309.286817             309.719059             310.259475   \n",
            "2531             309.322552             309.796251             310.283930   \n",
            "2532             309.348704             309.862464             310.277442   \n",
            "\n",
            "0     SimpleMovingAverage10  \n",
            "51               319.326850  \n",
            "52               319.301850  \n",
            "53               319.263850  \n",
            "54               319.303850  \n",
            "55               319.347850  \n",
            "...                     ...  \n",
            "2528             310.395516  \n",
            "2529             310.370561  \n",
            "2530             310.324645  \n",
            "2531             310.291706  \n",
            "2532             310.215844  \n",
            "\n",
            "[2480 rows x 12 columns]\n",
            "0                    time           open           high            low  \\\n",
            "51    2021-12-20 07:30:00         271.63         271.68         270.61   \n",
            "52    2021-12-20 07:15:00         271.37         272.47         271.03   \n",
            "53    2021-12-20 07:00:00          270.5         271.28          270.5   \n",
            "54    2021-12-20 06:45:00          270.6          271.6          270.5   \n",
            "55    2021-12-20 06:30:00         270.48         270.52          269.8   \n",
            "...                   ...            ...            ...            ...   \n",
            "2592  2021-10-22 05:15:00  227.761018162  227.980990171  227.761018162   \n",
            "2593  2021-10-22 05:00:00  227.601038519  227.601038519  227.601038519   \n",
            "2594  2021-10-22 04:45:00  227.970991444  228.170965998  227.821010528   \n",
            "2595  2021-10-22 04:30:00  227.341071599  227.990988899  227.341071599   \n",
            "2596  2021-10-22 04:15:00  227.211088139  227.471055059  226.591167022   \n",
            "\n",
            "0             close  volume  BollingerBand_Upper  BollingerBand_Lower  \\\n",
            "51           270.91   43025           273.532536           268.262744   \n",
            "52           271.65   82689           272.933601           268.525679   \n",
            "53            271.2   16294           272.802500           268.482780   \n",
            "54           270.54    9998           272.817168           268.582832   \n",
            "55            270.5   10256           272.632700           269.053300   \n",
            "...             ...     ...                  ...                  ...   \n",
            "2592  227.980990171    1755           229.879822           227.326000   \n",
            "2593  227.601038519     194           229.839913           227.079945   \n",
            "2594  227.821010528    2604           229.620276           227.043615   \n",
            "2595  227.970991444    3467           229.394415           226.889525   \n",
            "2596  227.471055059    2975           229.030906           226.841086   \n",
            "\n",
            "0     SimpleMovingAverage50  SimpleMovingAverage30  SimpleMovingAverage20  \\\n",
            "51               275.788378             273.673627             273.694315   \n",
            "52               275.590178             273.576297             273.523835   \n",
            "53               275.370178             273.415630             273.376585   \n",
            "54               275.151778             273.286963             273.206590   \n",
            "55               274.927378             273.159463             272.987570   \n",
            "...                     ...                    ...                    ...   \n",
            "2592             228.245686             228.677675             228.884875   \n",
            "2593             228.258085             228.712170             228.767390   \n",
            "2594             228.278082             228.756665             228.637407   \n",
            "2595             228.285481             228.781328             228.594412   \n",
            "2596             228.284482             228.805992             228.501424   \n",
            "\n",
            "0     SimpleMovingAverage10  \n",
            "51               270.897640  \n",
            "52               270.729640  \n",
            "53               270.642640  \n",
            "54               270.700000  \n",
            "55               270.843000  \n",
            "...                     ...  \n",
            "2592             228.602911  \n",
            "2593             228.459929  \n",
            "2594             228.331946  \n",
            "2595             228.141970  \n",
            "2596             227.935996  \n",
            "\n",
            "[2544 rows x 12 columns]\n"
          ]
        }
      ]
    },
    {
      "cell_type": "markdown",
      "source": [
        "**Uploading the data to MYSQL version 5.7 on GFS**"
      ],
      "metadata": {
        "id": "CsIN911q3t1w"
      }
    },
    {
      "cell_type": "code",
      "source": [
        "#Defining the connection parameters for connecting to GFS MYSQL database \n",
        "#note that SSL Tokens which have been provided must be added into ssl folder or the path must be adapted \n",
        "#for remote login to the database \n",
        "import mysql.connector\n",
        "from mysql.connector.constants import ClientFlag\n",
        "\n",
        "config = {\n",
        "    'user': 'root',\n",
        "    'password': 'Bobby@Clarke1',\n",
        "    'host': '34.142.43.249',\n",
        "    'client_flags': [ClientFlag.SSL],\n",
        "    'ssl_ca': 'ssl/server-ca.pem',\n",
        "    'ssl_cert': 'ssl/client-cert.pem',\n",
        "    'ssl_key': 'ssl/client-key.pem'\n",
        "}\n",
        "try:\n",
        "  cnxn = mysql.connector.connect(**config)   \n",
        "except :\n",
        "  print('There was an error with login please check password and username or SSL Certs are correctly implemented')"
      ],
      "metadata": {
        "id": "j7HlkYfQ6Pyr"
      },
      "execution_count": null,
      "outputs": []
    },
    {
      "cell_type": "code",
      "source": [
        "#Used to create the stock table in the database initially, unnecessary to recreate as all data will be \n",
        "#stored on tables within this database\n",
        "\"\"\"cursor = cnxn.cursor()\n",
        "for i in ticker_list:\n",
        "  cursor.execute('CREATE DATABASE stockdata' )\n",
        "cnxn.close()\"\"\""
      ],
      "metadata": {
        "id": "iFQbFjoZ87NH",
        "colab": {
          "base_uri": "https://localhost:8080/",
          "height": 35
        },
        "outputId": "cf1c4722-0d5f-4dbd-a276-88e85e613549"
      },
      "execution_count": null,
      "outputs": [
        {
          "output_type": "execute_result",
          "data": {
            "application/vnd.google.colaboratory.intrinsic+json": {
              "type": "string"
            },
            "text/plain": [
              "\"cursor = cnxn.cursor()\\nfor i in ticker_list:\\n  cursor.execute('CREATE DATABASE stockdata' )\\ncnxn.close()\""
            ]
          },
          "metadata": {},
          "execution_count": 294
        }
      ]
    },
    {
      "cell_type": "code",
      "source": [
        "#Updating Config to include the database we are targetting \n",
        "config['database'] = 'stockdata'"
      ],
      "metadata": {
        "id": "6nAsc4D109T9"
      },
      "execution_count": null,
      "outputs": []
    },
    {
      "cell_type": "code",
      "source": [
        "#Setting up cursor and connection using already defined config \n",
        "cnxn = mysql.connector.connect(**config)\n",
        "cursor = cnxn.cursor(buffered=True)\n"
      ],
      "metadata": {
        "id": "xPSt4kiBy2pZ"
      },
      "execution_count": null,
      "outputs": []
    },
    {
      "cell_type": "code",
      "source": [
        "#Cleaning some old data and can be used in case of table needing to be dropped\n",
        "\n",
        "#cursor.execute(\"DROP TABLE IF EXISTS NVDA;\")\n",
        "#cnxn.commit()\n"
      ],
      "metadata": {
        "id": "-y2zHsYpTYID"
      },
      "execution_count": null,
      "outputs": []
    },
    {
      "cell_type": "code",
      "source": [
        "#Creating a table named after the ticker for each value of ticker_list\n",
        "for i in ticker_list:\n",
        "  try:\n",
        "      cursor.execute(\"CREATE TABLE \" + i + \" (\"\n",
        "                  \"time VARCHAR(255),\"\n",
        "                  \"open VARCHAR(255),\"\n",
        "                  \"high VARCHAR(255),\"\n",
        "                  \"low VARCHAR(255),\"\n",
        "                  \"close VARCHAR(255),\"\n",
        "                  \"volume VARCHAR(255),\"\n",
        "                  \"BollingerBand_Upper VARCHAR(255),\"\n",
        "                  \"BollingerBand_Lower VARCHAR(255),\"\n",
        "                  \"SimpleMovingAverage50 VARCHAR(255), \"\n",
        "                  \"SimpleMovingAverage30 VARCHAR(255), \"\n",
        "                  \"SimpleMovingAverage20 VARCHAR(255), \"\n",
        "                  \"SimpleMovingAverage10 VARCHAR(255) )\")\n",
        "\n",
        "      cnxn.commit()\n",
        "  except:\n",
        "    print(\"Something went wrong with \" + i +\" continuing through the list\")\n",
        "    print(\"Please check if table exists\")\n",
        "    pass"
      ],
      "metadata": {
        "id": "Tq7vYy95z635"
      },
      "execution_count": null,
      "outputs": []
    },
    {
      "cell_type": "code",
      "source": [
        "#Showing tables to ensure that creation was succussful or that the tables already existed\n",
        "cursor.execute(\"SHOW TABLES\")\n",
        "cnxn.commit()\n",
        "for table_name in cursor:\n",
        "   print(table_name)\n",
        "   \n"
      ],
      "metadata": {
        "colab": {
          "base_uri": "https://localhost:8080/"
        },
        "id": "iZmtWrLCYkjK",
        "outputId": "955a7aba-3b39-4cc8-e6fe-7931e3017405"
      },
      "execution_count": null,
      "outputs": [
        {
          "output_type": "stream",
          "name": "stdout",
          "text": [
            "('AAPL',)\n",
            "('MSFT',)\n",
            "('NVDA',)\n",
            "('WDAY',)\n"
          ]
        }
      ]
    },
    {
      "cell_type": "code",
      "source": [
        "#Adding in a check to see if the latest stock data matches the last update time for database data\n",
        "#Then removing any that have the same last update \n",
        "to_be_removed = []\n",
        "for i in ticker_list:\n",
        "  cursor.execute(\"SELECT * FROM \" + i +\" LIMIT 1;\")\n",
        "  result = cursor.fetchall()\n",
        "  last_df_time = ticker_dict[i]['time'].iloc[0]\n",
        "  last_db_time=result[0][0]\n",
        "  if (last_df_time == last_db_time):\n",
        "    print(i + \" data is up to date removing from update list\")\n",
        "    to_be_removed.append(i)\n",
        "for i in to_be_removed:\n",
        "  ticker_list.remove(i)\n",
        "if len(ticker_list) == 0: \n",
        "  print('All stock data up to date, please refrain from updating the database')"
      ],
      "metadata": {
        "colab": {
          "base_uri": "https://localhost:8080/"
        },
        "id": "wxi-JFOD5ol5",
        "outputId": "88208089-db85-4df2-db4a-3fa60029014e"
      },
      "execution_count": null,
      "outputs": [
        {
          "output_type": "stream",
          "name": "stdout",
          "text": [
            "All stock data up to date, please refrain from updating the database\n"
          ]
        }
      ]
    },
    {
      "cell_type": "code",
      "source": [
        ""
      ],
      "metadata": {
        "id": "SitMP5upB7An"
      },
      "execution_count": null,
      "outputs": []
    },
    {
      "cell_type": "code",
      "source": [
        "print(ticker_list)"
      ],
      "metadata": {
        "colab": {
          "base_uri": "https://localhost:8080/"
        },
        "id": "HjOr2KIN-9vs",
        "outputId": "6ae6df1d-c718-418a-9e17-a0fbb24a8f5c"
      },
      "execution_count": null,
      "outputs": [
        {
          "output_type": "stream",
          "name": "stdout",
          "text": [
            "['MSFT', 'NVDA']\n"
          ]
        }
      ]
    },
    {
      "cell_type": "code",
      "source": [
        "#Updating the database itself with the data gathered from the API call\n",
        "\n",
        "for i in ticker_list:\n",
        "  query = (\"INSERT INTO \" + i + \" ( time, open, high, low, close, volume, BollingerBand_Upper, BollingerBand_Lower, SimpleMovingAverage50, SimpleMovingAverage30, SimpleMovingAverage20, SimpleMovingAverage10)\"\n",
        "          \"VALUES (%s, %s, %s, %s, %s, %s, %s, %s, %s, %s, %s, %s)\")\n",
        "  string_dataframe = ticker_dict[i].astype(str)\n",
        "  for line in string_dataframe.to_records(index=False):\n",
        "    line=list(line)\n",
        "    cursor.execute(query, line)\n",
        "  cnxn.commit()  \n",
        "  print(\"Records inserted in \" + i + \" table\")"
      ],
      "metadata": {
        "colab": {
          "base_uri": "https://localhost:8080/"
        },
        "id": "TbSTXivha8WG",
        "outputId": "76444b90-7f53-4071-c805-151311e223a7"
      },
      "execution_count": null,
      "outputs": [
        {
          "output_type": "stream",
          "name": "stdout",
          "text": [
            "Records inserted in MSFT table\n",
            "Records inserted in NVDA table\n"
          ]
        }
      ]
    },
    {
      "cell_type": "code",
      "source": [
        "#Printing the output of the table updaet\n",
        "for i in ticker_list:\n",
        "  cursor.execute(\"SELECT * FROM \" + i +\" LIMIT 5;\")\n",
        "  result = cursor.fetchall()\n",
        "  print(i)\n",
        "  for x in result:\n",
        "    print(x)"
      ],
      "metadata": {
        "id": "srjLzKK6taOp"
      },
      "execution_count": null,
      "outputs": []
    },
    {
      "cell_type": "code",
      "source": [
        ""
      ],
      "metadata": {
        "id": "lhm9vc1tvSBi"
      },
      "execution_count": null,
      "outputs": []
    }
  ]
}