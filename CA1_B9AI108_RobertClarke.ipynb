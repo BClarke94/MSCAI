{
  "nbformat": 4,
  "nbformat_minor": 0,
  "metadata": {
    "colab": {
      "name": "CA1-B9AI108-RobertClarke.ipynb",
      "provenance": [],
      "collapsed_sections": [],
      "authorship_tag": "ABX9TyM2w8KGb7ocQcLoYk6hKByF",
      "include_colab_link": true
    },
    "kernelspec": {
      "name": "python3",
      "display_name": "Python 3"
    },
    "language_info": {
      "name": "python"
    }
  },
  "cells": [
    {
      "cell_type": "markdown",
      "metadata": {
        "id": "view-in-github",
        "colab_type": "text"
      },
      "source": [
        "<a href=\"https://colab.research.google.com/github/BClarke94/MSCAI/blob/main/CA1_B9AI108_RobertClarke.ipynb\" target=\"_parent\"><img src=\"https://colab.research.google.com/assets/colab-badge.svg\" alt=\"Open In Colab\"/></a>"
      ]
    },
    {
      "cell_type": "markdown",
      "metadata": {
        "id": "kxMtQF-646Cb"
      },
      "source": [
        "https://colab.research.google.com/drive/1ypomadPPtcGKGy1VDwZWlX1d2F4ttDQx?usp=sharing\n",
        "\n",
        "Robert Clarke 10596311\n",
        "\n",
        "10596311@mydbs.ie\n",
        "\n",
        "B9AI108 Project 1 Submission\n",
        "\n",
        "Definitive version: "
      ]
    },
    {
      "cell_type": "code",
      "metadata": {
        "colab": {
          "base_uri": "https://localhost:8080/"
        },
        "id": "CgwycOcs4-YO",
        "outputId": "4c71baf3-7dee-43b0-ca9c-7ebb0fb26c6e"
      },
      "source": [
        "empH=open('employees.txt','w+')\n",
        "empH.write(\"\"\"12345 Green Joe 37 16 1.5 70 700\n",
        "24689 Laird Paul 20 8 2 70 700\n",
        "\n",
        "58151 Lewinski Monica 37 16 1.5 700 700 \n",
        "62223 Potter Harry 37 100 1.5 700 700\n",
        "\"\"\"\n",
        ")\n",
        "empH.close\n",
        "hours = open('hours.txt','w+')\n",
        "hours.write(\"\"\"12345 31/10/2021 42\n",
        "24689 31/10/2021 10\n",
        "58151 31/10/2021 50\n",
        "62223 31/10/2021 5\n",
        "\"\"\")\n",
        "hours.close"
      ],
      "execution_count": null,
      "outputs": [
        {
          "output_type": "execute_result",
          "data": {
            "text/plain": [
              "<function TextIOWrapper.close>"
            ]
          },
          "metadata": {},
          "execution_count": 1
        }
      ]
    },
    {
      "cell_type": "code",
      "metadata": {
        "id": "DLw6pG4Q5Gau"
      },
      "source": [
        "class employee:\n",
        "  def __init__(self, empID, secondName, firstName, RegHours, HourlyRate, OTMultiple, TaxCredit, StandardBand):\n",
        "    self.__empID = empID\n",
        "    self.__name = firstName + ' ' +secondName\n",
        "    self.__RegHours = RegHours\n",
        "    self.__HourlyRate = HourlyRate\n",
        "    self.__OTMultiple = OTMultiple\n",
        "    self.__TaxCredit = TaxCredit\n",
        "    self.__StandardBand = StandardBand\n",
        "  def getName(self):\n",
        "    return self.__name\n",
        "  def getEmpID(self):\n",
        "    return self.__empID\n",
        "  def getRegHours(self):\n",
        "    return self.__RegHours \n",
        "  def getHourlyRate(self):\n",
        "    return self.__HourlyRate\n",
        "  def getOTMultiple(self):\n",
        "    return self.__OTMultiple\n",
        "  def getTaxCredit(self):\n",
        "    return self.__TaxCredit \n",
        "  def getStandardBand(self):\n",
        "    return self.__StandardBand\n",
        "  def getPayment(self, hoursWorked, date):\n",
        "    paySlip = {}    \n",
        "#Ensuring necessary inputs are in the right form    \n",
        "    try:\n",
        "      regHours = int(self.getRegHours())\n",
        "      hoursWorked = int(hoursWorked) \n",
        "      if hoursWorked < regHours:\n",
        "        regHours = hoursWorked\n",
        "      \n",
        "      hourlyRate, otMulti, standardTaxB, taxCredits = float(self.getHourlyRate()), float(self.getOTMultiple()), float(self.getStandardBand()), float(self.getTaxCredit())\n",
        "\n",
        "#Calculating the extra variables needed for the payslip creation\n",
        "#zeroCheck is a function defined below that will assign varible to 0 if it's a negative in a place where that isn't allowed \n",
        "      OvertimeH = zeroCheck(hoursWorked - regHours) \n",
        "      regularPay= regHours * hourlyRate\n",
        "      overtimeRate = hourlyRate * otMulti\n",
        "      pay = round(regHours * hourlyRate, 2)\n",
        "      overtimePay= OvertimeH * overtimeRate\n",
        "      grossPay = overtimePay + pay\n",
        "      higherPay = zeroCheck(grossPay - standardTaxB)\n",
        "      standardPay = grossPay - higherPay\n",
        "      standardTax = round(standardPay * .2, 2)\n",
        "      higherTax = round(higherPay * .4, 2)\n",
        "      totalTax = higherTax + standardTax\n",
        "      netDeductions = zeroCheck(round(totalTax - taxCredits, 2))\n",
        "      netPay = zeroCheck(grossPay - netDeductions)\n",
        "      \n",
        "#Creating Payslip Dict to be returned\n",
        "      paySlip = {'Name':self.getName(),\n",
        "                'Date': date,\n",
        "                'Regular Hours':regHours, \n",
        "                'Overtime Hours':OvertimeH,\n",
        "                'Regular Rate':hourlyRate,\n",
        "                'Overtime Rate': overtimeRate,\n",
        "                'Regular Pay': regularPay,\n",
        "                'Overtime Pay': overtimePay,\n",
        "                'Gross Pay':grossPay,\n",
        "                'Standard Rate Pay':standardTaxB,\n",
        "                'Higher Rate Pay':higherPay,\n",
        "                'Standard Tax': standardTax,\n",
        "                'Higher Tax': higherTax,\n",
        "                'Total Tax': totalTax,\n",
        "                'Tax Credit': taxCredits,\n",
        "                'Net Deductions': netDeductions,\n",
        "                'Net Pay': netPay\n",
        "                }\n",
        "    \n",
        "      return paySlip\n",
        "    except:\n",
        "      errorMess = \"There was an error calculating payment for\", self.getEmpID(), \"Please check input\"\n",
        "      paySlip = {'Error': errorMess }\n",
        "      return paySlip\n",
        "\n",
        "def zeroCheck(numCheck):\n",
        "  if numCheck < 0:\n",
        "    return 0\n",
        "  else:\n",
        "    return numCheck "
      ],
      "execution_count": null,
      "outputs": []
    },
    {
      "cell_type": "code",
      "metadata": {
        "colab": {
          "base_uri": "https://localhost:8080/"
        },
        "id": "rNbQKk2A5bRd",
        "outputId": "1cd9e450-e94d-463f-e5c5-14a40a29d332"
      },
      "source": [
        "empH.seek(0)\n",
        "hours.seek(0)\n",
        "employeeIDDict = {}\n",
        "hoursDict = {}\n",
        "PayslipList = []\n",
        "\n",
        "#Reading in Employee payment and tax information \n",
        "for line in empH:\n",
        "  if line == '' or line == '\\n' :\n",
        "    continue  \n",
        "  try:\n",
        "    empID, secondName, firstName, RegHours, HourlyRate, OTMultiple, TaxCredit, StandardBand = line.split()\n",
        "  except(ValueError):\n",
        "    print('There was an issue with improper data entry detected on: ' + line )\n",
        "    continue\n",
        "  empKey = str(empID)  \n",
        "  employeeIDDict[empKey] = employee(empID, secondName, firstName, RegHours, HourlyRate, OTMultiple, TaxCredit, StandardBand)\n",
        "#Reading in the Hours file with employee information\n",
        "for line in hours: \n",
        "  id, date, hoursW =line.split()\n",
        "  hoursWorked={'EmployeeID':id, 'Date':date, 'Hours':hoursW}\n",
        "  hoursDict[id] = hoursWorked\n",
        "\n",
        "#Updated to use searching from Dict built in to increase speed\n",
        "#Adding hours and Employee information together to get the payslip information \n",
        "for e in employeeIDDict:\n",
        "  e1 = employeeIDDict[e]\n",
        "  eID = e1.getEmpID()\n",
        "  try:\n",
        "    if eID == hoursDict[e]['EmployeeID']:\n",
        "        paySlip = {hoursDict[e]['EmployeeID']:e1.getPayment(int(hoursDict[e]['Hours']), hoursDict[e]['Date'])}       \n",
        "        PayslipList.append(paySlip)\n",
        "  except:\n",
        "    print(\"There was an issue with\", e1.getEmpID(), e1.getName(), \"please verify data input\")\n",
        "    continue \n",
        "\n",
        "count = 0    \n",
        "for x in PayslipList:\n",
        "  print(PayslipList[count])\n",
        "  count +=1  "
      ],
      "execution_count": null,
      "outputs": [
        {
          "output_type": "stream",
          "name": "stdout",
          "text": [
            "{'12345': {'Name': 'Joe Green', 'Date': '31/10/2021', 'Regular Hours': 37, 'Overtime Hours': 5, 'Regular Rate': 16.0, 'Overtime Rate': 24.0, 'Regular Pay': 592.0, 'Overtime Pay': 120.0, 'Gross Pay': 712.0, 'Standard Rate Pay': 700.0, 'Higher Rate Pay': 12.0, 'Standard Tax': 140.0, 'Higher Tax': 4.8, 'Total Tax': 144.8, 'Tax Credit': 70.0, 'Net Deductions': 74.8, 'Net Pay': 637.2}}\n",
            "{'24689': {'Name': 'Paul Laird', 'Date': '31/10/2021', 'Regular Hours': 10, 'Overtime Hours': 0, 'Regular Rate': 8.0, 'Overtime Rate': 16.0, 'Regular Pay': 80.0, 'Overtime Pay': 0.0, 'Gross Pay': 80.0, 'Standard Rate Pay': 700.0, 'Higher Rate Pay': 0, 'Standard Tax': 16.0, 'Higher Tax': 0.0, 'Total Tax': 16.0, 'Tax Credit': 70.0, 'Net Deductions': 0, 'Net Pay': 80.0}}\n",
            "{'58151': {'Name': 'Monica Lewinski', 'Date': '31/10/2021', 'Regular Hours': 37, 'Overtime Hours': 13, 'Regular Rate': 16.0, 'Overtime Rate': 24.0, 'Regular Pay': 592.0, 'Overtime Pay': 312.0, 'Gross Pay': 904.0, 'Standard Rate Pay': 700.0, 'Higher Rate Pay': 204.0, 'Standard Tax': 140.0, 'Higher Tax': 81.6, 'Total Tax': 221.6, 'Tax Credit': 700.0, 'Net Deductions': 0, 'Net Pay': 904.0}}\n",
            "{'62223': {'Name': 'Harry Potter', 'Date': '31/10/2021', 'Regular Hours': 5, 'Overtime Hours': 0, 'Regular Rate': 100.0, 'Overtime Rate': 150.0, 'Regular Pay': 500.0, 'Overtime Pay': 0.0, 'Gross Pay': 500.0, 'Standard Rate Pay': 700.0, 'Higher Rate Pay': 0, 'Standard Tax': 100.0, 'Higher Tax': 0.0, 'Total Tax': 100.0, 'Tax Credit': 700.0, 'Net Deductions': 0, 'Net Pay': 500.0}}\n"
          ]
        }
      ]
    },
    {
      "cell_type": "code",
      "metadata": {
        "colab": {
          "base_uri": "https://localhost:8080/"
        },
        "id": "SxP1Dwi55UGz",
        "outputId": "af902efa-287c-4240-d0fc-e0396e768bb7"
      },
      "source": [
        "import unittest\n",
        "class payrollTesting(unittest.TestCase):\n",
        "  def testOvertimePayPositive(self):\n",
        "    JG=employee(12345, 'Green', 'Joe', '37', '16', '1.5', '70', '700')\n",
        "    payslip=JG.getPayment(4, '31/40/1840')\n",
        "    self.assertGreaterEqual(payslip['Overtime Pay'], 0)\n",
        "  def testNetVGross(self):\n",
        "    JG=employee(12345, 'Green', 'Joe', '37', '16', '1.5', '7000', '700')\n",
        "    payslip=JG.getPayment(0, '31/40/1840')\n",
        "    self.assertLessEqual(payslip['Net Pay'],payslip['Gross Pay'])\n",
        "  def testNetPayPositive(self):\n",
        "    JG=employee(12345, 'Green', 'Joe', '37', '16', '1.5', '-7000', '700')\n",
        "    payslip=JG.getPayment(1, '31/40/1840')\n",
        "    self.assertGreaterEqual(payslip['Net Pay'], 0)\n",
        "  def testHighTaxPositive(self):\n",
        "    JG=employee(12345, 'Green', 'Joe', '37', '16', '1.5', '70', '700')\n",
        "    payslip=JG.getPayment(4, '31/40/1840')\n",
        "    self.assertGreaterEqual(payslip['Higher Rate Pay'], 0)\n",
        "  def testOvertimeHoursPositive(self):\n",
        "    JG=employee(12345, 'Green', 'Joe', '37', '16', '1.5', '70', '700')\n",
        "    payslip=JG.getPayment(4, '31/40/1840')\n",
        "    self.assertGreaterEqual(payslip['Overtime Hours'], 0)\n",
        "  def testRegHoursHoursWorked(self):\n",
        "    JG=employee(12345, 'Green', 'Joe', '37', '16', '1.5', '70', '700')\n",
        "    payslip=JG.getPayment(4, '31/40/1840')\n",
        "    self.assertLessEqual(payslip['Regular Hours'], 4)\n",
        "  def testNetPayCorrect(self):\n",
        "    JG=employee(12345, 'Green', 'Joe', '37', '16', '1.5', '70', '700')\n",
        "    payslip=JG.getPayment(42, '31/40/1840')\n",
        "    self.assertEqual(payslip['Net Pay'], 637.2)\n",
        "  def testStandardTax(self):  \n",
        "    JG = employee(12345, 'Green', 'Joe', '37', '16', '1.5', '70', '700')\n",
        "    payslip=JG.getPayment(42, '31/40/1840')\n",
        "    self.assertEqual(payslip['Standard Tax'], 140)\n",
        "  def testTotalTax(self):\n",
        "    JG = employee(12345, 'Green', 'Joe', '37', '16', '1.5', '70', '700')\n",
        "    payslip=JG.getPayment(42, '31/40/1840')\n",
        "    self.assertEqual(payslip['Total Tax'], 144.8)\n",
        "  def testDate(self):\n",
        "    JG = employee(12345, 'Green', 'Joe', '37', '16', '1.5', '70', '700')\n",
        "    payslip=JG.getPayment(42, '31/40/1840')\n",
        "    self.assertEqual(payslip['Date'], '31/40/1840')   \n",
        "  def testOvertimeRate(self):\n",
        "    JG = employee(12345, 'Green', 'Joe', '37', '16', '1.5', '70', '700')\n",
        "    payslip=JG.getPayment(42, '31/40/1840')\n",
        "    self.assertEqual(payslip['Overtime Rate'], 24)\n",
        "  def testDataInput(self):\n",
        "    JG = employee(12345, 'Green', 'Joe', 'pancake', '16', '1.5', '70', '700')\n",
        "    payslip=JG.getPayment(42, '31/40/1840')\n",
        "    self.assertEqual(payslip['Error'], ('There was an error calculating payment for', 12345, 'Please check input'))\n",
        "unittest.main(argv=['first-arg-is-ignored'], exit=False)"
      ],
      "execution_count": null,
      "outputs": [
        {
          "output_type": "stream",
          "name": "stderr",
          "text": [
            "............\n",
            "----------------------------------------------------------------------\n",
            "Ran 12 tests in 0.021s\n",
            "\n",
            "OK\n"
          ]
        },
        {
          "output_type": "execute_result",
          "data": {
            "text/plain": [
              "<unittest.main.TestProgram at 0x7f8645c8e590>"
            ]
          },
          "metadata": {},
          "execution_count": 43
        }
      ]
    }
  ]
}