{
  "nbformat": 4,
  "nbformat_minor": 0,
  "metadata": {
    "colab": {
      "name": "C2-MLPR-RobertClarke.ipynb",
      "provenance": [],
      "collapsed_sections": [],
      "include_colab_link": true
    },
    "kernelspec": {
      "name": "python3",
      "display_name": "Python 3"
    },
    "language_info": {
      "name": "python"
    }
  },
  "cells": [
    {
      "cell_type": "markdown",
      "metadata": {
        "id": "view-in-github",
        "colab_type": "text"
      },
      "source": [
        "<a href=\"https://colab.research.google.com/github/BClarke94/MSCAI/blob/main/Multiple-ML-Models-and-methods.ipynb\" target=\"_parent\"><img src=\"https://colab.research.google.com/assets/colab-badge.svg\" alt=\"Open In Colab\"/></a>"
      ]
    },
    {
      "cell_type": "markdown",
      "source": [
        "**Continous Assessment 2 Machine Learning and Pattern Recognition**\n",
        "\n",
        "---\n",
        "\n",
        "\n",
        "\n",
        "\n",
        "Robert Clarke-10596311 \n",
        "\n",
        "Link:\n",
        "https://colab.research.google.com/drive/1NI1ROTI_Dhp564bbW-KsAAmoVqMMlPIj?usp=sharing"
      ],
      "metadata": {
        "id": "ZVcbL3hLBmR4"
      }
    },
    {
      "cell_type": "markdown",
      "source": [
        "Question 1 B \n",
        "\n",
        "Data Prep"
      ],
      "metadata": {
        "id": "g2sGc0oCHfYV"
      }
    },
    {
      "cell_type": "code",
      "source": [
        "import csv\n",
        "import warnings\n",
        "warnings.filterwarnings(\"ignore\")\n",
        "import pandas as pd\n",
        "import numpy as np\n",
        "from sklearn.tree import DecisionTreeClassifier\n",
        "dtree = DecisionTreeClassifier(criterion='gini')"
      ],
      "metadata": {
        "id": "tTs22JWm8Xih"
      },
      "execution_count": null,
      "outputs": []
    },
    {
      "cell_type": "code",
      "source": [
        "df.value_counts('is_canceled')\n",
        "#Ratio is 0.37041628277 of type 1"
      ],
      "metadata": {
        "colab": {
          "base_uri": "https://localhost:8080/"
        },
        "id": "2pK5neLaPW0M",
        "outputId": "0e8585a1-e4c1-4e02-fdb5-3ee19778dccc"
      },
      "execution_count": null,
      "outputs": [
        {
          "output_type": "execute_result",
          "data": {
            "text/plain": [
              "is_canceled\n",
              "0    75166\n",
              "1    44224\n",
              "dtype: int64"
            ]
          },
          "metadata": {},
          "execution_count": 16
        }
      ]
    },
    {
      "cell_type": "code",
      "source": [
        "df = pd.read_csv(\"hotel_booking.csv\")\n",
        "#Replacing Months with a variable representing said month \n",
        "df.loc[df['arrival_date_month'] == 'January', 'arrival_date_month'] = 1\n",
        "df.loc[df['arrival_date_month'] == 'February', 'arrival_date_month'] = 2\n",
        "df.loc[df['arrival_date_month'] == 'March', 'arrival_date_month'] = 3\n",
        "df.loc[df['arrival_date_month'] == 'April', 'arrival_date_month'] = 4\n",
        "df.loc[df['arrival_date_month'] == 'May', 'arrival_date_month'] = 5\n",
        "df.loc[df['arrival_date_month'] == 'June', 'arrival_date_month'] = 6\n",
        "df.loc[df['arrival_date_month'] == 'July', 'arrival_date_month'] = 7\n",
        "df.loc[df['arrival_date_month'] == 'August', 'arrival_date_month'] = 8\n",
        "df.loc[df['arrival_date_month'] == 'September', 'arrival_date_month'] = 9\n",
        "df.loc[df['arrival_date_month'] == 'October', 'arrival_date_month'] = 10\n",
        "df.loc[df['arrival_date_month'] == 'November', 'arrival_date_month'] = 11\n",
        "df.loc[df['arrival_date_month'] == 'December', 'arrival_date_month'] = 12\n",
        "#Replacing hotel type with binary variable\n",
        "df.loc[df['hotel'] == 'City Hotel', 'hotel'] = 0\n",
        "df.loc[df['hotel'] == 'Resort Hotel', 'hotel'] = 1\n",
        "#Dropping Company column as most entries are empty\n",
        "df =df.drop(['company'],axis=1)\n",
        "#If there is no response for children then defaulting to 0 \n",
        "df['children'] = df['children'].fillna(0)\n",
        "df['agent'] = df['agent'].fillna(1)"
      ],
      "metadata": {
        "id": "IBBwzbaruMVe"
      },
      "execution_count": null,
      "outputs": []
    },
    {
      "cell_type": "code",
      "source": [
        "X = df.drop(['is_canceled'], axis=1)\n",
        "y = df['is_canceled']\n"
      ],
      "metadata": {
        "id": "3Hr-IUYKCeoV"
      },
      "execution_count": null,
      "outputs": []
    },
    {
      "cell_type": "markdown",
      "source": [
        "Feature Selection"
      ],
      "metadata": {
        "id": "5ufmlRr_HmyZ"
      }
    },
    {
      "cell_type": "code",
      "source": [
        "from sklearn.feature_selection import SelectFromModel\n",
        "dtree.fit(X, y)\n",
        "model = SelectFromModel(dtree, prefit=True)\n",
        "X_new = model.transform(X)\n",
        "X_new.shape"
      ],
      "metadata": {
        "colab": {
          "base_uri": "https://localhost:8080/"
        },
        "id": "oPPlCX58ZwYC",
        "outputId": "ea4d4d64-a0bc-4232-b9eb-2647fab3750e"
      },
      "execution_count": null,
      "outputs": [
        {
          "output_type": "execute_result",
          "data": {
            "text/plain": [
              "(119390, 7)"
            ]
          },
          "metadata": {},
          "execution_count": 6
        }
      ]
    },
    {
      "cell_type": "code",
      "source": [
        "from imblearn.under_sampling import RandomUnderSampler\n",
        "undersample = RandomUnderSampler(sampling_strategy='majority')\n",
        "X_under, y_under = undersample.fit_resample(X_new, y)\n",
        "y_under.value_counts('is_canceled')"
      ],
      "metadata": {
        "colab": {
          "base_uri": "https://localhost:8080/"
        },
        "id": "-7W1ytP1BPwy",
        "outputId": "b52bc902-b2c3-4016-ff68-fbc3ed43eb69"
      },
      "execution_count": null,
      "outputs": [
        {
          "output_type": "execute_result",
          "data": {
            "text/plain": [
              "1    0.5\n",
              "0    0.5\n",
              "Name: is_canceled, dtype: float64"
            ]
          },
          "metadata": {},
          "execution_count": 7
        }
      ]
    },
    {
      "cell_type": "markdown",
      "source": [
        "Importing Models"
      ],
      "metadata": {
        "id": "r3N9fSbUHtNf"
      }
    },
    {
      "cell_type": "code",
      "source": [
        "\n",
        "from sklearn.naive_bayes import GaussianNB, CategoricalNB, MultinomialNB, BernoulliNB\n",
        "gnb = GaussianNB()\n",
        "cnb = CategoricalNB()\n",
        "mnb = MultinomialNB()\n",
        "bnb = BernoulliNB()\n",
        "from sklearn.linear_model import LogisticRegression\n",
        "logR = LogisticRegression()\n",
        "from sklearn.neighbors import KNeighborsClassifier\n",
        "knn = KNeighborsClassifier(n_neighbors=5)\n",
        "from sklearn.model_selection import train_test_split\n",
        "from sklearn.tree import DecisionTreeClassifier\n",
        "from sklearn.metrics import accuracy_score, recall_score, precision_score\n",
        "dtree = DecisionTreeClassifier(criterion='gini')\n",
        "from sklearn.ensemble import RandomForestClassifier\n",
        "rfc = RandomForestClassifier(criterion = 'gini')\n"
      ],
      "metadata": {
        "id": "YIsZ9K23C0z9"
      },
      "execution_count": null,
      "outputs": []
    },
    {
      "cell_type": "code",
      "source": [
        "trainRatio = [0.1, 0.15, 0.2, 0.25, 0.3, 0.35, 0.4, 0.45, 0.5]\n",
        "accuracy = []\n",
        "def modelAcc(model):\n",
        "  accuracy.clear()\n",
        "  for i in trainRatio:\n",
        "    X_train,X_test,y_train,y_test=train_test_split(X_under,y_under,test_size=i)\n",
        "    model.fit(X_train, y_train)\n",
        "    y_pred = model.predict(X_test)\n",
        "    accuracy.append(accuracy_score(y_test, y_pred))\n",
        " "
      ],
      "metadata": {
        "id": "WjR0fV5fEKhk"
      },
      "execution_count": null,
      "outputs": []
    },
    {
      "cell_type": "code",
      "source": [
        "import matplotlib.pyplot as plt\n",
        "\n",
        "def plotLine(t, a, model):\n",
        "  plt.plot(t,a)\n",
        "  plt.title('Accuracy vs Split Ratio '+ model)\n",
        "  plt.xlabel('Trainig Ratio')\n",
        "  plt.ylabel('Accuracy')\n",
        "  plt.show()"
      ],
      "metadata": {
        "id": "2iBMSjz0J0m4"
      },
      "execution_count": null,
      "outputs": []
    },
    {
      "cell_type": "markdown",
      "source": [
        "Running the functions above to generate the charts against different Train Test Splits"
      ],
      "metadata": {
        "id": "cfgXDsaKHyYv"
      }
    },
    {
      "cell_type": "code",
      "source": [
        "#mlM = [dtree, svcS, gnb, bnb, rfc, logR, knn, adb]\n",
        "mlM = [dtree, knn, bnb, logR]\n",
        "for i in mlM:\n",
        "  modelAcc(i)\n",
        "  plotLine(trainRatio,accuracy, str(i))"
      ],
      "metadata": {
        "colab": {
          "base_uri": "https://localhost:8080/",
          "height": 1000
        },
        "id": "iBQekNonM0BX",
        "outputId": "eaa4f37f-fa37-4087-989d-2b459d2a73c8"
      },
      "execution_count": null,
      "outputs": [
        {
          "output_type": "display_data",
          "data": {
            "image/png": "[encoded data removed]",
            "text/plain": [
              "<Figure size 432x288 with 1 Axes>"
            ]
          },
          "metadata": {
            "needs_background": "light"
          }
        },
        {
          "output_type": "display_data",
          "data": {
            "image/png": "[encoded data removed]",
            "text/plain": [
              "<Figure size 432x288 with 1 Axes>"
            ]
          },
          "metadata": {
            "needs_background": "light"
          }
        },
        {
          "output_type": "display_data",
          "data": {
            "image/png": "[encoded data removed]",
            "text/plain": [
              "<Figure size 432x288 with 1 Axes>"
            ]
          },
          "metadata": {
            "needs_background": "light"
          }
        },
        {
          "output_type": "display_data",
          "data": {
            "image/png": "[encoded data removed]",
            "text/plain": [
              "<Figure size 432x288 with 1 Axes>"
            ]
          },
          "metadata": {
            "needs_background": "light"
          }
        }
      ]
    },
    {
      "cell_type": "markdown",
      "source": [
        "Question 1 C: \n",
        "\n",
        "Ensemble Models"
      ],
      "metadata": {
        "id": "nPwnTVlR8_EI"
      }
    },
    {
      "cell_type": "code",
      "source": [
        "#DEfining Monte Carlo Run Function\n",
        "Eaccuracy=[]\n",
        "def monteCarlo(model, split):\n",
        "  Eaccuracy.clear()\n",
        "  for i in range(100):\n",
        "    X_train,X_test,y_train,y_test=train_test_split(X_new,y,test_size=split, random_state=i)\n",
        "    model.fit(X_train, y_train)\n",
        "    y_pred = model.predict(X_test)\n",
        "    Eaccuracy.append(accuracy_score(y_test, y_pred))\n",
        "  np.array(Eaccuracy)\n",
        "  return Eaccuracy"
      ],
      "metadata": {
        "id": "kwHQ88q3L_kS"
      },
      "execution_count": null,
      "outputs": []
    },
    {
      "cell_type": "markdown",
      "source": [
        "Bagging ensemble model:"
      ],
      "metadata": {
        "id": "6ShBotDLe2ar"
      }
    },
    {
      "cell_type": "code",
      "source": [
        "from sklearn.ensemble import BaggingClassifier\n",
        "from sklearn.model_selection import cross_val_score, train_test_split\n",
        "bagM = BaggingClassifier(base_estimator=dtree, n_estimators=50)\n"
      ],
      "metadata": {
        "id": "U46zADoWLCTk"
      },
      "execution_count": null,
      "outputs": []
    },
    {
      "cell_type": "markdown",
      "source": [
        "Boosting Ensemble Model:"
      ],
      "metadata": {
        "id": "7qPs-OFSfwzq"
      }
    },
    {
      "cell_type": "code",
      "source": [
        "from sklearn.ensemble import AdaBoostClassifier\n",
        "adb = AdaBoostClassifier(n_estimators=100, learning_rate=.85)\n",
        "\n"
      ],
      "metadata": {
        "id": "NzVGmXimv30L"
      },
      "execution_count": null,
      "outputs": []
    },
    {
      "cell_type": "markdown",
      "source": [
        "Stacking Ensemble model"
      ],
      "metadata": {
        "id": "IXTN-yPye6OO"
      }
    },
    {
      "cell_type": "code",
      "source": [
        "from sklearn.ensemble import BaggingClassifier, StackingClassifier\n",
        "estimators = [('rfc', RandomForestClassifier(n_estimators=30, random_state=1)),\n",
        "             ('logR', LogisticRegression()),\n",
        "             ('bnb', BernoulliNB()),\n",
        "             ('dtree', DecisionTreeClassifier())]\n",
        "level1 = rfc\n",
        "staC = StackingClassifier(estimators=estimators, final_estimator=level1, cv=5)"
      ],
      "metadata": {
        "id": "q2iSuSm6e1VY"
      },
      "execution_count": null,
      "outputs": []
    },
    {
      "cell_type": "markdown",
      "source": [
        "Running the MonteCarlo and Box plot functions for each Ensemble Model:"
      ],
      "metadata": {
        "id": "qKMqKnM9Vl8N"
      }
    },
    {
      "cell_type": "code",
      "source": [
        "ensModName = ['Bagging', 'Stacking','Boosting']\n",
        "results = []\n",
        "baggingScore=monteCarlo(bagM, .1)\n",
        "results.append(baggingScore.copy())\n",
        "\n",
        "boostingScore=monteCarlo(adb, .2)\n",
        "results.append(boostingScore.copy())\n",
        "\n",
        "stackingScore=monteCarlo(staC, .2)\n",
        "results.append(stackingScore.copy())\n",
        "\n",
        "plt.title(\"Ensemble MonteCarlo Accuracy\")\n",
        "plt.xlabel(\"Model\" )\n",
        "plt.ylabel(\"Accuracy\")\n",
        "plt.boxplot(results, labels=ensModName, showmeans=True)  "
      ],
      "metadata": {
        "colab": {
          "base_uri": "https://localhost:8080/",
          "height": 784
        },
        "id": "WW9tc7zbXSOt",
        "outputId": "e4609bbb-5dd7-4832-d0eb-d8d0cf5efa97"
      },
      "execution_count": null,
      "outputs": [
        {
          "output_type": "stream",
          "name": "stdout",
          "text": [
            "[[0.8288801407153028, 0.821928134684647, 0.8334031325906692, 0.8205879889437976, 0.8308066002177736, 0.8281263087360751, 0.8272887176480442, 0.8313929139793953, 0.8297177318033336, 0.8317279504146076, 0.8292151771505151, 0.8269536812128319, 0.8323142641762291, 0.8293826953681213, 0.8339056872434877, 0.8210905435966162, 0.8197503978557669, 0.8276237540832565, 0.828042549627272, 0.8306390820001676, 0.8272887176480442, 0.8249434626015579, 0.8320629868498199, 0.825027221710361, 0.8263673674512103, 0.8212580618142223, 0.8298852500209398, 0.8303040455649552, 0.8272887176480442, 0.8272887176480442, 0.8242733897311333, 0.8268699221040288, 0.8338219281346847, 0.8282938269536813, 0.8302202864561521, 0.826032331015998, 0.8283775860624844, 0.8342407236787001, 0.8228494848814809, 0.8255297763631795, 0.8218443755758439, 0.8252784990367702, 0.8303878046737583, 0.8303040455649552, 0.832146745958623, 0.8228494848814809, 0.8234357986431025, 0.829047658932909, 0.8253622581455733, 0.8204204707261915, 0.8246084261663456, 0.8201691933997822, 0.8277075131920596, 0.8283775860624844, 0.8242733897311333, 0.8326493006114415, 0.8289638998241059, 0.8246921852751486, 0.829047658932909, 0.8254460172543764, 0.8263673674512103, 0.8294664544769244, 0.827121199430438, 0.8283775860624844, 0.8263673674512103, 0.8247759443839517, 0.8276237540832565, 0.8294664544769244, 0.8228494848814809, 0.8317279504146076, 0.831141636652986, 0.8229332439902839, 0.8343244827875032, 0.825948571907195, 0.8299690091297428, 0.8310578775441829, 0.8286288633888935, 0.8291314180417121, 0.8251947399279672, 0.8306390820001676, 0.8309741184353798, 0.8253622581455733, 0.8246084261663456, 0.8316441913058045, 0.8241058715135271, 0.8229332439902839, 0.8251947399279672, 0.826116090124801, 0.8317279504146076, 0.8278750314096658, 0.8287126224976966, 0.8298014909121367, 0.8273724767568473, 0.8269536812128319, 0.8256972945807857, 0.8272049585392411, 0.832146745958623, 0.8304715637825614, 0.8329843370466539, 0.8261998492336041]]\n",
            "[[0.8288801407153028, 0.821928134684647, 0.8334031325906692, 0.8205879889437976, 0.8308066002177736, 0.8281263087360751, 0.8272887176480442, 0.8313929139793953, 0.8297177318033336, 0.8317279504146076, 0.8292151771505151, 0.8269536812128319, 0.8323142641762291, 0.8293826953681213, 0.8339056872434877, 0.8210905435966162, 0.8197503978557669, 0.8276237540832565, 0.828042549627272, 0.8306390820001676, 0.8272887176480442, 0.8249434626015579, 0.8320629868498199, 0.825027221710361, 0.8263673674512103, 0.8212580618142223, 0.8298852500209398, 0.8303040455649552, 0.8272887176480442, 0.8272887176480442, 0.8242733897311333, 0.8268699221040288, 0.8338219281346847, 0.8282938269536813, 0.8302202864561521, 0.826032331015998, 0.8283775860624844, 0.8342407236787001, 0.8228494848814809, 0.8255297763631795, 0.8218443755758439, 0.8252784990367702, 0.8303878046737583, 0.8303040455649552, 0.832146745958623, 0.8228494848814809, 0.8234357986431025, 0.829047658932909, 0.8253622581455733, 0.8204204707261915, 0.8246084261663456, 0.8201691933997822, 0.8277075131920596, 0.8283775860624844, 0.8242733897311333, 0.8326493006114415, 0.8289638998241059, 0.8246921852751486, 0.829047658932909, 0.8254460172543764, 0.8263673674512103, 0.8294664544769244, 0.827121199430438, 0.8283775860624844, 0.8263673674512103, 0.8247759443839517, 0.8276237540832565, 0.8294664544769244, 0.8228494848814809, 0.8317279504146076, 0.831141636652986, 0.8229332439902839, 0.8343244827875032, 0.825948571907195, 0.8299690091297428, 0.8310578775441829, 0.8286288633888935, 0.8291314180417121, 0.8251947399279672, 0.8306390820001676, 0.8309741184353798, 0.8253622581455733, 0.8246084261663456, 0.8316441913058045, 0.8241058715135271, 0.8229332439902839, 0.8251947399279672, 0.826116090124801, 0.8317279504146076, 0.8278750314096658, 0.8287126224976966, 0.8298014909121367, 0.8273724767568473, 0.8269536812128319, 0.8256972945807857, 0.8272049585392411, 0.832146745958623, 0.8304715637825614, 0.8329843370466539, 0.8261998492336041], [0.7245581707010638, 0.7300025127732641, 0.7289974034676271, 0.7331853589077812, 0.7269871848563532, 0.725353882234693, 0.728913644358824, 0.7306307060892873, 0.7277828963899824, 0.7272384621827623, 0.729458078566044, 0.7261914733227238, 0.7322640087109473, 0.7254795208978977, 0.7280341737163917, 0.7288717648044225, 0.7233017840690175, 0.7291649216852333, 0.728913644358824, 0.7318452131669319, 0.7300862718820672, 0.7235949409498283, 0.7315939358405227, 0.7289974034676271, 0.7269034257475501, 0.7249769662450791, 0.730379428762878, 0.7275734986179747, 0.7277828963899824, 0.7310076220789011, 0.7324315269285535, 0.7276153781723762, 0.7302956696540749, 0.7323058882653488, 0.728913644358824, 0.7323477678197504, 0.7236368205042298, 0.7287880056956194, 0.728452969260407, 0.7306307060892873, 0.7303375492084764, 0.7297093558924533, 0.7269871848563532, 0.7310076220789011, 0.7294161990116426, 0.7304213083172795, 0.7316358153949242, 0.7279922941619901, 0.7285786079236117, 0.7241812547114499, 0.7266521484211408, 0.7257307982243069, 0.7265683893123377, 0.7250607253538822, 0.729458078566044, 0.7340229499958121, 0.7349024206382444, 0.7274478599547701, 0.7302537900996734, 0.7302537900996734, 0.7254376413434961, 0.7293324399028395, 0.7275316190635731, 0.7254795208978977, 0.7319708518301365, 0.7264008710947315, 0.730923862970098, 0.7346930228662367, 0.7245162911466622, 0.7269453053019516, 0.7343161068766229, 0.7296674763380517, 0.7311332607421057, 0.7291230421308317, 0.7261495937683223, 0.7295418376748471, 0.7272384621827623, 0.7311332607421057, 0.730379428762878, 0.7335203953429935, 0.725898316441913, 0.7243487729290561, 0.7300443923276656, 0.7311751402965072, 0.7294999581204455, 0.726819666638747, 0.7270709439651563, 0.7253957617890946, 0.727364100845967, 0.7246419298098669, 0.7307982243068933, 0.7265265097579362, 0.7296674763380517, 0.7291230421308317, 0.7280760532707932, 0.7321802496021442, 0.7321802496021442, 0.7295837172292486, 0.7291649216852333, 0.7283273305972024]]\n",
            "[[0.8288801407153028, 0.821928134684647, 0.8334031325906692, 0.8205879889437976, 0.8308066002177736, 0.8281263087360751, 0.8272887176480442, 0.8313929139793953, 0.8297177318033336, 0.8317279504146076, 0.8292151771505151, 0.8269536812128319, 0.8323142641762291, 0.8293826953681213, 0.8339056872434877, 0.8210905435966162, 0.8197503978557669, 0.8276237540832565, 0.828042549627272, 0.8306390820001676, 0.8272887176480442, 0.8249434626015579, 0.8320629868498199, 0.825027221710361, 0.8263673674512103, 0.8212580618142223, 0.8298852500209398, 0.8303040455649552, 0.8272887176480442, 0.8272887176480442, 0.8242733897311333, 0.8268699221040288, 0.8338219281346847, 0.8282938269536813, 0.8302202864561521, 0.826032331015998, 0.8283775860624844, 0.8342407236787001, 0.8228494848814809, 0.8255297763631795, 0.8218443755758439, 0.8252784990367702, 0.8303878046737583, 0.8303040455649552, 0.832146745958623, 0.8228494848814809, 0.8234357986431025, 0.829047658932909, 0.8253622581455733, 0.8204204707261915, 0.8246084261663456, 0.8201691933997822, 0.8277075131920596, 0.8283775860624844, 0.8242733897311333, 0.8326493006114415, 0.8289638998241059, 0.8246921852751486, 0.829047658932909, 0.8254460172543764, 0.8263673674512103, 0.8294664544769244, 0.827121199430438, 0.8283775860624844, 0.8263673674512103, 0.8247759443839517, 0.8276237540832565, 0.8294664544769244, 0.8228494848814809, 0.8317279504146076, 0.831141636652986, 0.8229332439902839, 0.8343244827875032, 0.825948571907195, 0.8299690091297428, 0.8310578775441829, 0.8286288633888935, 0.8291314180417121, 0.8251947399279672, 0.8306390820001676, 0.8309741184353798, 0.8253622581455733, 0.8246084261663456, 0.8316441913058045, 0.8241058715135271, 0.8229332439902839, 0.8251947399279672, 0.826116090124801, 0.8317279504146076, 0.8278750314096658, 0.8287126224976966, 0.8298014909121367, 0.8273724767568473, 0.8269536812128319, 0.8256972945807857, 0.8272049585392411, 0.832146745958623, 0.8304715637825614, 0.8329843370466539, 0.8261998492336041], [0.7245581707010638, 0.7300025127732641, 0.7289974034676271, 0.7331853589077812, 0.7269871848563532, 0.725353882234693, 0.728913644358824, 0.7306307060892873, 0.7277828963899824, 0.7272384621827623, 0.729458078566044, 0.7261914733227238, 0.7322640087109473, 0.7254795208978977, 0.7280341737163917, 0.7288717648044225, 0.7233017840690175, 0.7291649216852333, 0.728913644358824, 0.7318452131669319, 0.7300862718820672, 0.7235949409498283, 0.7315939358405227, 0.7289974034676271, 0.7269034257475501, 0.7249769662450791, 0.730379428762878, 0.7275734986179747, 0.7277828963899824, 0.7310076220789011, 0.7324315269285535, 0.7276153781723762, 0.7302956696540749, 0.7323058882653488, 0.728913644358824, 0.7323477678197504, 0.7236368205042298, 0.7287880056956194, 0.728452969260407, 0.7306307060892873, 0.7303375492084764, 0.7297093558924533, 0.7269871848563532, 0.7310076220789011, 0.7294161990116426, 0.7304213083172795, 0.7316358153949242, 0.7279922941619901, 0.7285786079236117, 0.7241812547114499, 0.7266521484211408, 0.7257307982243069, 0.7265683893123377, 0.7250607253538822, 0.729458078566044, 0.7340229499958121, 0.7349024206382444, 0.7274478599547701, 0.7302537900996734, 0.7302537900996734, 0.7254376413434961, 0.7293324399028395, 0.7275316190635731, 0.7254795208978977, 0.7319708518301365, 0.7264008710947315, 0.730923862970098, 0.7346930228662367, 0.7245162911466622, 0.7269453053019516, 0.7343161068766229, 0.7296674763380517, 0.7311332607421057, 0.7291230421308317, 0.7261495937683223, 0.7295418376748471, 0.7272384621827623, 0.7311332607421057, 0.730379428762878, 0.7335203953429935, 0.725898316441913, 0.7243487729290561, 0.7300443923276656, 0.7311751402965072, 0.7294999581204455, 0.726819666638747, 0.7270709439651563, 0.7253957617890946, 0.727364100845967, 0.7246419298098669, 0.7307982243068933, 0.7265265097579362, 0.7296674763380517, 0.7291230421308317, 0.7280760532707932, 0.7321802496021442, 0.7321802496021442, 0.7295837172292486, 0.7291649216852333, 0.7283273305972024], [0.7861211156713293, 0.7842365357232599, 0.7891364435882402, 0.7862048747801323, 0.7854510428009046, 0.7880894547282017, 0.7908535053187034, 0.7927799648211743, 0.7857441996817154, 0.7864561521065416, 0.7851578859200938, 0.7860792361169278, 0.7915654577435296, 0.7842365357232599, 0.7818494011223721, 0.7811793282519474, 0.782310076220789, 0.7871262249769663, 0.7860792361169278, 0.787880056956194, 0.7920261328419466, 0.7869587067593601, 0.7884663707178156, 0.78478096993048, 0.7831057877544183, 0.7827707513192059, 0.7859117178993216, 0.7882988525002094, 0.7897227573498617, 0.7845296926040707, 0.7851160063656922, 0.7830639082000167, 0.7872099840857694, 0.7882150933914063, 0.7819750397855767, 0.7868330680961555, 0.7802579780551135, 0.7910629030907111, 0.7890108049250356, 0.7856185610185108, 0.7834827037440322, 0.7893039618058464, 0.7885501298266187, 0.791900494178742, 0.7827288717648044, 0.7848647290392831, 0.7851997654744953, 0.7885501298266187, 0.7810955691431443, 0.7808442918167351, 0.7835664628528353, 0.7818075215679705, 0.7903928302202865, 0.7889270458162325, 0.7838177401792444, 0.7853254041377, 0.7893877209146495, 0.783775860624843, 0.7889270458162325, 0.7855348019097077, 0.7865817907697462, 0.783859619733646, 0.7850741268112907, 0.7799648211743027, 0.7880475751738002, 0.7871681045313678, 0.788508250272217, 0.7855348019097077, 0.7833570650808276, 0.7860373565625262, 0.7871262249769663, 0.7863305134433369, 0.7898902755674679, 0.7875450205209816, 0.7859535974537231, 0.7856185610185108, 0.7872099840857694, 0.7885501298266187, 0.789429600469051, 0.7850741268112907, 0.7870005863137616, 0.7869587067593601, 0.7845715721584723, 0.7862886338889354, 0.7845715721584723, 0.7890945640338387, 0.7832733059720245, 0.7863723929977385, 0.788885166261831, 0.7854510428009046, 0.788968925370634, 0.7850741268112907, 0.7844878130496692, 0.7879638160649971, 0.7846134517128738, 0.7874612614121785, 0.7880475751738002, 0.7841527766144568, 0.7841946561688584, 0.7912723008627188]]\n"
          ]
        },
        {
          "output_type": "execute_result",
          "data": {
            "text/plain": [
              "{'boxes': [<matplotlib.lines.Line2D at 0x7f3226aa4f90>,\n",
              "  <matplotlib.lines.Line2D at 0x7f323079db50>,\n",
              "  <matplotlib.lines.Line2D at 0x7f32304a95d0>],\n",
              " 'caps': [<matplotlib.lines.Line2D at 0x7f3230789050>,\n",
              "  <matplotlib.lines.Line2D at 0x7f3230789590>,\n",
              "  <matplotlib.lines.Line2D at 0x7f3230784b10>,\n",
              "  <matplotlib.lines.Line2D at 0x7f3230781090>,\n",
              "  <matplotlib.lines.Line2D at 0x7f323047b610>,\n",
              "  <matplotlib.lines.Line2D at 0x7f323047bb90>],\n",
              " 'fliers': [<matplotlib.lines.Line2D at 0x7f323079d5d0>,\n",
              "  <matplotlib.lines.Line2D at 0x7f32304a9090>,\n",
              "  <matplotlib.lines.Line2D at 0x7f323049bb90>],\n",
              " 'means': [<matplotlib.lines.Line2D at 0x7f323079d090>,\n",
              "  <matplotlib.lines.Line2D at 0x7f3230781b10>,\n",
              "  <matplotlib.lines.Line2D at 0x7f323049b650>],\n",
              " 'medians': [<matplotlib.lines.Line2D at 0x7f3230789b10>,\n",
              "  <matplotlib.lines.Line2D at 0x7f32307815d0>,\n",
              "  <matplotlib.lines.Line2D at 0x7f323049b110>],\n",
              " 'whiskers': [<matplotlib.lines.Line2D at 0x7f3230797590>,\n",
              "  <matplotlib.lines.Line2D at 0x7f3230797ad0>,\n",
              "  <matplotlib.lines.Line2D at 0x7f3230784090>,\n",
              "  <matplotlib.lines.Line2D at 0x7f32307845d0>,\n",
              "  <matplotlib.lines.Line2D at 0x7f32304a9b10>,\n",
              "  <matplotlib.lines.Line2D at 0x7f323047b0d0>]}"
            ]
          },
          "metadata": {},
          "execution_count": 89
        },
        {
          "output_type": "display_data",
          "data": {
            "image/png": "[encoded data removed]",
            "text/plain": [
              "<Figure size 432x288 with 1 Axes>"
            ]
          },
          "metadata": {
            "needs_background": "light"
          }
        }
      ]
    },
    {
      "cell_type": "markdown",
      "source": [
        "Question 2: \n",
        "Considering a continous attribute in your dataset as target variable perform regression analysis, visualize and interpret the results via ensemble mod"
      ],
      "metadata": {
        "id": "-Eysrs1Z5txh"
      }
    },
    {
      "cell_type": "markdown",
      "source": [
        "Preparing the dataset similar to the previous but swapping target category from the cancellation prediction to predicting the average daily rate paid for the hotel. "
      ],
      "metadata": {
        "id": "N4qT1oR2wL3g"
      }
    },
    {
      "cell_type": "code",
      "source": [
        "df = pd.read_csv(\"hotel_booking.csv\")\n",
        "#Replacing Months with a variable representing said month \n",
        "df.loc[df['arrival_date_month'] == 'January', 'arrival_date_month'] = 1\n",
        "df.loc[df['arrival_date_month'] == 'February', 'arrival_date_month'] = 2\n",
        "df.loc[df['arrival_date_month'] == 'March', 'arrival_date_month'] = 3\n",
        "df.loc[df['arrival_date_month'] == 'April', 'arrival_date_month'] = 4\n",
        "df.loc[df['arrival_date_month'] == 'May', 'arrival_date_month'] = 5\n",
        "df.loc[df['arrival_date_month'] == 'June', 'arrival_date_month'] = 6\n",
        "df.loc[df['arrival_date_month'] == 'July', 'arrival_date_month'] = 7\n",
        "df.loc[df['arrival_date_month'] == 'August', 'arrival_date_month'] = 8\n",
        "df.loc[df['arrival_date_month'] == 'September', 'arrival_date_month'] = 9\n",
        "df.loc[df['arrival_date_month'] == 'October', 'arrival_date_month'] = 10\n",
        "df.loc[df['arrival_date_month'] == 'November', 'arrival_date_month'] = 11\n",
        "df.loc[df['arrival_date_month'] == 'December', 'arrival_date_month'] = 12\n",
        "#Replacing hotel type with binary variable\n",
        "df.loc[df['hotel'] == 'City Hotel', 'hotel'] = 0\n",
        "df.loc[df['hotel'] == 'Resort Hotel', 'hotel'] = 1\n",
        "#Dropping Company column as most entries are empty\n",
        "df =df.drop(['company'],axis=1)\n",
        "#If there is no response for children then defaulting to 0 \n",
        "df['children'] = df['children'].fillna(0)\n",
        "df['agent'] = df['agent'].fillna(1)\n",
        "X = df.drop(['adr'], axis=1)\n",
        "y = df['adr']"
      ],
      "metadata": {
        "id": "uRgbGPPn6ofD"
      },
      "execution_count": null,
      "outputs": []
    },
    {
      "cell_type": "code",
      "source": [
        "from numpy import mean\n",
        "from numpy import std\n",
        "from sklearn.datasets import make_regression\n",
        "from sklearn.model_selection import cross_val_score\n",
        "from sklearn.ensemble import BaggingRegressor\n",
        "from sklearn.svm import SVR\n",
        "from sklearn.tree import DecisionTreeRegressor\n",
        "from sklearn.ensemble import RandomForestRegressor\n",
        "from sklearn.ensemble import GradientBoostingRegressor\n",
        "from sklearn.ensemble import StackingRegressor\n",
        "from sklearn.linear_model import RidgeCV\n",
        "from sklearn.linear_model import LinearRegression\n",
        "from statistics import variance\n",
        "from sklearn.metrics import mean_squared_error\n",
        "from sklearn.feature_selection import SelectKBest\n",
        "from sklearn.feature_selection import f_regression\n"
      ],
      "metadata": {
        "id": "6td2mFCmfpSx"
      },
      "execution_count": null,
      "outputs": []
    },
    {
      "cell_type": "markdown",
      "source": [
        "Bagging Model:"
      ],
      "metadata": {
        "id": "5CUswOV1q2No"
      }
    },
    {
      "cell_type": "code",
      "source": [
        "bagR = BaggingRegressor(n_estimators = 30)\n",
        "bag_scores = cross_val_score(bagR, X, y, scoring='neg_mean_absolute_error', cv=5, n_jobs=-1, error_score='raise')\n",
        "print(np.mean(bag_scores))\n",
        "print(std(bag_scores))"
      ],
      "metadata": {
        "colab": {
          "base_uri": "https://localhost:8080/"
        },
        "id": "JxJCfnpNftHy",
        "outputId": "86729c95-745c-4d9f-f544-5d3501b042a8"
      },
      "execution_count": null,
      "outputs": [
        {
          "output_type": "stream",
          "name": "stdout",
          "text": [
            "-20.707109023006485\n",
            "2.7596739132469237\n"
          ]
        }
      ]
    },
    {
      "cell_type": "markdown",
      "source": [
        "Stacking Model: "
      ],
      "metadata": {
        "id": "Pd28oFfbq6i5"
      }
    },
    {
      "cell_type": "markdown",
      "source": [
        "Testing models for use in the stacking model"
      ],
      "metadata": {
        "id": "CnJcnSqFv6DV"
      }
    },
    {
      "cell_type": "code",
      "source": [
        "rid = RidgeCV()\n",
        "ridScore =cross_val_score(rid, X, y, scoring='neg_mean_absolute_error', cv=5, n_jobs=-1, error_score='raise')\n",
        "print(np.mean(ridScore))\n",
        "print(std(ridScore))"
      ],
      "metadata": {
        "colab": {
          "base_uri": "https://localhost:8080/"
        },
        "id": "P1kUxnQYqzcN",
        "outputId": "b052cbc8-c1ca-480c-9578-f77a8802bf4d"
      },
      "execution_count": null,
      "outputs": [
        {
          "output_type": "stream",
          "name": "stdout",
          "text": [
            "-29.77645321748768\n",
            "6.289603321347784\n"
          ]
        }
      ]
    },
    {
      "cell_type": "code",
      "source": [
        "svrL = LinearSVR(random_state=42)\n",
        "linSVR =cross_val_score(svrL, X, y, scoring='neg_mean_absolute_error', cv=5, n_jobs=-1, error_score='raise')\n",
        "print(np.mean(linSVR))\n",
        "print(std(linSVR))"
      ],
      "metadata": {
        "id": "EqStad0mrP2K"
      },
      "execution_count": null,
      "outputs": []
    },
    {
      "cell_type": "code",
      "source": [
        "dtr = DecisionTreeRegressor(max_depth=2)\n",
        "dtr_Score =cross_val_score(dtr, X, y, scoring='neg_mean_absolute_error', cv=5, n_jobs=-1, error_score='raise')\n",
        "print(np.mean(dtr_Score))\n",
        "print(std(dtr_Score))"
      ],
      "metadata": {
        "colab": {
          "base_uri": "https://localhost:8080/"
        },
        "id": "gDQ7N5gGrcZw",
        "outputId": "97e516a5-0767-44f7-c543-4cc9a74304f2"
      },
      "execution_count": null,
      "outputs": [
        {
          "output_type": "stream",
          "name": "stdout",
          "text": [
            "-34.18214864285981\n",
            "7.7736312193175925\n"
          ]
        }
      ]
    },
    {
      "cell_type": "code",
      "source": [
        "rfr = RandomForestRegressor(n_estimators=10, random_state=42)\n",
        "rfr_Score =cross_val_score(rfr, X, y, scoring='neg_mean_absolute_error', cv=5, n_jobs=-1, error_score='raise')\n",
        "print(np.mean(rfr_Score))\n",
        "print(std(rfr_Score))"
      ],
      "metadata": {
        "colab": {
          "base_uri": "https://localhost:8080/"
        },
        "id": "21R86OKlrxQS",
        "outputId": "e55dd381-8414-4cbe-cc06-64ef87c3ec24"
      },
      "execution_count": null,
      "outputs": [
        {
          "output_type": "stream",
          "name": "stdout",
          "text": [
            "-21.272672027705045\n",
            "2.892715419495998\n"
          ]
        }
      ]
    },
    {
      "cell_type": "markdown",
      "source": [
        "Stacking model itself"
      ],
      "metadata": {
        "id": "f1HW6otKv3mG"
      }
    },
    {
      "cell_type": "markdown",
      "source": [
        "I chose the highest scoring models from cross validation tests for using in the stacking model "
      ],
      "metadata": {
        "id": "4-RHZx9yF8ta"
      }
    },
    {
      "cell_type": "code",
      "source": [
        "level0 = [\n",
        "    ('rid', RidgeCV()),\n",
        "    ('rfr', RandomForestRegressor(n_estimators=10, random_state=42)),\n",
        "    ('dtr', DecisionTreeRegressor(max_depth=2))]\n",
        "staR = StackingRegressor(\n",
        "    estimators=level0,\n",
        "    final_estimator=RandomForestRegressor(n_estimators=10,\n",
        "                                          random_state=42)\n",
        ")    \n",
        "stack_scores = cross_val_score(staR, X, y, scoring='neg_mean_absolute_error', cv=5, n_jobs=-1, error_score='raise')\n",
        "print(np.mean(stack_scores))\n",
        "print(std(stack_scores))"
      ],
      "metadata": {
        "colab": {
          "base_uri": "https://localhost:8080/"
        },
        "id": "U0D4CQVufv0T",
        "outputId": "ce2a83fc-82f6-47e2-cd7b-eb7055565de7"
      },
      "execution_count": null,
      "outputs": [
        {
          "output_type": "stream",
          "name": "stdout",
          "text": [
            "-28.602448763916765\n",
            "5.386615860712546\n"
          ]
        }
      ]
    },
    {
      "cell_type": "markdown",
      "source": [
        "Boosting"
      ],
      "metadata": {
        "id": "bDMofoQ7v1zc"
      }
    },
    {
      "cell_type": "code",
      "source": [
        "gdr = GradientBoostingRegressor(random_state=0)\n",
        "boost_scores = cross_val_score(gdr, X, y, scoring='neg_mean_absolute_error', cv=5, n_jobs=-1, error_score='raise')\n",
        "print(np.mean(boost_scores))\n",
        "print(std(boost_scores))"
      ],
      "metadata": {
        "colab": {
          "base_uri": "https://localhost:8080/"
        },
        "id": "4bRIRriwf_nl",
        "outputId": "2a3db6f2-5a3d-4e15-eef4-e70bbbf67eaa"
      },
      "execution_count": null,
      "outputs": [
        {
          "output_type": "stream",
          "name": "stdout",
          "text": [
            "-23.165562520780014\n",
            "3.7805329802329544\n"
          ]
        }
      ]
    },
    {
      "cell_type": "code",
      "source": [
        "featS = SelectKBest(score_func=f_regression, k='all')\n",
        "X_train,X_test,y_train,y_test=train_test_split(X,y,test_size=.2, random_state=42)\n",
        "featS.fit(X_train, y_train)\n",
        "X_new_train = featS.transform(X_train)\n",
        "X_new_test = featS.transform(X_test)"
      ],
      "metadata": {
        "id": "mJjqHGkqQ61g"
      },
      "execution_count": null,
      "outputs": []
    },
    {
      "cell_type": "markdown",
      "source": [
        "Functions for MonteCarlo Run"
      ],
      "metadata": {
        "id": "8RwQ0mBPCS0Z"
      }
    },
    {
      "cell_type": "code",
      "source": [
        "Eaccuracy=[]\n",
        "meanSqEr = []\n",
        "def monteCarloRegressor(model, split):\n",
        "  Eaccuracy.clear()\n",
        "  meanSqEr.clear()\n",
        "  for i in range(50):\n",
        "    X_train,X_test,y_train,y_test=train_test_split(X,y,test_size=split, random_state=i)\n",
        "    \n",
        "    #model.fit(X_new_train, y_train)\n",
        "    #y_pred = model.predict(X_new_test)\n",
        "    model.fit(X_train, y_train)\n",
        "    y_pred = model.predict(X_test)\n",
        "    mse=mean_squared_error(y_pred,y_test)\n",
        "    Rsquar=1-mse/variance(y_test)\n",
        "    meanSqEr.append(mse)\n",
        "    Eaccuracy.append(Rsquar)\n",
        "  print(model)  \n",
        "  print(\"Rsquare Average:\", np.mean(Eaccuracy))\n",
        "  print('Rsquare St Deviation:', np.std(Eaccuracy))\n",
        "  print(\"MSE Average:\", np.mean(meanSqEr))\n",
        "  print('MSE St Deviation:', np.std(meanSqEr))\n",
        "  np.array(Eaccuracy)\n",
        "  return Eaccuracy"
      ],
      "metadata": {
        "id": "SjjVRTOwgBro"
      },
      "execution_count": null,
      "outputs": []
    },
    {
      "cell_type": "markdown",
      "source": [
        "Running The Regression Models:"
      ],
      "metadata": {
        "id": "k6TAWhhvCXD6"
      }
    },
    {
      "cell_type": "code",
      "source": [
        "ensModName = ['Bagging','Boosting','Stacking']\n",
        "results = []\n",
        "baggingScore=monteCarloRegressor(bagR, .3)\n",
        "results.append(baggingScore.copy())\n",
        "\n",
        "boostingScore=monteCarloRegressor(gdr, .3)\n",
        "results.append(boostingScore.copy())\n",
        "\n",
        "stackingScore=monteCarloRegressor(staR, .3)\n",
        "results.append(stackingScore.copy())\n",
        "\n",
        "\n",
        "plt.title(\"Ensemble MonteCarloRegressor Accuracy\")\n",
        "plt.xlabel(\"Model\" )\n",
        "plt.ylabel(\"Accuracy\")\n",
        "plt.boxplot(results, labels=ensModName, showmeans=True)  "
      ],
      "metadata": {
        "colab": {
          "base_uri": "https://localhost:8080/",
          "height": 1000
        },
        "id": "WQBOz-vbgD_k",
        "outputId": "b6fed74a-5971-4af9-8f1d-768617c75b6a"
      },
      "execution_count": null,
      "outputs": [
        {
          "output_type": "stream",
          "name": "stdout",
          "text": [
            "BaggingRegressor(n_estimators=30)\n",
            "Rsquare Average: 0.738898513017142\n",
            "Rsquare St Deviation: 0.08995384307229214\n",
            "MSE Average: 702.9565661509488\n",
            "MSE St Deviation: 351.2858775712285\n",
            "GradientBoostingRegressor(random_state=0)\n",
            "Rsquare Average: 0.6023931559311806\n",
            "Rsquare St Deviation: 0.07764502924405836\n",
            "MSE Average: 1048.9296730467872\n",
            "MSE St Deviation: 366.50252446221526\n",
            "StackingRegressor(estimators=[('rid',\n",
            "                               RidgeCV(alphas=array([ 0.1,  1. , 10. ]))),\n",
            "                              ('rfr',\n",
            "                               RandomForestRegressor(n_estimators=10,\n",
            "                                                     random_state=42)),\n",
            "                              ('dtr', DecisionTreeRegressor(max_depth=2))],\n",
            "                  final_estimator=RandomForestRegressor(n_estimators=10,\n",
            "                                                        random_state=42))\n",
            "Rsquare Average: 0.6544424835278788\n",
            "Rsquare St Deviation: 0.12640348218827935\n",
            "MSE Average: 908.4873223355386\n",
            "MSE St Deviation: 392.00419344233336\n"
          ]
        },
        {
          "output_type": "execute_result",
          "data": {
            "text/plain": [
              "{'boxes': [<matplotlib.lines.Line2D at 0x7f37c35d7d10>,\n",
              "  <matplotlib.lines.Line2D at 0x7f37c3b75990>,\n",
              "  <matplotlib.lines.Line2D at 0x7f37c356c490>],\n",
              " 'caps': [<matplotlib.lines.Line2D at 0x7f37c3b8ddd0>,\n",
              "  <matplotlib.lines.Line2D at 0x7f37c3b8e350>,\n",
              "  <matplotlib.lines.Line2D at 0x7f37c3b7ca10>,\n",
              "  <matplotlib.lines.Line2D at 0x7f37c3b7cf50>,\n",
              "  <matplotlib.lines.Line2D at 0x7f37c355e410>,\n",
              "  <matplotlib.lines.Line2D at 0x7f37c3d45350>],\n",
              " 'fliers': [<matplotlib.lines.Line2D at 0x7f37c3b75390>,\n",
              "  <matplotlib.lines.Line2D at 0x7f37c35a5f50>,\n",
              "  <matplotlib.lines.Line2D at 0x7f37c356cc10>],\n",
              " 'means': [<matplotlib.lines.Line2D at 0x7f37c35d7210>,\n",
              "  <matplotlib.lines.Line2D at 0x7f37c35a5a10>,\n",
              "  <matplotlib.lines.Line2D at 0x7f37c3d02610>],\n",
              " 'medians': [<matplotlib.lines.Line2D at 0x7f37c3b8e8d0>,\n",
              "  <matplotlib.lines.Line2D at 0x7f37c35a54d0>,\n",
              "  <matplotlib.lines.Line2D at 0x7f37c35f9650>],\n",
              " 'whiskers': [<matplotlib.lines.Line2D at 0x7f37c3b8d350>,\n",
              "  <matplotlib.lines.Line2D at 0x7f37c3b8d890>,\n",
              "  <matplotlib.lines.Line2D at 0x7f37c3b75f50>,\n",
              "  <matplotlib.lines.Line2D at 0x7f37c3b7c4d0>,\n",
              "  <matplotlib.lines.Line2D at 0x7f37c3d03150>,\n",
              "  <matplotlib.lines.Line2D at 0x7f37c34bf5d0>]}"
            ]
          },
          "metadata": {},
          "execution_count": 27
        },
        {
          "output_type": "display_data",
          "data": {
            "image/png": "[encoded data removed]",
            "text/plain": [
              "<Figure size 432x288 with 1 Axes>"
            ]
          },
          "metadata": {
            "needs_background": "light"
          }
        }
      ]
    },
    {
      "cell_type": "markdown",
      "source": [
        "Question 3\n",
        "\n",
        "A - Use LDA to classify the dataset into a few classes so that at least 90% of information is contained through new classification \n",
        "\n",
        "B- Apply PCA and idtenify the important principal components involving at least 90% of dataset variation. Explain your decision strategy. Plot Pricipal Components vs their variance."
      ],
      "metadata": {
        "id": "kCbPZYKagPiQ"
      }
    },
    {
      "cell_type": "markdown",
      "source": [
        "Queation 3 A LDA"
      ],
      "metadata": {
        "id": "Rp2UzdkZl6sX"
      }
    },
    {
      "cell_type": "code",
      "source": [
        "df = pd.read_csv(\"nfl2008_fga.csv\")\n",
        "from sklearn.discriminant_analysis import LinearDiscriminantAnalysis\n",
        "lda = LinearDiscriminantAnalysis()\n",
        "df = df.dropna()\n",
        "X = df[['ydline', 'kicker', 'togo']]\n",
        "y = df['qtr']\n",
        "lda.fit(X, y)\n",
        "transformed = lda.transform(X)"
      ],
      "metadata": {
        "id": "CWzdjXM9gGW4"
      },
      "execution_count": null,
      "outputs": []
    },
    {
      "cell_type": "code",
      "source": [
        "LDA = pd.DataFrame(transformed)\n",
        "LDA"
      ],
      "metadata": {
        "colab": {
          "base_uri": "https://localhost:8080/",
          "height": 424
        },
        "id": "aJPRoh5HTXgM",
        "outputId": "0f43f420-733c-4a9e-bc4e-a71888543f6f"
      },
      "execution_count": null,
      "outputs": [
        {
          "output_type": "execute_result",
          "data": {
            "text/html": [
              "\n",
              "  <div id=\"df-c7fc6823-1eb7-422f-99e6-bc77600c2d5e\">\n",
              "    <div class=\"colab-df-container\">\n",
              "      <div>\n",
              "<style scoped>\n",
              "    .dataframe tbody tr th:only-of-type {\n",
              "        vertical-align: middle;\n",
              "    }\n",
              "\n",
              "    .dataframe tbody tr th {\n",
              "        vertical-align: top;\n",
              "    }\n",
              "\n",
              "    .dataframe thead th {\n",
              "        text-align: right;\n",
              "    }\n",
              "</style>\n",
              "<table border=\"1\" class=\"dataframe\">\n",
              "  <thead>\n",
              "    <tr style=\"text-align: right;\">\n",
              "      <th></th>\n",
              "      <th>0</th>\n",
              "      <th>1</th>\n",
              "      <th>2</th>\n",
              "    </tr>\n",
              "  </thead>\n",
              "  <tbody>\n",
              "    <tr>\n",
              "      <th>0</th>\n",
              "      <td>-0.040506</td>\n",
              "      <td>1.283103</td>\n",
              "      <td>0.816009</td>\n",
              "    </tr>\n",
              "    <tr>\n",
              "      <th>1</th>\n",
              "      <td>0.662508</td>\n",
              "      <td>-0.864480</td>\n",
              "      <td>-1.224952</td>\n",
              "    </tr>\n",
              "    <tr>\n",
              "      <th>2</th>\n",
              "      <td>-0.728257</td>\n",
              "      <td>0.426704</td>\n",
              "      <td>-0.818553</td>\n",
              "    </tr>\n",
              "    <tr>\n",
              "      <th>3</th>\n",
              "      <td>-0.166180</td>\n",
              "      <td>-0.468854</td>\n",
              "      <td>-1.441682</td>\n",
              "    </tr>\n",
              "    <tr>\n",
              "      <th>4</th>\n",
              "      <td>1.321403</td>\n",
              "      <td>1.887342</td>\n",
              "      <td>2.712456</td>\n",
              "    </tr>\n",
              "    <tr>\n",
              "      <th>...</th>\n",
              "      <td>...</td>\n",
              "      <td>...</td>\n",
              "      <td>...</td>\n",
              "    </tr>\n",
              "    <tr>\n",
              "      <th>1032</th>\n",
              "      <td>-0.700139</td>\n",
              "      <td>-1.952926</td>\n",
              "      <td>-0.219118</td>\n",
              "    </tr>\n",
              "    <tr>\n",
              "      <th>1033</th>\n",
              "      <td>0.887177</td>\n",
              "      <td>1.583448</td>\n",
              "      <td>0.699414</td>\n",
              "    </tr>\n",
              "    <tr>\n",
              "      <th>1034</th>\n",
              "      <td>0.841748</td>\n",
              "      <td>1.065033</td>\n",
              "      <td>0.024364</td>\n",
              "    </tr>\n",
              "    <tr>\n",
              "      <th>1035</th>\n",
              "      <td>1.162518</td>\n",
              "      <td>-0.265570</td>\n",
              "      <td>-1.178526</td>\n",
              "    </tr>\n",
              "    <tr>\n",
              "      <th>1036</th>\n",
              "      <td>1.508108</td>\n",
              "      <td>-1.434928</td>\n",
              "      <td>0.858130</td>\n",
              "    </tr>\n",
              "  </tbody>\n",
              "</table>\n",
              "<p>1037 rows × 3 columns</p>\n",
              "</div>\n",
              "      <button class=\"colab-df-convert\" onclick=\"convertToInteractive('df-c7fc6823-1eb7-422f-99e6-bc77600c2d5e')\"\n",
              "              title=\"Convert this dataframe to an interactive table.\"\n",
              "              style=\"display:none;\">\n",
              "        \n",
              "  <svg xmlns=\"http://www.w3.org/2000/svg\" height=\"24px\"viewBox=\"0 0 24 24\"\n",
              "       width=\"24px\">\n",
              "    <path d=\"M0 0h24v24H0V0z\" fill=\"none\"/>\n",
              "    <path d=\"M18.56 5.44l.94 2.06.94-2.06 2.06-.94-2.06-.94-.94-2.06-.94 2.06-2.06.94zm-11 1L8.5 8.5l.94-2.06 2.06-.94-2.06-.94L8.5 2.5l-.94 2.06-2.06.94zm10 10l.94 2.06.94-2.06 2.06-.94-2.06-.94-.94-2.06-.94 2.06-2.06.94z\"/><path d=\"M17.41 7.96l-1.37-1.37c-.4-.4-.92-.59-1.43-.59-.52 0-1.04.2-1.43.59L10.3 9.45l-7.72 7.72c-.78.78-.78 2.05 0 2.83L4 21.41c.39.39.9.59 1.41.59.51 0 1.02-.2 1.41-.59l7.78-7.78 2.81-2.81c.8-.78.8-2.07 0-2.86zM5.41 20L4 18.59l7.72-7.72 1.47 1.35L5.41 20z\"/>\n",
              "  </svg>\n",
              "      </button>\n",
              "      \n",
              "  <style>\n",
              "    .colab-df-container {\n",
              "      display:flex;\n",
              "      flex-wrap:wrap;\n",
              "      gap: 12px;\n",
              "    }\n",
              "\n",
              "    .colab-df-convert {\n",
              "      background-color: #E8F0FE;\n",
              "      border: none;\n",
              "      border-radius: 50%;\n",
              "      cursor: pointer;\n",
              "      display: none;\n",
              "      fill: #1967D2;\n",
              "      height: 32px;\n",
              "      padding: 0 0 0 0;\n",
              "      width: 32px;\n",
              "    }\n",
              "\n",
              "    .colab-df-convert:hover {\n",
              "      background-color: #E2EBFA;\n",
              "      box-shadow: 0px 1px 2px rgba(60, 64, 67, 0.3), 0px 1px 3px 1px rgba(60, 64, 67, 0.15);\n",
              "      fill: #174EA6;\n",
              "    }\n",
              "\n",
              "    [theme=dark] .colab-df-convert {\n",
              "      background-color: #3B4455;\n",
              "      fill: #D2E3FC;\n",
              "    }\n",
              "\n",
              "    [theme=dark] .colab-df-convert:hover {\n",
              "      background-color: #434B5C;\n",
              "      box-shadow: 0px 1px 3px 1px rgba(0, 0, 0, 0.15);\n",
              "      filter: drop-shadow(0px 1px 2px rgba(0, 0, 0, 0.3));\n",
              "      fill: #FFFFFF;\n",
              "    }\n",
              "  </style>\n",
              "\n",
              "      <script>\n",
              "        const buttonEl =\n",
              "          document.querySelector('#df-c7fc6823-1eb7-422f-99e6-bc77600c2d5e button.colab-df-convert');\n",
              "        buttonEl.style.display =\n",
              "          google.colab.kernel.accessAllowed ? 'block' : 'none';\n",
              "\n",
              "        async function convertToInteractive(key) {\n",
              "          const element = document.querySelector('#df-c7fc6823-1eb7-422f-99e6-bc77600c2d5e');\n",
              "          const dataTable =\n",
              "            await google.colab.kernel.invokeFunction('convertToInteractive',\n",
              "                                                     [key], {});\n",
              "          if (!dataTable) return;\n",
              "\n",
              "          const docLinkHtml = 'Like what you see? Visit the ' +\n",
              "            '<a target=\"_blank\" href=https://colab.research.google.com/notebooks/data_table.ipynb>data table notebook</a>'\n",
              "            + ' to learn more about interactive tables.';\n",
              "          element.innerHTML = '';\n",
              "          dataTable['output_type'] = 'display_data';\n",
              "          await google.colab.output.renderOutput(dataTable, element);\n",
              "          const docLink = document.createElement('div');\n",
              "          docLink.innerHTML = docLinkHtml;\n",
              "          element.appendChild(docLink);\n",
              "        }\n",
              "      </script>\n",
              "    </div>\n",
              "  </div>\n",
              "  "
            ],
            "text/plain": [
              "             0         1         2\n",
              "0    -0.040506  1.283103  0.816009\n",
              "1     0.662508 -0.864480 -1.224952\n",
              "2    -0.728257  0.426704 -0.818553\n",
              "3    -0.166180 -0.468854 -1.441682\n",
              "4     1.321403  1.887342  2.712456\n",
              "...        ...       ...       ...\n",
              "1032 -0.700139 -1.952926 -0.219118\n",
              "1033  0.887177  1.583448  0.699414\n",
              "1034  0.841748  1.065033  0.024364\n",
              "1035  1.162518 -0.265570 -1.178526\n",
              "1036  1.508108 -1.434928  0.858130\n",
              "\n",
              "[1037 rows x 3 columns]"
            ]
          },
          "metadata": {},
          "execution_count": 30
        }
      ]
    },
    {
      "cell_type": "code",
      "source": [
        "lda.explained_variance_ratio_"
      ],
      "metadata": {
        "id": "EdUn2MSenDi7",
        "colab": {
          "base_uri": "https://localhost:8080/"
        },
        "outputId": "25a4862a-426c-4c73-e9af-94a23ad6a5b8"
      },
      "execution_count": null,
      "outputs": [
        {
          "output_type": "execute_result",
          "data": {
            "text/plain": [
              "array([0.6150293 , 0.32201294, 0.06295776])"
            ]
          },
          "metadata": {},
          "execution_count": 31
        }
      ]
    },
    {
      "cell_type": "code",
      "source": [
        "LDA = LDA.drop(2)"
      ],
      "metadata": {
        "id": "YGIlCR8dnCqv"
      },
      "execution_count": null,
      "outputs": []
    },
    {
      "cell_type": "markdown",
      "source": [
        "2 LD's were chosen as the variaance of the third LD was comparitivly much lower variance, Added to which variance of LDA1 and LDA2 add up to .93 "
      ],
      "metadata": {
        "id": "sw2LOXRGl74a"
      }
    },
    {
      "cell_type": "markdown",
      "source": [
        "Question 3B PCA"
      ],
      "metadata": {
        "id": "9wwLiSVMsY1k"
      }
    },
    {
      "cell_type": "code",
      "source": [
        "from sklearn.decomposition import PCA\n",
        "pca=PCA()\n",
        "df = pd.read_csv(\"nfl2008_fga.csv\")\n",
        "\n",
        "X = df[[\"togo\",\"ydline\",\"kicker\",\"distance\",\"homekick\",\"kickdiff\"]]\n",
        "X.isna().sum()\n"
      ],
      "metadata": {
        "id": "NKuufUgYvb5V",
        "colab": {
          "base_uri": "https://localhost:8080/"
        },
        "outputId": "2c847870-4543-4bc6-c12a-0f7fbae77d97"
      },
      "execution_count": null,
      "outputs": [
        {
          "output_type": "execute_result",
          "data": {
            "text/plain": [
              "togo        2\n",
              "ydline      0\n",
              "kicker      0\n",
              "distance    0\n",
              "homekick    0\n",
              "kickdiff    0\n",
              "dtype: int64"
            ]
          },
          "metadata": {},
          "execution_count": 4
        }
      ]
    },
    {
      "cell_type": "code",
      "source": [
        "X = X.dropna()\n",
        "model=pca.fit_transform(X)"
      ],
      "metadata": {
        "id": "6MG6aCSFh1ne"
      },
      "execution_count": null,
      "outputs": []
    },
    {
      "cell_type": "code",
      "source": [
        "pcaVar = pca.explained_variance_ratio_\n",
        "pcDF = pd.DataFrame(pca.explained_variance_ratio_)\n",
        "pcDF"
      ],
      "metadata": {
        "id": "mEmmXIeKvb2K",
        "colab": {
          "base_uri": "https://localhost:8080/",
          "height": 238
        },
        "outputId": "1fd3b760-15c0-49de-caf0-5823e2a2bfcf"
      },
      "execution_count": null,
      "outputs": [
        {
          "output_type": "execute_result",
          "data": {
            "text/html": [
              "\n",
              "  <div id=\"df-85c9e895-4480-4e09-8638-20413eb7361e\">\n",
              "    <div class=\"colab-df-container\">\n",
              "      <div>\n",
              "<style scoped>\n",
              "    .dataframe tbody tr th:only-of-type {\n",
              "        vertical-align: middle;\n",
              "    }\n",
              "\n",
              "    .dataframe tbody tr th {\n",
              "        vertical-align: top;\n",
              "    }\n",
              "\n",
              "    .dataframe thead th {\n",
              "        text-align: right;\n",
              "    }\n",
              "</style>\n",
              "<table border=\"1\" class=\"dataframe\">\n",
              "  <thead>\n",
              "    <tr style=\"text-align: right;\">\n",
              "      <th></th>\n",
              "      <th>0</th>\n",
              "    </tr>\n",
              "  </thead>\n",
              "  <tbody>\n",
              "    <tr>\n",
              "      <th>0</th>\n",
              "      <td>0.448386</td>\n",
              "    </tr>\n",
              "    <tr>\n",
              "      <th>1</th>\n",
              "      <td>0.297480</td>\n",
              "    </tr>\n",
              "    <tr>\n",
              "      <th>2</th>\n",
              "      <td>0.218312</td>\n",
              "    </tr>\n",
              "    <tr>\n",
              "      <th>3</th>\n",
              "      <td>0.035031</td>\n",
              "    </tr>\n",
              "    <tr>\n",
              "      <th>4</th>\n",
              "      <td>0.000559</td>\n",
              "    </tr>\n",
              "    <tr>\n",
              "      <th>5</th>\n",
              "      <td>0.000233</td>\n",
              "    </tr>\n",
              "  </tbody>\n",
              "</table>\n",
              "</div>\n",
              "      <button class=\"colab-df-convert\" onclick=\"convertToInteractive('df-85c9e895-4480-4e09-8638-20413eb7361e')\"\n",
              "              title=\"Convert this dataframe to an interactive table.\"\n",
              "              style=\"display:none;\">\n",
              "        \n",
              "  <svg xmlns=\"http://www.w3.org/2000/svg\" height=\"24px\"viewBox=\"0 0 24 24\"\n",
              "       width=\"24px\">\n",
              "    <path d=\"M0 0h24v24H0V0z\" fill=\"none\"/>\n",
              "    <path d=\"M18.56 5.44l.94 2.06.94-2.06 2.06-.94-2.06-.94-.94-2.06-.94 2.06-2.06.94zm-11 1L8.5 8.5l.94-2.06 2.06-.94-2.06-.94L8.5 2.5l-.94 2.06-2.06.94zm10 10l.94 2.06.94-2.06 2.06-.94-2.06-.94-.94-2.06-.94 2.06-2.06.94z\"/><path d=\"M17.41 7.96l-1.37-1.37c-.4-.4-.92-.59-1.43-.59-.52 0-1.04.2-1.43.59L10.3 9.45l-7.72 7.72c-.78.78-.78 2.05 0 2.83L4 21.41c.39.39.9.59 1.41.59.51 0 1.02-.2 1.41-.59l7.78-7.78 2.81-2.81c.8-.78.8-2.07 0-2.86zM5.41 20L4 18.59l7.72-7.72 1.47 1.35L5.41 20z\"/>\n",
              "  </svg>\n",
              "      </button>\n",
              "      \n",
              "  <style>\n",
              "    .colab-df-container {\n",
              "      display:flex;\n",
              "      flex-wrap:wrap;\n",
              "      gap: 12px;\n",
              "    }\n",
              "\n",
              "    .colab-df-convert {\n",
              "      background-color: #E8F0FE;\n",
              "      border: none;\n",
              "      border-radius: 50%;\n",
              "      cursor: pointer;\n",
              "      display: none;\n",
              "      fill: #1967D2;\n",
              "      height: 32px;\n",
              "      padding: 0 0 0 0;\n",
              "      width: 32px;\n",
              "    }\n",
              "\n",
              "    .colab-df-convert:hover {\n",
              "      background-color: #E2EBFA;\n",
              "      box-shadow: 0px 1px 2px rgba(60, 64, 67, 0.3), 0px 1px 3px 1px rgba(60, 64, 67, 0.15);\n",
              "      fill: #174EA6;\n",
              "    }\n",
              "\n",
              "    [theme=dark] .colab-df-convert {\n",
              "      background-color: #3B4455;\n",
              "      fill: #D2E3FC;\n",
              "    }\n",
              "\n",
              "    [theme=dark] .colab-df-convert:hover {\n",
              "      background-color: #434B5C;\n",
              "      box-shadow: 0px 1px 3px 1px rgba(0, 0, 0, 0.15);\n",
              "      filter: drop-shadow(0px 1px 2px rgba(0, 0, 0, 0.3));\n",
              "      fill: #FFFFFF;\n",
              "    }\n",
              "  </style>\n",
              "\n",
              "      <script>\n",
              "        const buttonEl =\n",
              "          document.querySelector('#df-85c9e895-4480-4e09-8638-20413eb7361e button.colab-df-convert');\n",
              "        buttonEl.style.display =\n",
              "          google.colab.kernel.accessAllowed ? 'block' : 'none';\n",
              "\n",
              "        async function convertToInteractive(key) {\n",
              "          const element = document.querySelector('#df-85c9e895-4480-4e09-8638-20413eb7361e');\n",
              "          const dataTable =\n",
              "            await google.colab.kernel.invokeFunction('convertToInteractive',\n",
              "                                                     [key], {});\n",
              "          if (!dataTable) return;\n",
              "\n",
              "          const docLinkHtml = 'Like what you see? Visit the ' +\n",
              "            '<a target=\"_blank\" href=https://colab.research.google.com/notebooks/data_table.ipynb>data table notebook</a>'\n",
              "            + ' to learn more about interactive tables.';\n",
              "          element.innerHTML = '';\n",
              "          dataTable['output_type'] = 'display_data';\n",
              "          await google.colab.output.renderOutput(dataTable, element);\n",
              "          const docLink = document.createElement('div');\n",
              "          docLink.innerHTML = docLinkHtml;\n",
              "          element.appendChild(docLink);\n",
              "        }\n",
              "      </script>\n",
              "    </div>\n",
              "  </div>\n",
              "  "
            ],
            "text/plain": [
              "          0\n",
              "0  0.448386\n",
              "1  0.297480\n",
              "2  0.218312\n",
              "3  0.035031\n",
              "4  0.000559\n",
              "5  0.000233"
            ]
          },
          "metadata": {},
          "execution_count": 6
        }
      ]
    },
    {
      "cell_type": "code",
      "source": [
        "import matplotlib.pyplot as plt\n",
        "PC_Val =np.arange(pca.n_components_)\n",
        "plt.plot(PC_Val, pca.explained_variance_ratio_)\n",
        "plt.title('PCA Plot')\n",
        "plt.xlabel('Principal Component')\n",
        "plt.ylabel('Variance Explained')\n",
        "plt.show()"
      ],
      "metadata": {
        "id": "IQr6Kjq7vbu1",
        "colab": {
          "base_uri": "https://localhost:8080/",
          "height": 295
        },
        "outputId": "1d16aa4d-f5d3-44a3-d4d1-c33a10c88e57"
      },
      "execution_count": null,
      "outputs": [
        {
          "output_type": "display_data",
          "data": {
            "image/png": "[encoded data removed]",
            "text/plain": [
              "<Figure size 432x288 with 1 Axes>"
            ]
          },
          "metadata": {
            "needs_background": "light"
          }
        }
      ]
    },
    {
      "cell_type": "markdown",
      "source": [
        "From the above I would choose the first 3 PCA as they cover over 90% of the varaince in the dataframe provided. "
      ],
      "metadata": {
        "id": "14ES7668v-5j"
      }
    }
  ]
}