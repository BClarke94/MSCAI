{
  "nbformat": 4,
  "nbformat_minor": 0,
  "metadata": {
    "colab": {
      "name": "DeepLearningCA1.ipynb",
      "provenance": [],
      "collapsed_sections": [],
      "toc_visible": true,
      "authorship_tag": "ABX9TyNmDK9Mu6RH1NNCuNqz/Yma",
      "include_colab_link": true
    },
    "kernelspec": {
      "name": "python3",
      "display_name": "Python 3"
    },
    "language_info": {
      "name": "python"
    }
  },
  "cells": [
    {
      "cell_type": "markdown",
      "metadata": {
        "id": "view-in-github",
        "colab_type": "text"
      },
      "source": [
        "<a href=\"https://colab.research.google.com/github/BClarke94/MSCAI/blob/main/DeepLearningCA1.ipynb\" target=\"_parent\"><img src=\"https://colab.research.google.com/assets/colab-badge.svg\" alt=\"Open In Colab\"/></a>"
      ]
    },
    {
      "cell_type": "markdown",
      "source": [
        "# Imports"
      ],
      "metadata": {
        "id": "fa-J7A9xeZb0"
      }
    },
    {
      "cell_type": "code",
      "source": [
        "#Basic imports \n",
        "import csv\n",
        "import pandas as pd\n",
        "import numpy as np\n",
        "from numpy import int32\n",
        "import string\n",
        "import matplotlib.pyplot as plt\n",
        "from sklearn.preprocessing import MinMaxScaler\n",
        "from nltk import text\n",
        "from keras.models import Sequential\n",
        "from keras import layers\n",
        "from keras.layers import LeakyReLU\n",
        "import pickle\n",
        "import tensorflow as tf\n",
        "keras = tf.keras \n",
        "from sklearn.model_selection import train_test_split\n",
        "\n",
        "#Removal of stopwords\n",
        "import nltk\n",
        "from nltk.corpus import stopwords\n",
        "nltk.download('stopwords')\n",
        "stop = stopwords.words('english')\n",
        "\n",
        "#Stemming the words\n",
        "from nltk.stem.snowball import SnowballStemmer\n",
        "stemmer = SnowballStemmer(\"english\")\n",
        "\n",
        "#For vectorizing text\n",
        "from sklearn.feature_extraction.text import CountVectorizer\n",
        "\n",
        "\n",
        "#Resampling imports\n",
        "from imblearn.under_sampling import RandomUnderSampler\n",
        "from imblearn.over_sampling import RandomOverSampler, SMOTE\n",
        "from collections import Counter\n",
        "\n",
        "#Packages for CNN\n",
        "from keras.preprocessing.text import Tokenizer\n",
        "from keras.preprocessing.sequence import pad_sequences\n",
        "\n",
        "#Importing packages for RNN-LSTM model \n",
        "from sklearn.preprocessing import LabelEncoder\n",
        "from keras.models import Model\n",
        "from keras.layers import LSTM, Activation, Dense, Dropout, Input, Embedding\n",
        "from tensorflow.keras.optimizers import RMSprop\n",
        "from keras.preprocessing.text import Tokenizer\n",
        "from keras.preprocessing import sequence\n",
        "from tensorflow.keras.utils import to_categorical\n",
        "from keras.callbacks import EarlyStopping\n",
        "import seaborn as sns\n",
        "%matplotlib inline\n",
        "\n",
        "#Filter Warnings\n",
        "import warnings as wrn\n",
        "wrn.filterwarnings('ignore')\n"
      ],
      "metadata": {
        "id": "h4WjCRlN9lJE",
        "colab": {
          "base_uri": "https://localhost:8080/"
        },
        "outputId": "56d32e92-7c9d-4af9-f22b-9f5f879f5ced"
      },
      "execution_count": null,
      "outputs": [
        {
          "output_type": "stream",
          "name": "stdout",
          "text": [
            "[nltk_data] Downloading package stopwords to /root/nltk_data...\n",
            "[nltk_data]   Unzipping corpora/stopwords.zip.\n"
          ]
        }
      ]
    },
    {
      "cell_type": "markdown",
      "source": [
        "# Data Preperation"
      ],
      "metadata": {
        "id": "3h6VwtdwecpO"
      }
    },
    {
      "cell_type": "code",
      "execution_count": null,
      "metadata": {
        "id": "4rCVksFy85WR",
        "colab": {
          "base_uri": "https://localhost:8080/"
        },
        "outputId": "e5a5c844-2b46-416e-8bd2-19fb90035031"
      },
      "outputs": [
        {
          "output_type": "stream",
          "name": "stdout",
          "text": [
            "Total Number of Rows in dataset: 12854\n",
            "---\n",
            "Title                  0\n",
            "Political Lean         0\n",
            "Score                  0\n",
            "Id                     0\n",
            "Subreddit              0\n",
            "URL                    0\n",
            "Num of Comments        0\n",
            "Text               10426\n",
            "Date Created           0\n",
            "dtype: int64\n",
            "---\n",
            "300\n",
            "---\n",
            "Title             0\n",
            "Political Lean    0\n",
            "dtype: int64\n"
          ]
        }
      ],
      "source": [
        "df = pd.read_csv(\"politicalLean.csv\",index_col=0)\n",
        "df =df.reset_index()\n",
        "print(\"Total Number of Rows in dataset: \" + str(len(df.index)))\n",
        "print(\"---\")\n",
        "print(df.isnull().sum())\n",
        "#Selecting only the title and political leaning for classification\n",
        "df = df[['Title', 'Political Lean']]\n",
        "print(\"---\")\n",
        "print(df['Title'].map(lambda x: len(x)).max())\n",
        "print(\"---\")\n",
        "print(df.isnull().sum())\n"
      ]
    },
    {
      "cell_type": "markdown",
      "source": [
        "## Function Creation"
      ],
      "metadata": {
        "id": "3hHGHzuEef51"
      }
    },
    {
      "cell_type": "code",
      "source": [
        "def dataPrep(dataframe, lower):\n",
        "  #Checking for null values\n",
        "  \n",
        "\n",
        "  dataframe.loc[df['Political Lean'] == \"Liberal\", 'Political Lean'] = 0\n",
        "  dataframe.loc[df['Political Lean'] == \"Conservative\", 'Political Lean'] = 1\n",
        "\n",
        "  #Removing Stopwords, punctuation and moving all letters to lowercase\n",
        "  dataframe['Title'] = dataframe['Title'].apply(lambda x:x.translate(str.maketrans('', '',string.punctuation)))\n",
        "  dataframe['Title'] = dataframe['Title'].apply(lambda x: ' '.join([word for word in x.split() if word not in (stop)]))\n",
        "\n",
        "  if lower == 1:\n",
        "    dataframe['Title'] = dataframe['Title'].apply(lambda x:x.lower())\n",
        "  #else:  \n",
        "    #print(dataframe['Title'][0])\n",
        "    #dataframe['Title'] = dataframe['Title'].apply(lambda x: ' '.join([word for word in x.split() if word not in (stop)]))\n",
        "    #print(dataframe['Title'][0])\n",
        "    #dataframe['Title'] = dataframe['Title'].apply(lambda x: [stemmer.stem(y) for y in x])\n",
        "    #print(dataframe['Title'][0])\n",
        "  X = dataframe['Title']\n",
        "\n",
        "  y = dataframe['Political Lean']\n",
        "  y = np.asarray(y).astype('float32')\n",
        "  return(X, y)"
      ],
      "metadata": {
        "id": "96BfhiEt_iJ2"
      },
      "execution_count": null,
      "outputs": []
    },
    {
      "cell_type": "code",
      "source": [
        "#Creating a function for plotting ouput data of model later\n",
        "def plotCheck(history):\n",
        "  print(history.history.keys())\n",
        "  # summarize history for accuracy\n",
        "  plt.plot(history.history['accuracy'])\n",
        "  plt.plot(history.history['val_accuracy'])\n",
        "  plt.title('model accuracy')\n",
        "  plt.ylabel('accuracy')\n",
        "  plt.xlabel('epoch')\n",
        "  plt.legend(['train', 'test'], loc='upper left')\n",
        "  plt.show()\n",
        "  # summarize history for loss\n",
        "  plt.plot(history.history['loss'])\n",
        "  plt.plot(history.history['val_loss'])\n",
        "  plt.title('model loss')\n",
        "  plt.ylabel('loss')\n",
        "  plt.xlabel('epoch')\n",
        "  plt.legend(['train', 'test'], loc='upper left')\n",
        "  plt.show()\n",
        "\n"
      ],
      "metadata": {
        "id": "12jpau8fGzlt"
      },
      "execution_count": null,
      "outputs": []
    },
    {
      "cell_type": "code",
      "source": [
        "def prediction_Output(predictions):\n",
        "  prediction_res = np.mean(predictions) \n",
        "  if prediction_res < .5:\n",
        "    prediction = \"Likely Written by a Liberal\"\n",
        "  else:\n",
        "    prediction = \"Likely Written by a Republican\"\n",
        "  return prediction"
      ],
      "metadata": {
        "id": "EpERlTv4-O5L"
      },
      "execution_count": null,
      "outputs": []
    },
    {
      "cell_type": "code",
      "source": [
        "df.value_counts('Political Lean')"
      ],
      "metadata": {
        "colab": {
          "base_uri": "https://localhost:8080/"
        },
        "id": "Z7WA-jkk24Oo",
        "outputId": "c33bbe2f-d40b-4477-d51d-e0768b877a24"
      },
      "execution_count": null,
      "outputs": [
        {
          "output_type": "execute_result",
          "data": {
            "text/plain": [
              "Political Lean\n",
              "Liberal         8319\n",
              "Conservative    4535\n",
              "dtype: int64"
            ]
          },
          "metadata": {},
          "execution_count": 8
        }
      ]
    },
    {
      "cell_type": "code",
      "source": [
        "X, y = dataPrep(df, 1)\n",
        "\n",
        "X_train, X_test, y_train, y_test = train_test_split(X, y, test_size=0.25, random_state=1000)\n",
        "\n",
        "df['Title'][0]"
      ],
      "metadata": {
        "id": "XqD3J6iCo5-i",
        "colab": {
          "base_uri": "https://localhost:8080/",
          "height": 53
        },
        "outputId": "b40ee133-485d-48d8-95d0-16c6be9f13a3"
      },
      "execution_count": null,
      "outputs": [
        {
          "output_type": "execute_result",
          "data": {
            "text/plain": [
              "'no matter someone look like language speak wear remember human for sake humanity working class must unite across arbitrary boundaries'"
            ],
            "application/vnd.google.colaboratory.intrinsic+json": {
              "type": "string"
            }
          },
          "metadata": {},
          "execution_count": 8
        }
      ]
    },
    {
      "cell_type": "markdown",
      "source": [
        "Undersampling to reduce Computational Cost "
      ],
      "metadata": {
        "id": "MYLH9E3lppBn"
      }
    },
    {
      "cell_type": "code",
      "source": [
        "def underSamp(X_train, X_test, y_train, y_test, model):\n",
        "  X_train1 = X_train.to_numpy()\n",
        "  X_test1 = X_test.to_numpy()\n",
        "\n",
        "  under_sampler = RandomUnderSampler(random_state=420)\n",
        "  X1 = X_train1.reshape(-1, 1)\n",
        "  y1 = y_train.reshape(-1, 1)\n",
        "  X_test1 = X_test1.reshape(-1, 1)\n",
        "  y_test1 = y_test.reshape(-1, 1)\n",
        "\n",
        "  X_under, y_train_under = under_sampler.fit_resample(X1, y1)\n",
        "  X_test_under, y_test_under = under_sampler.fit_resample(X_test1, y_test1)\n",
        "  if model == 'CNN':\n",
        "    X_under = X_under.tolist()\n",
        "    X_test_under = X_test_under.tolist()\n",
        "    \n",
        "\n",
        "  print(f\"Training target statistics: {Counter(y_train_under)}\")\n",
        "  print(f\"Testing target statistics: {Counter(y_test_under)}\")\n",
        "  return X_under, y_train_under, X_test_under, y_test_under"
      ],
      "metadata": {
        "id": "yKZCxZNKodnz"
      },
      "execution_count": null,
      "outputs": []
    },
    {
      "cell_type": "code",
      "source": [
        "def overSamp(X_train, X_test, y_train, y_test, model):\n",
        "  X_train1 = X_train.to_numpy()\n",
        "  X_test1 = X_test.to_numpy()\n",
        "\n",
        "  over_sampler = RandomOverSampler(random_state=420)\n",
        "  X1 = X_train1.reshape(-1, 1)\n",
        "  y1 = y_train.reshape(-1, 1)\n",
        "  X_test1 = X_test1.reshape(-1, 1)\n",
        "  y_test1 = y_test.reshape(-1, 1)\n",
        "\n",
        "  X_over, y_train_over = over_sampler.fit_resample(X1, y1)\n",
        "  X_test_over, y_test_over = over_sampler.fit_resample(X_test1, y_test1)\n",
        "  if model == 'CNN':\n",
        "    X_over = X_over.tolist()\n",
        "    X_test_over = X_test_over.tolist()\n",
        "    \n",
        "\n",
        "  print(f\"Training target statistics: {Counter(y_train_over)}\")\n",
        "  print(f\"Testing target statistics: {Counter(y_test_over)}\")\n",
        "  return X_over, y_train_over, X_test_over, y_test_over"
      ],
      "metadata": {
        "id": "WxXxVujyCP3s"
      },
      "execution_count": null,
      "outputs": []
    },
    {
      "cell_type": "markdown",
      "source": [
        "# ANN MODEL"
      ],
      "metadata": {
        "id": "Hb8A7vUnsykK"
      }
    },
    {
      "cell_type": "code",
      "source": [
        "#Preparing the data for transformation into vectorized data\n",
        "X_train, X_test, y_train, y_test = train_test_split(X, y, test_size=0.25, random_state=1000)\n",
        "\n",
        "X_under, y_train_under, X_test_under, y_test_under = underSamp(X_train, X_test, y_train, y_test, 'ANN')\n",
        "\n",
        "#X_over, y_train_over, X_test_over, y_test_over = overSamp(X_train, X_test, y_train, y_test, 'ANN')\n",
        "\n",
        "X_under =X_under.flatten(order='C')\n",
        "X_under = pd.Series(X_under)\n",
        "\n",
        "X_test_under =X_test_under.flatten(order='C')\n",
        "X_test_under = pd.Series(X_test_under)\n",
        "\n",
        "#Count Vectorization fitting\n",
        "count_vect = CountVectorizer()\n",
        "count_vect.fit(X_under)\n",
        "\n",
        "#Bigram vecotrization fitting\n",
        "bigram_vectorizer = CountVectorizer(ngram_range=(1, 3), token_pattern=r'\\b\\w+\\b', min_df=1)\n",
        "bigram_vectorizer.fit(X_under)\n",
        "\n",
        "#Creating the sparse matrix's from this data\n",
        "X_train_COUNT = count_vect.transform(X_under)\n",
        "X_test_COUNT  = count_vect.transform(X_test_under)\n",
        "\n",
        "X_train_BIGRAM = bigram_vectorizer.transform(X_under)\n",
        "X_test_BIGRAM = bigram_vectorizer.transform(X_test_under)\n"
      ],
      "metadata": {
        "id": "p4iJlbEuTtLy",
        "colab": {
          "base_uri": "https://localhost:8080/"
        },
        "outputId": "2c6f0036-0cc4-4026-f739-c04ac9df1d79"
      },
      "execution_count": null,
      "outputs": [
        {
          "output_type": "stream",
          "name": "stdout",
          "text": [
            "Training target statistics: Counter({0.0: 3376, 1.0: 3376})\n",
            "Testing target statistics: Counter({0.0: 1159, 1.0: 1159})\n"
          ]
        }
      ]
    },
    {
      "cell_type": "code",
      "source": [
        "\n",
        "textVec = X_train_BIGRAM\n",
        "textVec_test = X_test_BIGRAM\n",
        "\n",
        "input_dim = textVec.shape[1]  # Number of features\n",
        "#input_dim = X_train_COUNT.shape[1] \n",
        "\n",
        "model_ANN = Sequential()\n",
        "model_ANN.add(layers.Dense(10, input_dim=input_dim, activation='relu'))\n",
        "#model.add(layers.Dense(10, input_dim=65420, activation='sigmoid'))\n",
        "model_ANN.add(layers.Dense(1, activation='sigmoid'))"
      ],
      "metadata": {
        "id": "7yRn5ovPV1Xl"
      },
      "execution_count": null,
      "outputs": []
    },
    {
      "cell_type": "code",
      "source": [
        "model_ANN.compile(loss='binary_crossentropy', \n",
        "              optimizer='adam', \n",
        "              metrics=['accuracy'])\n",
        "model_ANN.summary()"
      ],
      "metadata": {
        "colab": {
          "base_uri": "https://localhost:8080/"
        },
        "id": "wLOTfWmMsFER",
        "outputId": "604091ff-4356-49da-a5ca-316c78a681f5"
      },
      "execution_count": null,
      "outputs": [
        {
          "output_type": "stream",
          "name": "stdout",
          "text": [
            "Model: \"sequential\"\n",
            "_________________________________________________________________\n",
            " Layer (type)                Output Shape              Param #   \n",
            "=================================================================\n",
            " dense (Dense)               (None, 10)                1050070   \n",
            "                                                                 \n",
            " dense_1 (Dense)             (None, 1)                 11        \n",
            "                                                                 \n",
            "=================================================================\n",
            "Total params: 1,050,081\n",
            "Trainable params: 1,050,081\n",
            "Non-trainable params: 0\n",
            "_________________________________________________________________\n"
          ]
        }
      ]
    },
    {
      "cell_type": "code",
      "source": [
        "tf.keras.utils.plot_model(model_ANN)"
      ],
      "metadata": {
        "colab": {
          "base_uri": "https://localhost:8080/",
          "height": 272
        },
        "id": "k_0Zs1fuSuzy",
        "outputId": "c629f85a-e9d1-400b-8d14-de66c7d4fab1"
      },
      "execution_count": null,
      "outputs": [
        {
          "output_type": "execute_result",
          "data": {
            "text/plain": [
              "<IPython.core.display.Image object>"
            ],
            "image/png": "[encoded data removed]"
          },
          "metadata": {},
          "execution_count": 339
        }
      ]
    },
    {
      "cell_type": "code",
      "source": [
        "history = model_ANN.fit(textVec, y_train_under,\n",
        "                    #validation_split=0.33,\n",
        "                    epochs=6,\n",
        "                    verbose=False,\n",
        "                    validation_data=(textVec_test, y_test_under),\n",
        "                    batch_size=100)"
      ],
      "metadata": {
        "id": "j6tuDl7FWagL"
      },
      "execution_count": null,
      "outputs": []
    },
    {
      "cell_type": "code",
      "source": [
        "plotCheck(history)\n",
        "\n",
        "#Checking general accuracy of the model after training \n",
        "loss, accuracy1 = model_ANN.evaluate(textVec, y_train_under, verbose=False)\n",
        "print(\"Training Accuracy: {:.4f}\".format(accuracy1))\n",
        "\n",
        "loss, accuracy2 = model_ANN.evaluate(textVec_test, y_test_under, verbose=False)\n",
        "print(\"Testing Accuracy:  {:.4f}\".format(accuracy2))"
      ],
      "metadata": {
        "colab": {
          "base_uri": "https://localhost:8080/",
          "height": 626
        },
        "id": "4n72gg30IE48",
        "outputId": "11964713-5af1-44fb-880d-1f6381ce319e"
      },
      "execution_count": null,
      "outputs": [
        {
          "output_type": "stream",
          "name": "stdout",
          "text": [
            "dict_keys(['loss', 'accuracy', 'val_loss', 'val_accuracy'])\n"
          ]
        },
        {
          "output_type": "display_data",
          "data": {
            "text/plain": [
              "<Figure size 432x288 with 1 Axes>"
            ],
            "image/png": "[encoded data removed]"
          },
          "metadata": {
            "needs_background": "light"
          }
        },
        {
          "output_type": "display_data",
          "data": {
            "text/plain": [
              "<Figure size 432x288 with 1 Axes>"
            ],
            "image/png": "[encoded data removed]"
          },
          "metadata": {
            "needs_background": "light"
          }
        },
        {
          "output_type": "stream",
          "name": "stdout",
          "text": [
            "Training Accuracy: 0.9969\n",
            "Testing Accuracy:  0.7325\n"
          ]
        }
      ]
    },
    {
      "cell_type": "markdown",
      "source": [
        "## Prediction:\n",
        "ANN model"
      ],
      "metadata": {
        "id": "QByA_zf5c6YC"
      }
    },
    {
      "cell_type": "code",
      "source": [
        "pred_Lib = \"Voting machine maker wins appeal in GOP election inquiry\"\n",
        "pred_Con = \"Bill Barr Urges Republicans to Pick an ‘Impressive’ and ‘Younger’ 2024 Nominee Instead of Trump\"\n",
        "pred_Con2 = 'After a lot of research, it appears that their excuse for this is closing the income and generational wealth gap between whites, minorities and “undocumented migrants”'\n",
        "\n",
        "for i in [pred_Lib, pred_Con, pred_Con2]:\n",
        "  tokenized_ann = i.split(\" \")\n",
        "  X_pred_bi = bigram_vectorizer.transform(tokenized_ann)\n",
        "  predictions = model_ANN.predict(X_pred_bi)\n",
        "\n",
        "  print(prediction_Output(predictions))\n"
      ],
      "metadata": {
        "colab": {
          "base_uri": "https://localhost:8080/"
        },
        "id": "wXWuemiic6FJ",
        "outputId": "df16a856-213a-462c-8f9b-e544fef9e095"
      },
      "execution_count": null,
      "outputs": [
        {
          "output_type": "stream",
          "name": "stdout",
          "text": [
            "Likely Written by a Liberal\n",
            "Likely Written by a Republican\n",
            "Likely Written by a Republican\n"
          ]
        }
      ]
    },
    {
      "cell_type": "markdown",
      "source": [
        "# CNN Model"
      ],
      "metadata": {
        "id": "itd6PZF6iUfa"
      }
    },
    {
      "cell_type": "code",
      "source": [
        "X, y = dataPrep(df, 0)\n",
        "scaler = MinMaxScaler(feature_range=(0, 1))\n",
        "\n",
        "X_train, X_test, y_train, y_test = train_test_split(X, y, test_size=0.25)\n",
        "#X_under_CNN, y_train_under, X_test_under_CNN, y_test_under = underSamp(X_train, X_test, y_train, y_test, 'CNN')\n",
        "#X_over, y_train_over, X_test_over, y_test_over = overSamp(X_train,X_test,y_train,y_test, 'CNN')\n",
        "\n",
        "tokenizer = Tokenizer(num_words=300, lower=False)\n",
        "tokenizer.fit_on_texts(X_train)\n",
        "\n",
        "\n",
        "#tokenizer.fit_on_texts(X_train)\n",
        "\n",
        "X_train1 = tokenizer.texts_to_sequences(X_train)\n",
        "X_test1= tokenizer.texts_to_sequences(X_test)\n"
      ],
      "metadata": {
        "id": "yJix3IMWkmvP"
      },
      "execution_count": null,
      "outputs": []
    },
    {
      "cell_type": "code",
      "source": [
        "input_dim = len(tokenizer.word_index) + 1\n",
        "embedding_dim = 50\n",
        "maxlen = 30\n",
        "\n",
        "X_train_CNN = pad_sequences(X_train1, padding='pre', maxlen=maxlen)\n",
        "X_test_CNN = pad_sequences(X_test1, padding='pre', maxlen=maxlen)\n",
        "\n",
        "X_train_CNN = scaler.fit_transform(X_train_CNN)\n",
        "X_test_CNN = scaler.fit_transform(X_test_CNN)"
      ],
      "metadata": {
        "id": "hgQagevjjEo3"
      },
      "execution_count": null,
      "outputs": []
    },
    {
      "cell_type": "code",
      "source": [
        "opt = keras.optimizers.Adam(learning_rate=0.0001)\n",
        "model_CNN = Sequential()\n",
        "model_CNN.add(layers.Embedding(input_dim=input_dim, \n",
        "                           output_dim=embedding_dim, \n",
        "                           input_length=maxlen))\n",
        "model_CNN.add(layers.Dense(20, activation='sigmoid'))\n",
        "model_CNN.add(Dropout(0.5))\n",
        "model_CNN.add(layers.Flatten(data_format = None))\n",
        "model_CNN.add(layers.Dense(20, activation='sigmoid'))\n",
        "model_CNN.add(layers.Dense(1, activation='sigmoid'))\n",
        "\n",
        "model_CNN.compile(optimizer=opt,\n",
        "              loss='binary_crossentropy',\n",
        "              metrics=['accuracy'])\n",
        "model_CNN.summary()"
      ],
      "metadata": {
        "colab": {
          "base_uri": "https://localhost:8080/"
        },
        "id": "9IUmQpRNALm0",
        "outputId": "8d795d9b-0402-43de-a7f4-950f86f94613"
      },
      "execution_count": null,
      "outputs": [
        {
          "output_type": "stream",
          "name": "stdout",
          "text": [
            "Model: \"sequential_1\"\n",
            "_________________________________________________________________\n",
            " Layer (type)                Output Shape              Param #   \n",
            "=================================================================\n",
            " embedding (Embedding)       (None, 30, 50)            811900    \n",
            "                                                                 \n",
            " dense_2 (Dense)             (None, 30, 20)            1020      \n",
            "                                                                 \n",
            " dropout (Dropout)           (None, 30, 20)            0         \n",
            "                                                                 \n",
            " flatten (Flatten)           (None, 600)               0         \n",
            "                                                                 \n",
            " dense_3 (Dense)             (None, 20)                12020     \n",
            "                                                                 \n",
            " dense_4 (Dense)             (None, 1)                 21        \n",
            "                                                                 \n",
            "=================================================================\n",
            "Total params: 824,961\n",
            "Trainable params: 824,961\n",
            "Non-trainable params: 0\n",
            "_________________________________________________________________\n"
          ]
        }
      ]
    },
    {
      "cell_type": "code",
      "source": [
        "tf.keras.utils.plot_model(model_CNN)"
      ],
      "metadata": {
        "id": "hNTKGv3ZfySf",
        "outputId": "686a19a6-97ce-4708-da59-c096b1cc709a",
        "colab": {
          "base_uri": "https://localhost:8080/",
          "height": 661
        }
      },
      "execution_count": null,
      "outputs": [
        {
          "output_type": "execute_result",
          "data": {
            "text/plain": [
              "<IPython.core.display.Image object>"
            ],
            "image/png": "[encoded data removed]"
          },
          "metadata": {},
          "execution_count": 26
        }
      ]
    },
    {
      "cell_type": "code",
      "source": [
        "history = model_CNN.fit(X_train_CNN, y_train,\n",
        "                    epochs=10,\n",
        "                    verbose=False,\n",
        "                    validation_data=(X_test_CNN, y_test),\n",
        "                    batch_size=100)\n"
      ],
      "metadata": {
        "id": "p-z3fyRNjcVz"
      },
      "execution_count": null,
      "outputs": []
    },
    {
      "cell_type": "code",
      "source": [
        "plotCheck(history)\n",
        "\n",
        "loss, accuracy = model_CNN.evaluate(X_train_CNN, y_train, verbose=False)\n",
        "print(\"Training Accuracy: {:.4f}\".format(accuracy))\n",
        "loss, accuracy = model_CNN.evaluate(X_test_CNN, y_test, verbose=False)\n",
        "print(\"Testing Accuracy:  {:.4f}\".format(accuracy))"
      ],
      "metadata": {
        "colab": {
          "base_uri": "https://localhost:8080/",
          "height": 626
        },
        "id": "kyHeAM5GNlyK",
        "outputId": "1695a81d-3007-4a78-e66c-b54c7d84331a"
      },
      "execution_count": null,
      "outputs": [
        {
          "output_type": "stream",
          "name": "stdout",
          "text": [
            "dict_keys(['loss', 'accuracy', 'val_loss', 'val_accuracy'])\n"
          ]
        },
        {
          "output_type": "display_data",
          "data": {
            "text/plain": [
              "<Figure size 432x288 with 1 Axes>"
            ],
            "image/png": "[encoded data removed]"
          },
          "metadata": {
            "needs_background": "light"
          }
        },
        {
          "output_type": "display_data",
          "data": {
            "text/plain": [
              "<Figure size 432x288 with 1 Axes>"
            ],
            "image/png": "[encoded data removed]"
          },
          "metadata": {
            "needs_background": "light"
          }
        },
        {
          "output_type": "stream",
          "name": "stdout",
          "text": [
            "Training Accuracy: 0.6499\n",
            "Testing Accuracy:  0.6391\n"
          ]
        }
      ]
    },
    {
      "cell_type": "markdown",
      "source": [
        "## Prediction:\n",
        "\n",
        "CNN Model"
      ],
      "metadata": {
        "id": "fPr2POWS94gT"
      }
    },
    {
      "cell_type": "code",
      "source": [
        "pred_Lib = \"Voting machine maker wins appeal in GOP election inquiry\"\n",
        "pred_Con = \"Bill Barr Urges Republicans to Pick an ‘Impressive’ and ‘Younger’ 2024 Nominee Instead of Trump\"\n",
        "pred_Con2 = 'After a lot of research, it appears that their excuse for this is closing the income and generational wealth gap between whites, minorities and “undocumented migrants”'\n",
        "\n",
        "for i in [pred_Lib, pred_Con, pred_Con2]:\n",
        "  X_train1 = tokenizer.texts_to_sequences(i)\n",
        "  X_pred_cnn = pad_sequences(X_train1, padding='post', maxlen=maxlen)\n",
        "  predictions = model_CNN.predict(X_pred_cnn)\n",
        "  #predictions = predictions.reshape(1, 1)\n",
        "  #predictions = scaler.inverse_transform(np.mean(predictions))\n",
        "  \n",
        "\n",
        "  print(prediction_Output(predictions))"
      ],
      "metadata": {
        "colab": {
          "base_uri": "https://localhost:8080/"
        },
        "id": "GUm2BVZt93WX",
        "outputId": "0ee44ed2-c637-44da-d6aa-a70f8b278988"
      },
      "execution_count": null,
      "outputs": [
        {
          "output_type": "stream",
          "name": "stdout",
          "text": [
            "Likely Written by a Liberal\n",
            "Likely Written by a Liberal\n",
            "Likely Written by a Liberal\n"
          ]
        }
      ]
    },
    {
      "cell_type": "markdown",
      "source": [
        "# LSTM Model: "
      ],
      "metadata": {
        "id": "pFquZbURmt05"
      }
    },
    {
      "cell_type": "code",
      "source": [
        "X, y = dataPrep(df, 0)\n",
        "\n",
        "\n"
      ],
      "metadata": {
        "id": "IAw-fdHdmtbm"
      },
      "execution_count": null,
      "outputs": []
    },
    {
      "cell_type": "code",
      "source": [
        "le = LabelEncoder()\n",
        "y = le.fit_transform(y)\n",
        "y = y.reshape(-1,1)\n",
        "\n",
        "X_train,X_test,y_train,y_test = train_test_split(X,y,test_size=0.25, random_state=40)\n",
        "\n",
        "#X_over, y_train_over, X_test_over, y_test_over = overSamp(X_train,X_test,y_train,y_test, 'CNN')\n"
      ],
      "metadata": {
        "id": "FOnRjHTAhxox"
      },
      "execution_count": null,
      "outputs": []
    },
    {
      "cell_type": "code",
      "source": [
        "max_words = 3500\n",
        "max_len = 300\n",
        "\n",
        "textVec_LSTM = X_train\n",
        "textVec_LSTM_test = X_test\n",
        "y_train_textVec = y_train\n",
        "y_test_textVec = y_test\n",
        "\n",
        "token = Tokenizer(num_words=max_words)\n",
        "token.fit_on_texts(textVec_LSTM)\n",
        "\n",
        "sequences = token.texts_to_sequences(textVec_LSTM)\n",
        "X_train_LSTM = sequence.pad_sequences(sequences,maxlen=max_len)\n",
        "\n",
        "test_sequences = token.texts_to_sequences(textVec_LSTM_test)\n",
        "X_test_LSTM = sequence.pad_sequences(test_sequences,maxlen=max_len)"
      ],
      "metadata": {
        "id": "HPyYvvRqitll"
      },
      "execution_count": null,
      "outputs": []
    },
    {
      "cell_type": "code",
      "source": [
        "X_test_LSTM"
      ],
      "metadata": {
        "colab": {
          "base_uri": "https://localhost:8080/"
        },
        "id": "wMeYiuoSVcPQ",
        "outputId": "ed92002b-8ab0-49d2-a633-cfe02f4543fe"
      },
      "execution_count": null,
      "outputs": [
        {
          "output_type": "execute_result",
          "data": {
            "text/plain": [
              "array([[   0,    0,    0, ..., 1675,   64,  917],\n",
              "       [   0,    0,    0, ...,    6,   16,  204],\n",
              "       [   0,    0,    0, ...,  480,  839,  712],\n",
              "       ...,\n",
              "       [   0,    0,    0, ..., 3328,    6,  371],\n",
              "       [   0,    0,    0, ..., 3079,  911,    1],\n",
              "       [   0,    0,    0, ...,  941,   46,   39]], dtype=int32)"
            ]
          },
          "metadata": {},
          "execution_count": 43
        }
      ]
    },
    {
      "cell_type": "code",
      "source": [
        "def RNN():\n",
        "    inputs = Input(name='inputs',shape=[max_len])\n",
        "    layer = Embedding(max_words,50,input_length=max_len)(inputs)\n",
        "    layer = LSTM(64)(layer)\n",
        "    layer = Dense(256,name='FC1')(layer)\n",
        "    layer = Activation('relu')(layer)\n",
        "    layer = Dropout(0.5)(layer)\n",
        "    layer = Dense(1,name='out_layer')(layer)\n",
        "    layer = Activation('sigmoid')(layer)\n",
        "    model = Model(inputs=inputs,outputs=layer)\n",
        "    return model"
      ],
      "metadata": {
        "id": "rDsVTz3Viwto"
      },
      "execution_count": null,
      "outputs": []
    },
    {
      "cell_type": "code",
      "source": [
        "model_LSTM = RNN()\n",
        "model_LSTM.summary()\n",
        "model_LSTM.compile(loss='binary_crossentropy',optimizer=RMSprop(),metrics=['accuracy'])"
      ],
      "metadata": {
        "colab": {
          "base_uri": "https://localhost:8080/"
        },
        "id": "NqqIkyWei1sf",
        "outputId": "15efa70b-2171-4f04-aa0c-c6c49c4f5f39"
      },
      "execution_count": null,
      "outputs": [
        {
          "output_type": "stream",
          "name": "stdout",
          "text": [
            "Model: \"model_3\"\n",
            "_________________________________________________________________\n",
            " Layer (type)                Output Shape              Param #   \n",
            "=================================================================\n",
            " inputs (InputLayer)         [(None, 300)]             0         \n",
            "                                                                 \n",
            " embedding_3 (Embedding)     (None, 300, 50)           175000    \n",
            "                                                                 \n",
            " lstm_3 (LSTM)               (None, 64)                29440     \n",
            "                                                                 \n",
            " FC1 (Dense)                 (None, 256)               16640     \n",
            "                                                                 \n",
            " activation_6 (Activation)   (None, 256)               0         \n",
            "                                                                 \n",
            " dropout_3 (Dropout)         (None, 256)               0         \n",
            "                                                                 \n",
            " out_layer (Dense)           (None, 1)                 257       \n",
            "                                                                 \n",
            " activation_7 (Activation)   (None, 1)                 0         \n",
            "                                                                 \n",
            "=================================================================\n",
            "Total params: 221,337\n",
            "Trainable params: 221,337\n",
            "Non-trainable params: 0\n",
            "_________________________________________________________________\n"
          ]
        }
      ]
    },
    {
      "cell_type": "code",
      "source": [
        "#tf.keras.utils.plot_model(model_LSTM)\n"
      ],
      "metadata": {
        "id": "FGF-OilP3pI6"
      },
      "execution_count": null,
      "outputs": []
    },
    {
      "cell_type": "code",
      "source": [
        "history = model_LSTM.fit(X_train_LSTM,\n",
        "                    y_train_textVec,\n",
        "                    batch_size=100,\n",
        "                    epochs=30,\n",
        "                    validation_split=0.2,\n",
        "                    callbacks=[EarlyStopping(monitor='val_loss',\n",
        "                                             min_delta=0.0001)])\n"
      ],
      "metadata": {
        "colab": {
          "base_uri": "https://localhost:8080/"
        },
        "id": "y5VYQ5wDi5PF",
        "outputId": "7d8fdc28-933d-473e-e57e-d065c74383ac"
      },
      "execution_count": null,
      "outputs": [
        {
          "output_type": "stream",
          "name": "stdout",
          "text": [
            "Epoch 1/30\n",
            "78/78 [==============================] - 23s 299ms/step - loss: 0.9256 - accuracy: 0.7184 - val_loss: 0.5279 - val_accuracy: 0.7334\n",
            "Epoch 2/30\n",
            "78/78 [==============================] - 23s 293ms/step - loss: 0.4254 - accuracy: 0.8047 - val_loss: 0.5143 - val_accuracy: 0.7588\n"
          ]
        }
      ]
    },
    {
      "cell_type": "code",
      "source": [
        ""
      ],
      "metadata": {
        "id": "JD2vOuqii-PN"
      },
      "execution_count": null,
      "outputs": []
    },
    {
      "cell_type": "code",
      "source": [
        "plotCheck(history)\n",
        "\n",
        "loss, accuracy = model_LSTM.evaluate(X_train_LSTM, y_train_textVec, verbose=False)\n",
        "print(\"Training Accuracy: {:.4f}\".format(accuracy))\n",
        "loss, accuracy = model_LSTM.evaluate(X_test_LSTM, y_test_textVec, verbose=False)\n",
        "print(\"Testing Accuracy:  {:.4f}\".format(accuracy))"
      ],
      "metadata": {
        "colab": {
          "base_uri": "https://localhost:8080/",
          "height": 626
        },
        "id": "noI6vXi1jMLE",
        "outputId": "e15f018a-731b-43f3-9fb6-084432f281df"
      },
      "execution_count": null,
      "outputs": [
        {
          "output_type": "stream",
          "name": "stdout",
          "text": [
            "dict_keys(['loss', 'accuracy', 'val_loss', 'val_accuracy'])\n"
          ]
        },
        {
          "output_type": "display_data",
          "data": {
            "text/plain": [
              "<Figure size 432x288 with 1 Axes>"
            ],
            "image/png": "[encoded data removed]"
          },
          "metadata": {
            "needs_background": "light"
          }
        },
        {
          "output_type": "display_data",
          "data": {
            "text/plain": [
              "<Figure size 432x288 with 1 Axes>"
            ],
            "image/png": "[encoded data removed]"
          },
          "metadata": {
            "needs_background": "light"
          }
        },
        {
          "output_type": "stream",
          "name": "stdout",
          "text": [
            "Training Accuracy: 0.8265\n",
            "Testing Accuracy:  0.7330\n"
          ]
        }
      ]
    },
    {
      "cell_type": "markdown",
      "source": [
        "## Prediction:\n",
        "LSTM Model"
      ],
      "metadata": {
        "id": "W5YPGWTl40V4"
      }
    },
    {
      "cell_type": "code",
      "source": [
        "pred_Lib = \"Voting machine maker wins appeal in GOP election inquiry\"\n",
        "pred_Con = \"Bill Barr Urges Republicans to Pick an ‘Impressive’ and ‘Younger’ 2024 Nominee Instead of Trump\"\n",
        "pred_Con2 = 'After a lot of research, it appears that their excuse for this is closing the income and generational wealth gap between whites, minorities and “undocumented migrants”'\n",
        "\n",
        "for i in [pred_Lib, pred_Con, pred_Con2]:\n",
        "  test_sequences_Pred = token.texts_to_sequences(i)\n",
        "  test_sequences_matrix = sequence.pad_sequences(test_sequences_Pred,maxlen=max_len)\n",
        "\n",
        "  predictions = model_LSTM.predict([test_sequences_matrix])\n",
        "\n",
        "  print(prediction_Output(predictions))\n",
        "\n",
        "\n"
      ],
      "metadata": {
        "colab": {
          "base_uri": "https://localhost:8080/"
        },
        "id": "CvvMS30O4zqA",
        "outputId": "3d0c32f2-e3c2-4c8d-af07-e02aa84ad5f0"
      },
      "execution_count": null,
      "outputs": [
        {
          "output_type": "stream",
          "name": "stdout",
          "text": [
            "Likely Written by a Liberal\n",
            "Likely Written by a Liberal\n",
            "Likely Written by a Liberal\n"
          ]
        }
      ]
    },
    {
      "cell_type": "code",
      "source": [
        "test_sequences_matrix"
      ],
      "metadata": {
        "colab": {
          "base_uri": "https://localhost:8080/"
        },
        "id": "nwxOb7eO7Io7",
        "outputId": "09e021c2-fbd5-4cb7-ec54-c6f2e03f9112"
      },
      "execution_count": null,
      "outputs": [
        {
          "output_type": "execute_result",
          "data": {
            "text/plain": [
              "array([[0, 0, 0, ..., 0, 0, 0],\n",
              "       [0, 0, 0, ..., 0, 0, 0],\n",
              "       [0, 0, 0, ..., 0, 0, 0],\n",
              "       ...,\n",
              "       [0, 0, 0, ..., 0, 0, 0],\n",
              "       [0, 0, 0, ..., 0, 0, 4],\n",
              "       [0, 0, 0, ..., 0, 0, 0]], dtype=int32)"
            ]
          },
          "metadata": {},
          "execution_count": 48
        }
      ]
    },
    {
      "cell_type": "markdown",
      "source": [
        "# Final Artifact:\n"
      ],
      "metadata": {
        "id": "5p82XEYuO87X"
      }
    },
    {
      "cell_type": "code",
      "source": [
        "filename = 'finalized_model_ANN.sav'\n",
        "pickle.dump(model_ANN, open(filename, 'wb'))"
      ],
      "metadata": {
        "colab": {
          "base_uri": "https://localhost:8080/"
        },
        "id": "61E8C_DEO_Oj",
        "outputId": "7f4d8749-7856-4a60-e37d-04f733e56771"
      },
      "execution_count": null,
      "outputs": [
        {
          "output_type": "stream",
          "name": "stdout",
          "text": [
            "INFO:tensorflow:Assets written to: ram://0e251571-fc5b-43fa-95f5-4c8ebaf5d619/assets\n"
          ]
        }
      ]
    }
  ]
}