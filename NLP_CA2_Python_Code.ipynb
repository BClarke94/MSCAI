{
  "nbformat": 4,
  "nbformat_minor": 0,
  "metadata": {
    "colab": {
      "name": "NLP_CA2-Bob.ipynb",
      "provenance": [],
      "collapsed_sections": []
    },
    "kernelspec": {
      "name": "python3",
      "display_name": "Python 3"
    },
    "language_info": {
      "name": "python"
    }
  },
  "cells": [
    {
      "cell_type": "code",
      "execution_count": 1,
      "metadata": {
        "id": "iC9XGiG1AROu",
        "colab": {
          "base_uri": "https://localhost:8080/"
        },
        "outputId": "6a6a7f17-6e0d-4880-9ac0-85f59e03916a"
      },
      "outputs": [
        {
          "output_type": "stream",
          "name": "stdout",
          "text": [
            "[nltk_data] Downloading package wordnet to /root/nltk_data...\n",
            "[nltk_data]   Package wordnet is already up-to-date!\n"
          ]
        },
        {
          "output_type": "execute_result",
          "data": {
            "text/plain": [
              "True"
            ]
          },
          "metadata": {},
          "execution_count": 1
        }
      ],
      "source": [
        "#Pandas, Numpy and misc\n",
        "import nltk\n",
        "import pandas as pd\n",
        "import numpy as np\n",
        "import re, spacy\n",
        "\n",
        "#Plottig Tools\n",
        "import seaborn as sns\n",
        "import matplotlib.pyplot as plt\n",
        "import matplotlib as mpl\n",
        "\n",
        "#Clustering Algorithims\n",
        "from sklearn.cluster import KMeans, MiniBatchKMeans\n",
        "from sklearn.cluster import AgglomerativeClustering\n",
        "\n",
        "#NLTK \n",
        "from nltk.tokenize import word_tokenize\n",
        "from nltk.corpus import stopwords\n",
        "from nltk.stem import PorterStemmer\n",
        "from nltk.stem import WordNetLemmatizer\n",
        "\n",
        "#SKlearn\n",
        "from sklearn.preprocessing import LabelEncoder\n",
        "from sklearn.manifold import MDS\n",
        "from sklearn.feature_extraction.text import CountVectorizer\n",
        "from sklearn.feature_extraction.text import TfidfTransformer\n",
        "from sklearn.feature_extraction.text import TfidfVectorizer\n",
        "from sklearn.metrics.pairwise import cosine_similarity\n",
        "\n",
        "\n",
        "#SCIPY\n",
        "from scipy.cluster.hierarchy import ward, dendrogram\n",
        "import scipy.cluster.hierarchy as sch\n",
        "\n",
        "#gensim\n",
        "from gensim.test.utils import common_corpus, common_dictionary\n",
        "from gensim.test.utils import datapath\n",
        "import gensim\n",
        "from gensim import corpora, models\n",
        "nltk.download('wordnet')"
      ]
    },
    {
      "cell_type": "code",
      "source": [
        "#We have 2 sets of data, test and train train sets have \n",
        "data_train = pd.read_csv('train.csv') \n",
        "data_test = pd.read_csv('test.csv')"
      ],
      "metadata": {
        "id": "0H-yhz4tA0wo"
      },
      "execution_count": 4,
      "outputs": []
    },
    {
      "cell_type": "code",
      "source": [
        "data_train[['text', 'label_name']].head(50)"
      ],
      "metadata": {
        "colab": {
          "base_uri": "https://localhost:8080/",
          "height": 1000
        },
        "id": "dwNRSckctwte",
        "outputId": "5ba1c88c-cb2d-4f9d-b8a0-b7bfecd2b57f"
      },
      "execution_count": 14,
      "outputs": [
        {
          "output_type": "execute_result",
          "data": {
            "text/plain": [
              "                                                 text   label_name\n",
              "0   reconstructing subject specific effect mapspre...    Computing\n",
              "1   rotation invariance neural networkrotation inv...    Computing\n",
              "2   spherical polyharmonics poisson kernels polyha...  Mathematics\n",
              "3   finite element approximation stochastic maxwel...  Mathematics\n",
              "4   comparative study discrete wavelet transforms ...   Statistics\n",
              "5   maximizing fundamental frequency complement ob...  Mathematics\n",
              "6   rotation period shape hyperbolic asteroid `oum...      Physics\n",
              "7   adverse effects polymer coating heat transport...      Physics\n",
              "8   sph calculations mars scale collisions role eq...      Physics\n",
              "9   \\mathcal r _ fails predict outbreak potential ...      Biology\n",
              "10  global sensitivity analysis reduced order mode...    Computing\n",
              "11  role separating ordering social dilemmas contr...      Physics\n",
              "12  dynamics exciton magnetic polarons cdmnse cdmg...      Physics\n",
              "13  varieties ordered automatathe classical eilenb...    Computing\n",
              "14  direct evidence spontaneous abrikosov vortex s...      Physics\n",
              "15  rank waring decomposition sm_ \\langle \\rangle ...  Mathematics\n",
              "16  pdbi arcsecond whirlpool survey paws role spir...      Physics\n",
              "17  higher structure unstable adams spectral seque...  Mathematics\n",
              "18  comparing covariate prioritization via matchin...   Statistics\n",
              "19  acoustic impedance calculation via numerical s...      Physics\n",
              "20  deciphering noise amplification reduction open...      Biology\n",
              "21  many body localization stability instabilityra...  Mathematics\n",
              "22  fault detection isolation tools fditools user'...    Computing\n",
              "23  complexity deciding detectability discrete eve...    Computing\n",
              "24  knaster tarski theorem versus monotone nonexpa...  Mathematics\n",
              "25  efficient methods computing integrals electron...      Physics\n",
              "26  diffraction aware sound localization non line ...    Computing\n",
              "27  jacob's ladders crossbreeding set ζ factorizat...  Mathematics\n",
              "28  minimax estimation l_ distancewe consider prob...   Statistics\n",
              "29  density large deviations multidimensional stoc...  Mathematics\n",
              "30  mixup beyond empirical risk minimizationlarge ...   Statistics\n",
              "31  equality usual definitions brakke flowin brakk...  Mathematics\n",
              "32  dynamic base station repositioning improve spe...    Computing\n",
              "33  unsupervised homogenization pipeline clusterin...      Biology\n",
              "34  deep neural network optimized resistive memory...    Computing\n",
              "35  rate distortion region gray wyner model side i...  Mathematics\n",
              "36  fourier based numerical approximation weertman...      Physics\n",
              "37  design decisions weave real time web based col...    Computing\n",
              "38  suzaku analysis supernova remnant g gamma ray ...      Physics\n",
              "39  japanese sentiment classification using tree s...    Computing\n",
              "40  covariances robustness variational bayesmean f...   Statistics\n",
              "41  multi factor gaussian term structure models st...      Finance\n",
              "42  probing valley filtering effect andreev reflec...      Physics\n",
              "43  generalized approximate message passing decode...  Mathematics\n",
              "44  laair layered architecture autonomous interact...    Computing\n",
              "45  human pose estimation rgbd images robotic task...    Computing\n",
              "46  simultaneous non vanishing dirichlet l functio...  Mathematics\n",
              "47  wehrl entropy based quantification nonclassica...      Physics\n",
              "48  attention based natural language person retrie...    Computing\n",
              "49  large scale automated forecasting monitoring n...   Statistics"
            ],
            "text/html": [
              "\n",
              "  <div id=\"df-686eee68-5959-4145-95f5-e54e78629601\">\n",
              "    <div class=\"colab-df-container\">\n",
              "      <div>\n",
              "<style scoped>\n",
              "    .dataframe tbody tr th:only-of-type {\n",
              "        vertical-align: middle;\n",
              "    }\n",
              "\n",
              "    .dataframe tbody tr th {\n",
              "        vertical-align: top;\n",
              "    }\n",
              "\n",
              "    .dataframe thead th {\n",
              "        text-align: right;\n",
              "    }\n",
              "</style>\n",
              "<table border=\"1\" class=\"dataframe\">\n",
              "  <thead>\n",
              "    <tr style=\"text-align: right;\">\n",
              "      <th></th>\n",
              "      <th>text</th>\n",
              "      <th>label_name</th>\n",
              "    </tr>\n",
              "  </thead>\n",
              "  <tbody>\n",
              "    <tr>\n",
              "      <th>0</th>\n",
              "      <td>reconstructing subject specific effect mapspre...</td>\n",
              "      <td>Computing</td>\n",
              "    </tr>\n",
              "    <tr>\n",
              "      <th>1</th>\n",
              "      <td>rotation invariance neural networkrotation inv...</td>\n",
              "      <td>Computing</td>\n",
              "    </tr>\n",
              "    <tr>\n",
              "      <th>2</th>\n",
              "      <td>spherical polyharmonics poisson kernels polyha...</td>\n",
              "      <td>Mathematics</td>\n",
              "    </tr>\n",
              "    <tr>\n",
              "      <th>3</th>\n",
              "      <td>finite element approximation stochastic maxwel...</td>\n",
              "      <td>Mathematics</td>\n",
              "    </tr>\n",
              "    <tr>\n",
              "      <th>4</th>\n",
              "      <td>comparative study discrete wavelet transforms ...</td>\n",
              "      <td>Statistics</td>\n",
              "    </tr>\n",
              "    <tr>\n",
              "      <th>5</th>\n",
              "      <td>maximizing fundamental frequency complement ob...</td>\n",
              "      <td>Mathematics</td>\n",
              "    </tr>\n",
              "    <tr>\n",
              "      <th>6</th>\n",
              "      <td>rotation period shape hyperbolic asteroid `oum...</td>\n",
              "      <td>Physics</td>\n",
              "    </tr>\n",
              "    <tr>\n",
              "      <th>7</th>\n",
              "      <td>adverse effects polymer coating heat transport...</td>\n",
              "      <td>Physics</td>\n",
              "    </tr>\n",
              "    <tr>\n",
              "      <th>8</th>\n",
              "      <td>sph calculations mars scale collisions role eq...</td>\n",
              "      <td>Physics</td>\n",
              "    </tr>\n",
              "    <tr>\n",
              "      <th>9</th>\n",
              "      <td>\\mathcal r _ fails predict outbreak potential ...</td>\n",
              "      <td>Biology</td>\n",
              "    </tr>\n",
              "    <tr>\n",
              "      <th>10</th>\n",
              "      <td>global sensitivity analysis reduced order mode...</td>\n",
              "      <td>Computing</td>\n",
              "    </tr>\n",
              "    <tr>\n",
              "      <th>11</th>\n",
              "      <td>role separating ordering social dilemmas contr...</td>\n",
              "      <td>Physics</td>\n",
              "    </tr>\n",
              "    <tr>\n",
              "      <th>12</th>\n",
              "      <td>dynamics exciton magnetic polarons cdmnse cdmg...</td>\n",
              "      <td>Physics</td>\n",
              "    </tr>\n",
              "    <tr>\n",
              "      <th>13</th>\n",
              "      <td>varieties ordered automatathe classical eilenb...</td>\n",
              "      <td>Computing</td>\n",
              "    </tr>\n",
              "    <tr>\n",
              "      <th>14</th>\n",
              "      <td>direct evidence spontaneous abrikosov vortex s...</td>\n",
              "      <td>Physics</td>\n",
              "    </tr>\n",
              "    <tr>\n",
              "      <th>15</th>\n",
              "      <td>rank waring decomposition sm_ \\langle \\rangle ...</td>\n",
              "      <td>Mathematics</td>\n",
              "    </tr>\n",
              "    <tr>\n",
              "      <th>16</th>\n",
              "      <td>pdbi arcsecond whirlpool survey paws role spir...</td>\n",
              "      <td>Physics</td>\n",
              "    </tr>\n",
              "    <tr>\n",
              "      <th>17</th>\n",
              "      <td>higher structure unstable adams spectral seque...</td>\n",
              "      <td>Mathematics</td>\n",
              "    </tr>\n",
              "    <tr>\n",
              "      <th>18</th>\n",
              "      <td>comparing covariate prioritization via matchin...</td>\n",
              "      <td>Statistics</td>\n",
              "    </tr>\n",
              "    <tr>\n",
              "      <th>19</th>\n",
              "      <td>acoustic impedance calculation via numerical s...</td>\n",
              "      <td>Physics</td>\n",
              "    </tr>\n",
              "    <tr>\n",
              "      <th>20</th>\n",
              "      <td>deciphering noise amplification reduction open...</td>\n",
              "      <td>Biology</td>\n",
              "    </tr>\n",
              "    <tr>\n",
              "      <th>21</th>\n",
              "      <td>many body localization stability instabilityra...</td>\n",
              "      <td>Mathematics</td>\n",
              "    </tr>\n",
              "    <tr>\n",
              "      <th>22</th>\n",
              "      <td>fault detection isolation tools fditools user'...</td>\n",
              "      <td>Computing</td>\n",
              "    </tr>\n",
              "    <tr>\n",
              "      <th>23</th>\n",
              "      <td>complexity deciding detectability discrete eve...</td>\n",
              "      <td>Computing</td>\n",
              "    </tr>\n",
              "    <tr>\n",
              "      <th>24</th>\n",
              "      <td>knaster tarski theorem versus monotone nonexpa...</td>\n",
              "      <td>Mathematics</td>\n",
              "    </tr>\n",
              "    <tr>\n",
              "      <th>25</th>\n",
              "      <td>efficient methods computing integrals electron...</td>\n",
              "      <td>Physics</td>\n",
              "    </tr>\n",
              "    <tr>\n",
              "      <th>26</th>\n",
              "      <td>diffraction aware sound localization non line ...</td>\n",
              "      <td>Computing</td>\n",
              "    </tr>\n",
              "    <tr>\n",
              "      <th>27</th>\n",
              "      <td>jacob's ladders crossbreeding set ζ factorizat...</td>\n",
              "      <td>Mathematics</td>\n",
              "    </tr>\n",
              "    <tr>\n",
              "      <th>28</th>\n",
              "      <td>minimax estimation l_ distancewe consider prob...</td>\n",
              "      <td>Statistics</td>\n",
              "    </tr>\n",
              "    <tr>\n",
              "      <th>29</th>\n",
              "      <td>density large deviations multidimensional stoc...</td>\n",
              "      <td>Mathematics</td>\n",
              "    </tr>\n",
              "    <tr>\n",
              "      <th>30</th>\n",
              "      <td>mixup beyond empirical risk minimizationlarge ...</td>\n",
              "      <td>Statistics</td>\n",
              "    </tr>\n",
              "    <tr>\n",
              "      <th>31</th>\n",
              "      <td>equality usual definitions brakke flowin brakk...</td>\n",
              "      <td>Mathematics</td>\n",
              "    </tr>\n",
              "    <tr>\n",
              "      <th>32</th>\n",
              "      <td>dynamic base station repositioning improve spe...</td>\n",
              "      <td>Computing</td>\n",
              "    </tr>\n",
              "    <tr>\n",
              "      <th>33</th>\n",
              "      <td>unsupervised homogenization pipeline clusterin...</td>\n",
              "      <td>Biology</td>\n",
              "    </tr>\n",
              "    <tr>\n",
              "      <th>34</th>\n",
              "      <td>deep neural network optimized resistive memory...</td>\n",
              "      <td>Computing</td>\n",
              "    </tr>\n",
              "    <tr>\n",
              "      <th>35</th>\n",
              "      <td>rate distortion region gray wyner model side i...</td>\n",
              "      <td>Mathematics</td>\n",
              "    </tr>\n",
              "    <tr>\n",
              "      <th>36</th>\n",
              "      <td>fourier based numerical approximation weertman...</td>\n",
              "      <td>Physics</td>\n",
              "    </tr>\n",
              "    <tr>\n",
              "      <th>37</th>\n",
              "      <td>design decisions weave real time web based col...</td>\n",
              "      <td>Computing</td>\n",
              "    </tr>\n",
              "    <tr>\n",
              "      <th>38</th>\n",
              "      <td>suzaku analysis supernova remnant g gamma ray ...</td>\n",
              "      <td>Physics</td>\n",
              "    </tr>\n",
              "    <tr>\n",
              "      <th>39</th>\n",
              "      <td>japanese sentiment classification using tree s...</td>\n",
              "      <td>Computing</td>\n",
              "    </tr>\n",
              "    <tr>\n",
              "      <th>40</th>\n",
              "      <td>covariances robustness variational bayesmean f...</td>\n",
              "      <td>Statistics</td>\n",
              "    </tr>\n",
              "    <tr>\n",
              "      <th>41</th>\n",
              "      <td>multi factor gaussian term structure models st...</td>\n",
              "      <td>Finance</td>\n",
              "    </tr>\n",
              "    <tr>\n",
              "      <th>42</th>\n",
              "      <td>probing valley filtering effect andreev reflec...</td>\n",
              "      <td>Physics</td>\n",
              "    </tr>\n",
              "    <tr>\n",
              "      <th>43</th>\n",
              "      <td>generalized approximate message passing decode...</td>\n",
              "      <td>Mathematics</td>\n",
              "    </tr>\n",
              "    <tr>\n",
              "      <th>44</th>\n",
              "      <td>laair layered architecture autonomous interact...</td>\n",
              "      <td>Computing</td>\n",
              "    </tr>\n",
              "    <tr>\n",
              "      <th>45</th>\n",
              "      <td>human pose estimation rgbd images robotic task...</td>\n",
              "      <td>Computing</td>\n",
              "    </tr>\n",
              "    <tr>\n",
              "      <th>46</th>\n",
              "      <td>simultaneous non vanishing dirichlet l functio...</td>\n",
              "      <td>Mathematics</td>\n",
              "    </tr>\n",
              "    <tr>\n",
              "      <th>47</th>\n",
              "      <td>wehrl entropy based quantification nonclassica...</td>\n",
              "      <td>Physics</td>\n",
              "    </tr>\n",
              "    <tr>\n",
              "      <th>48</th>\n",
              "      <td>attention based natural language person retrie...</td>\n",
              "      <td>Computing</td>\n",
              "    </tr>\n",
              "    <tr>\n",
              "      <th>49</th>\n",
              "      <td>large scale automated forecasting monitoring n...</td>\n",
              "      <td>Statistics</td>\n",
              "    </tr>\n",
              "  </tbody>\n",
              "</table>\n",
              "</div>\n",
              "      <button class=\"colab-df-convert\" onclick=\"convertToInteractive('df-686eee68-5959-4145-95f5-e54e78629601')\"\n",
              "              title=\"Convert this dataframe to an interactive table.\"\n",
              "              style=\"display:none;\">\n",
              "        \n",
              "  <svg xmlns=\"http://www.w3.org/2000/svg\" height=\"24px\"viewBox=\"0 0 24 24\"\n",
              "       width=\"24px\">\n",
              "    <path d=\"M0 0h24v24H0V0z\" fill=\"none\"/>\n",
              "    <path d=\"M18.56 5.44l.94 2.06.94-2.06 2.06-.94-2.06-.94-.94-2.06-.94 2.06-2.06.94zm-11 1L8.5 8.5l.94-2.06 2.06-.94-2.06-.94L8.5 2.5l-.94 2.06-2.06.94zm10 10l.94 2.06.94-2.06 2.06-.94-2.06-.94-.94-2.06-.94 2.06-2.06.94z\"/><path d=\"M17.41 7.96l-1.37-1.37c-.4-.4-.92-.59-1.43-.59-.52 0-1.04.2-1.43.59L10.3 9.45l-7.72 7.72c-.78.78-.78 2.05 0 2.83L4 21.41c.39.39.9.59 1.41.59.51 0 1.02-.2 1.41-.59l7.78-7.78 2.81-2.81c.8-.78.8-2.07 0-2.86zM5.41 20L4 18.59l7.72-7.72 1.47 1.35L5.41 20z\"/>\n",
              "  </svg>\n",
              "      </button>\n",
              "      \n",
              "  <style>\n",
              "    .colab-df-container {\n",
              "      display:flex;\n",
              "      flex-wrap:wrap;\n",
              "      gap: 12px;\n",
              "    }\n",
              "\n",
              "    .colab-df-convert {\n",
              "      background-color: #E8F0FE;\n",
              "      border: none;\n",
              "      border-radius: 50%;\n",
              "      cursor: pointer;\n",
              "      display: none;\n",
              "      fill: #1967D2;\n",
              "      height: 32px;\n",
              "      padding: 0 0 0 0;\n",
              "      width: 32px;\n",
              "    }\n",
              "\n",
              "    .colab-df-convert:hover {\n",
              "      background-color: #E2EBFA;\n",
              "      box-shadow: 0px 1px 2px rgba(60, 64, 67, 0.3), 0px 1px 3px 1px rgba(60, 64, 67, 0.15);\n",
              "      fill: #174EA6;\n",
              "    }\n",
              "\n",
              "    [theme=dark] .colab-df-convert {\n",
              "      background-color: #3B4455;\n",
              "      fill: #D2E3FC;\n",
              "    }\n",
              "\n",
              "    [theme=dark] .colab-df-convert:hover {\n",
              "      background-color: #434B5C;\n",
              "      box-shadow: 0px 1px 3px 1px rgba(0, 0, 0, 0.15);\n",
              "      filter: drop-shadow(0px 1px 2px rgba(0, 0, 0, 0.3));\n",
              "      fill: #FFFFFF;\n",
              "    }\n",
              "  </style>\n",
              "\n",
              "      <script>\n",
              "        const buttonEl =\n",
              "          document.querySelector('#df-686eee68-5959-4145-95f5-e54e78629601 button.colab-df-convert');\n",
              "        buttonEl.style.display =\n",
              "          google.colab.kernel.accessAllowed ? 'block' : 'none';\n",
              "\n",
              "        async function convertToInteractive(key) {\n",
              "          const element = document.querySelector('#df-686eee68-5959-4145-95f5-e54e78629601');\n",
              "          const dataTable =\n",
              "            await google.colab.kernel.invokeFunction('convertToInteractive',\n",
              "                                                     [key], {});\n",
              "          if (!dataTable) return;\n",
              "\n",
              "          const docLinkHtml = 'Like what you see? Visit the ' +\n",
              "            '<a target=\"_blank\" href=https://colab.research.google.com/notebooks/data_table.ipynb>data table notebook</a>'\n",
              "            + ' to learn more about interactive tables.';\n",
              "          element.innerHTML = '';\n",
              "          dataTable['output_type'] = 'display_data';\n",
              "          await google.colab.output.renderOutput(dataTable, element);\n",
              "          const docLink = document.createElement('div');\n",
              "          docLink.innerHTML = docLinkHtml;\n",
              "          element.appendChild(docLink);\n",
              "        }\n",
              "      </script>\n",
              "    </div>\n",
              "  </div>\n",
              "  "
            ]
          },
          "metadata": {},
          "execution_count": 14
        }
      ]
    },
    {
      "cell_type": "code",
      "source": [
        "for i in ['Computer Science', 'Physics', 'Mathematics', 'Statistics', 'Quantitative Biology', 'Quantitative Finance']:\n",
        "  count=0\n",
        "  for x in data_train[i]:\n",
        "    if x == 1:\n",
        "      count +=1\n",
        "  print(count)    "
      ],
      "metadata": {
        "colab": {
          "base_uri": "https://localhost:8080/"
        },
        "id": "ey8Pfq5BwE5B",
        "outputId": "db613aba-0334-4588-a470-5e43d556cea1"
      },
      "execution_count": 5,
      "outputs": [
        {
          "output_type": "stream",
          "name": "stdout",
          "text": [
            "8594\n",
            "6013\n",
            "5618\n",
            "5206\n",
            "587\n",
            "249\n"
          ]
        }
      ]
    },
    {
      "cell_type": "code",
      "source": [
        "#Data Exploration and some preperation\n",
        "print(\"data_train_shape: \" , data_train.shape)\n",
        "print(\"data_test_shape: \" , data_test.shape)\n",
        "print(\"------------------\")\n",
        "data_train.info()\n",
        "print(\"------------------\")\n",
        "data_test.info()\n",
        "print(\"------------------\")\n",
        "data_train.head()\n",
        "print(\"------------------\")\n",
        "data_train.ABSTRACT = [\" \".join(i.split()) for i in data_train.ABSTRACT]\n",
        "data_test.ABSTRACT = [\" \".join(i.split()) for i in data_test.ABSTRACT]\n",
        "#Combining the title and abstract titles into a single text column\n",
        "data_train[\"text\"] = data_train[\"TITLE\"] + data_train[\"ABSTRACT\"]\n",
        "data_test[\"text\"] = data_test[\"TITLE\"] + data_test[\"ABSTRACT\"]\n",
        "labels = data_train.columns[3:-1].tolist()\n",
        "print(labels)\n",
        "print(\"------------------\")\n",
        "\n",
        "data_train['label'] = data_train[labels].values.tolist()\n",
        "\n",
        "le = LabelEncoder()\n",
        "#Creating Named columns to be used later\n",
        "data_train.loc[data_train['Computer Science'] == 1, 'label_name'] = \"Computing\"\n",
        "data_train.loc[data_train['Physics'] == 1, 'label_name'] = \"Physics\"\n",
        "data_train.loc[data_train['Mathematics'] == 1, 'label_name'] = \"Mathematics\"\n",
        "data_train.loc[data_train['Statistics'] == 1, 'label_name'] = \"Statistics\"\n",
        "data_train.loc[data_train['Quantitative Biology'] == 1, 'label_name'] = \"Biology\"\n",
        "data_train.loc[data_train['Quantitative Finance'] == 1, 'label_name'] = \"Finance\"\n",
        "#Using Label Encoder to transform the data\n",
        "data_train['label'] = le.fit_transform(data_train['label'].astype(str))\n",
        "data_train = data_train[[\"text\",\"label\",\"label_name\"]]\n",
        "\n",
        "data_test = data_test[[\"text\"]]\n",
        "data_train=data_train.dropna()"
      ],
      "metadata": {
        "colab": {
          "base_uri": "https://localhost:8080/"
        },
        "id": "e2-GnH8XBJ9m",
        "outputId": "bb16b38b-ffb1-4e29-f425-c79847b85a23"
      },
      "execution_count": 6,
      "outputs": [
        {
          "output_type": "stream",
          "name": "stdout",
          "text": [
            "data_train_shape:  (20972, 9)\n",
            "data_test_shape:  (8989, 3)\n",
            "------------------\n",
            "<class 'pandas.core.frame.DataFrame'>\n",
            "RangeIndex: 20972 entries, 0 to 20971\n",
            "Data columns (total 9 columns):\n",
            " #   Column                Non-Null Count  Dtype \n",
            "---  ------                --------------  ----- \n",
            " 0   ID                    20972 non-null  int64 \n",
            " 1   TITLE                 20972 non-null  object\n",
            " 2   ABSTRACT              20972 non-null  object\n",
            " 3   Computer Science      20972 non-null  int64 \n",
            " 4   Physics               20972 non-null  int64 \n",
            " 5   Mathematics           20972 non-null  int64 \n",
            " 6   Statistics            20972 non-null  int64 \n",
            " 7   Quantitative Biology  20972 non-null  int64 \n",
            " 8   Quantitative Finance  20972 non-null  int64 \n",
            "dtypes: int64(7), object(2)\n",
            "memory usage: 1.4+ MB\n",
            "------------------\n",
            "<class 'pandas.core.frame.DataFrame'>\n",
            "RangeIndex: 8989 entries, 0 to 8988\n",
            "Data columns (total 3 columns):\n",
            " #   Column    Non-Null Count  Dtype \n",
            "---  ------    --------------  ----- \n",
            " 0   ID        8989 non-null   int64 \n",
            " 1   TITLE     8989 non-null   object\n",
            " 2   ABSTRACT  8989 non-null   object\n",
            "dtypes: int64(1), object(2)\n",
            "memory usage: 210.8+ KB\n",
            "------------------\n",
            "------------------\n",
            "['Computer Science', 'Physics', 'Mathematics', 'Statistics', 'Quantitative Biology', 'Quantitative Finance']\n",
            "------------------\n"
          ]
        }
      ]
    },
    {
      "cell_type": "code",
      "source": [
        "data_train[['text', 'label_name']]"
      ],
      "metadata": {
        "colab": {
          "base_uri": "https://localhost:8080/",
          "height": 423
        },
        "id": "vKzrYcPaK83k",
        "outputId": "2ba70009-c8da-4f9d-bc52-6b05118ed36a"
      },
      "execution_count": null,
      "outputs": [
        {
          "output_type": "execute_result",
          "data": {
            "text/plain": [
              "                                                    text   label_name\n",
              "0      reconstructing subject specific effect mapspre...    Computing\n",
              "1      rotation invariance neural networkrotation inv...    Computing\n",
              "2      spherical polyharmonics poisson kernels polyha...  Mathematics\n",
              "3      finite element approximation stochastic maxwel...  Mathematics\n",
              "4      comparative study discrete wavelet transforms ...   Statistics\n",
              "...                                                  ...          ...\n",
              "20967  contemporary machine learning guide practition...      Physics\n",
              "20968  uniform diamond coatings wc co hard alloy cutt...      Physics\n",
              "20969  analysing soccer games clustering conceptorswe...    Computing\n",
              "20970  efficient simulation left tail sum correlated ...   Statistics\n",
              "20971  optional stopping problem bayesiansrecently op...   Statistics\n",
              "\n",
              "[20972 rows x 2 columns]"
            ],
            "text/html": [
              "\n",
              "  <div id=\"df-d2c6f395-ff63-41bb-bf6e-d40bce121684\">\n",
              "    <div class=\"colab-df-container\">\n",
              "      <div>\n",
              "<style scoped>\n",
              "    .dataframe tbody tr th:only-of-type {\n",
              "        vertical-align: middle;\n",
              "    }\n",
              "\n",
              "    .dataframe tbody tr th {\n",
              "        vertical-align: top;\n",
              "    }\n",
              "\n",
              "    .dataframe thead th {\n",
              "        text-align: right;\n",
              "    }\n",
              "</style>\n",
              "<table border=\"1\" class=\"dataframe\">\n",
              "  <thead>\n",
              "    <tr style=\"text-align: right;\">\n",
              "      <th></th>\n",
              "      <th>text</th>\n",
              "      <th>label_name</th>\n",
              "    </tr>\n",
              "  </thead>\n",
              "  <tbody>\n",
              "    <tr>\n",
              "      <th>0</th>\n",
              "      <td>reconstructing subject specific effect mapspre...</td>\n",
              "      <td>Computing</td>\n",
              "    </tr>\n",
              "    <tr>\n",
              "      <th>1</th>\n",
              "      <td>rotation invariance neural networkrotation inv...</td>\n",
              "      <td>Computing</td>\n",
              "    </tr>\n",
              "    <tr>\n",
              "      <th>2</th>\n",
              "      <td>spherical polyharmonics poisson kernels polyha...</td>\n",
              "      <td>Mathematics</td>\n",
              "    </tr>\n",
              "    <tr>\n",
              "      <th>3</th>\n",
              "      <td>finite element approximation stochastic maxwel...</td>\n",
              "      <td>Mathematics</td>\n",
              "    </tr>\n",
              "    <tr>\n",
              "      <th>4</th>\n",
              "      <td>comparative study discrete wavelet transforms ...</td>\n",
              "      <td>Statistics</td>\n",
              "    </tr>\n",
              "    <tr>\n",
              "      <th>...</th>\n",
              "      <td>...</td>\n",
              "      <td>...</td>\n",
              "    </tr>\n",
              "    <tr>\n",
              "      <th>20967</th>\n",
              "      <td>contemporary machine learning guide practition...</td>\n",
              "      <td>Physics</td>\n",
              "    </tr>\n",
              "    <tr>\n",
              "      <th>20968</th>\n",
              "      <td>uniform diamond coatings wc co hard alloy cutt...</td>\n",
              "      <td>Physics</td>\n",
              "    </tr>\n",
              "    <tr>\n",
              "      <th>20969</th>\n",
              "      <td>analysing soccer games clustering conceptorswe...</td>\n",
              "      <td>Computing</td>\n",
              "    </tr>\n",
              "    <tr>\n",
              "      <th>20970</th>\n",
              "      <td>efficient simulation left tail sum correlated ...</td>\n",
              "      <td>Statistics</td>\n",
              "    </tr>\n",
              "    <tr>\n",
              "      <th>20971</th>\n",
              "      <td>optional stopping problem bayesiansrecently op...</td>\n",
              "      <td>Statistics</td>\n",
              "    </tr>\n",
              "  </tbody>\n",
              "</table>\n",
              "<p>20972 rows × 2 columns</p>\n",
              "</div>\n",
              "      <button class=\"colab-df-convert\" onclick=\"convertToInteractive('df-d2c6f395-ff63-41bb-bf6e-d40bce121684')\"\n",
              "              title=\"Convert this dataframe to an interactive table.\"\n",
              "              style=\"display:none;\">\n",
              "        \n",
              "  <svg xmlns=\"http://www.w3.org/2000/svg\" height=\"24px\"viewBox=\"0 0 24 24\"\n",
              "       width=\"24px\">\n",
              "    <path d=\"M0 0h24v24H0V0z\" fill=\"none\"/>\n",
              "    <path d=\"M18.56 5.44l.94 2.06.94-2.06 2.06-.94-2.06-.94-.94-2.06-.94 2.06-2.06.94zm-11 1L8.5 8.5l.94-2.06 2.06-.94-2.06-.94L8.5 2.5l-.94 2.06-2.06.94zm10 10l.94 2.06.94-2.06 2.06-.94-2.06-.94-.94-2.06-.94 2.06-2.06.94z\"/><path d=\"M17.41 7.96l-1.37-1.37c-.4-.4-.92-.59-1.43-.59-.52 0-1.04.2-1.43.59L10.3 9.45l-7.72 7.72c-.78.78-.78 2.05 0 2.83L4 21.41c.39.39.9.59 1.41.59.51 0 1.02-.2 1.41-.59l7.78-7.78 2.81-2.81c.8-.78.8-2.07 0-2.86zM5.41 20L4 18.59l7.72-7.72 1.47 1.35L5.41 20z\"/>\n",
              "  </svg>\n",
              "      </button>\n",
              "      \n",
              "  <style>\n",
              "    .colab-df-container {\n",
              "      display:flex;\n",
              "      flex-wrap:wrap;\n",
              "      gap: 12px;\n",
              "    }\n",
              "\n",
              "    .colab-df-convert {\n",
              "      background-color: #E8F0FE;\n",
              "      border: none;\n",
              "      border-radius: 50%;\n",
              "      cursor: pointer;\n",
              "      display: none;\n",
              "      fill: #1967D2;\n",
              "      height: 32px;\n",
              "      padding: 0 0 0 0;\n",
              "      width: 32px;\n",
              "    }\n",
              "\n",
              "    .colab-df-convert:hover {\n",
              "      background-color: #E2EBFA;\n",
              "      box-shadow: 0px 1px 2px rgba(60, 64, 67, 0.3), 0px 1px 3px 1px rgba(60, 64, 67, 0.15);\n",
              "      fill: #174EA6;\n",
              "    }\n",
              "\n",
              "    [theme=dark] .colab-df-convert {\n",
              "      background-color: #3B4455;\n",
              "      fill: #D2E3FC;\n",
              "    }\n",
              "\n",
              "    [theme=dark] .colab-df-convert:hover {\n",
              "      background-color: #434B5C;\n",
              "      box-shadow: 0px 1px 3px 1px rgba(0, 0, 0, 0.15);\n",
              "      filter: drop-shadow(0px 1px 2px rgba(0, 0, 0, 0.3));\n",
              "      fill: #FFFFFF;\n",
              "    }\n",
              "  </style>\n",
              "\n",
              "      <script>\n",
              "        const buttonEl =\n",
              "          document.querySelector('#df-d2c6f395-ff63-41bb-bf6e-d40bce121684 button.colab-df-convert');\n",
              "        buttonEl.style.display =\n",
              "          google.colab.kernel.accessAllowed ? 'block' : 'none';\n",
              "\n",
              "        async function convertToInteractive(key) {\n",
              "          const element = document.querySelector('#df-d2c6f395-ff63-41bb-bf6e-d40bce121684');\n",
              "          const dataTable =\n",
              "            await google.colab.kernel.invokeFunction('convertToInteractive',\n",
              "                                                     [key], {});\n",
              "          if (!dataTable) return;\n",
              "\n",
              "          const docLinkHtml = 'Like what you see? Visit the ' +\n",
              "            '<a target=\"_blank\" href=https://colab.research.google.com/notebooks/data_table.ipynb>data table notebook</a>'\n",
              "            + ' to learn more about interactive tables.';\n",
              "          element.innerHTML = '';\n",
              "          dataTable['output_type'] = 'display_data';\n",
              "          await google.colab.output.renderOutput(dataTable, element);\n",
              "          const docLink = document.createElement('div');\n",
              "          docLink.innerHTML = docLinkHtml;\n",
              "          element.appendChild(docLink);\n",
              "        }\n",
              "      </script>\n",
              "    </div>\n",
              "  </div>\n",
              "  "
            ]
          },
          "metadata": {},
          "execution_count": 20
        }
      ]
    },
    {
      "cell_type": "code",
      "source": [
        "nltk.download('stopwords')\n",
        "stemmer = PorterStemmer()\n",
        "\n",
        "def pre_processing(data):\n",
        "  data['text']=data['text'].str.replace('\\$','')\n",
        "  data['text']=data['text'].str.replace('$','')\n",
        "  data['text']=[\" \".join(i.split()) for i in data.text]\n",
        "\n",
        "\n",
        "   #This removes unwanted characters\n",
        "  data['text'] = [re.sub(r'[0-9]','',i) for i in data.text]\n",
        "  data['text'] = [re.sub(r'[/(){}\\[\\]\\|@,;.:-]',' ',i) for i in data.text]\n",
        "  data['text'] = [i.lower() for i in data.text]\n",
        "\n",
        "  data['text']=data['text'].str.replace('  ',' ')\n",
        "  \n",
        "  #Remove Stop words\n",
        "  #Import stopwords with nltk.\n",
        "    \n",
        "  stop = stopwords.words('english')\n",
        "\n",
        "# Exclude stopwords with Python's list comprehension and pandas.DataFrame.apply.\n",
        "#Stemming the words \n",
        "  data[\"text\"] = data[\"text\"].apply(lambda x: ' '.join([word for word in x.split() if word not in (stop)]))\n",
        "  data['text'] = data['text'].apply(stemmer.stem)\n",
        "  \n",
        "  return data\n",
        "\n",
        "\n",
        "data_train = pre_processing(data_train)\n",
        "data_test = pre_processing(data_test)\n",
        "\n",
        "\n",
        "\n",
        "  \n",
        "    "
      ],
      "metadata": {
        "colab": {
          "base_uri": "https://localhost:8080/"
        },
        "id": "JmoiS98mqaBK",
        "outputId": "6131c4e0-4b4b-487d-a24e-31d3fb91048a"
      },
      "execution_count": 7,
      "outputs": [
        {
          "output_type": "stream",
          "name": "stdout",
          "text": [
            "[nltk_data] Downloading package stopwords to /root/nltk_data...\n",
            "[nltk_data]   Package stopwords is already up-to-date!\n"
          ]
        },
        {
          "output_type": "stream",
          "name": "stderr",
          "text": [
            "/usr/local/lib/python3.7/dist-packages/ipykernel_launcher.py:5: FutureWarning: The default value of regex will change from True to False in a future version.\n",
            "  \"\"\"\n",
            "/usr/local/lib/python3.7/dist-packages/ipykernel_launcher.py:6: FutureWarning: The default value of regex will change from True to False in a future version. In addition, single character regular expressions will *not* be treated as literal strings when regex=True.\n",
            "  \n"
          ]
        }
      ]
    },
    {
      "cell_type": "code",
      "source": [
        "tfidf_transformer=TfidfTransformer(smooth_idf=True,use_idf=True)\n",
        "\n",
        "def vectorize_tfidf(data):\n",
        "  vec = TfidfVectorizer(stop_words=\"english\", ngram_range=(1, 3))\n",
        "  vec.fit(data)\n",
        "  features=vec.transform(data)\n",
        "  return features\n",
        "data_train_vec = vectorize_tfidf(data_train['text'])\n",
        "data_test_vec = vectorize_tfidf(data_test['text'])    "
      ],
      "metadata": {
        "id": "HOFnkaXKu30h"
      },
      "execution_count": 8,
      "outputs": []
    },
    {
      "cell_type": "code",
      "source": [
        "data_train_vec"
      ],
      "metadata": {
        "colab": {
          "base_uri": "https://localhost:8080/"
        },
        "id": "i-0qhB24-AZv",
        "outputId": "59cbe5f8-29e8-428a-c8bb-2266e9c655ce"
      },
      "execution_count": null,
      "outputs": [
        {
          "output_type": "execute_result",
          "data": {
            "text/plain": [
              "<20972x3063366 sparse matrix of type '<class 'numpy.float64'>'\n",
              "\twith 5091359 stored elements in Compressed Sparse Row format>"
            ]
          },
          "metadata": {},
          "execution_count": 17
        }
      ]
    },
    {
      "cell_type": "markdown",
      "source": [
        "# Determining optimal K using elbow method"
      ],
      "metadata": {
        "id": "2h573JAzvIit"
      }
    },
    {
      "cell_type": "code",
      "source": [
        "\n",
        "Sum_of_squared_distances = []\n",
        "K = range(1,6)\n",
        "for k in K:\n",
        "   km = KMeans(n_clusters=k, max_iter=100, n_init=10)\n",
        "   km = km.fit(data_train_vec)\n",
        "   Sum_of_squared_distances.append(km.inertia_)\n",
        "plt.plot(K, Sum_of_squared_distances, 'bx-')\n",
        "plt.xlabel('k')\n",
        "plt.ylabel('Sum_of_squared_distances')\n",
        "plt.title('Elbow Method For Optimal k')\n",
        "plt.show()"
      ],
      "metadata": {
        "id": "RuRaV-SBvH6I"
      },
      "execution_count": null,
      "outputs": []
    },
    {
      "cell_type": "code",
      "source": [
        "#\n",
        "clust = MiniBatchKMeans(init='k-means++', n_clusters = 4, n_init=10, max_iter=200)\n",
        "clust.fit(data_train_vec)\n",
        "pred = clust.predict(data_train_vec)\n",
        "data_train['cluster_labels'] = clust.labels_"
      ],
      "metadata": {
        "id": "0AREVRInv8Bd"
      },
      "execution_count": 11,
      "outputs": []
    },
    {
      "cell_type": "code",
      "source": [
        "print(data_train['cluster_labels'].unique())\n",
        "print(data_train['label_name'].unique())\n",
        "data_train[['label_name','cluster_labels' ]].tail(15)\n",
        "math = []\n",
        "comp = []\n",
        "phys = []\n",
        "fina = []\n",
        "biol = []\n",
        "stats = []\n",
        "for i in range(len(data_train)):\n",
        "\n",
        "  if data_train['label_name'][i] == \"Mathematics\":\n",
        "    math.append(data_train['cluster_labels'][i])\n",
        "  elif data_train['label_name'][i] == \"Computing\":\n",
        "    comp.append(data_train['cluster_labels'][i])\n",
        "  elif data_train['label_name'][i] == \"Physics\":\n",
        "    phys.append(data_train['cluster_labels'][i])    \n",
        "  elif data_train['label_name'][i] == \"Finance\":\n",
        "    fina.append(data_train['cluster_labels'][i])\n",
        "  elif data_train['label_name'][i] == \"Biology\":\n",
        "    biol.append(data_train['cluster_labels'][i])    \n",
        "  elif data_train['label_name'][i] == \"Statistics\":\n",
        "    stats.append(data_train['cluster_labels'][i])\n",
        "    \n",
        "for x in [math, comp, fina, stats, phys, biol]:\n",
        "  total = 0\n",
        "  print(\"__________________\")\n",
        "  if x == math:\n",
        "     (print(\"Maths\")) \n",
        "  elif x == comp: \n",
        "    (print(\"Comp\"))\n",
        "  elif x == fina: \n",
        "    (print(\"Finance\"))\n",
        "  elif x == stats: \n",
        "    (print(\"Statistics\"))\n",
        "  elif x == phys: \n",
        "    (print(\"Physics\"))\n",
        "  elif x == biol: \n",
        "    (print(\"Biology\"))\n",
        "\n",
        "  for i in set(x):\n",
        "    print(str(i) + \": \" + str(x.count(i)) )\n",
        "    total += x.count(i)\n",
        "  print(total)  \n",
        "\n"
      ],
      "metadata": {
        "id": "S_kyEp1jXZrq",
        "colab": {
          "base_uri": "https://localhost:8080/"
        },
        "outputId": "6d5b4f08-1e9b-4a17-f446-9ec2784c3d21"
      },
      "execution_count": 12,
      "outputs": [
        {
          "output_type": "stream",
          "name": "stdout",
          "text": [
            "[0 2 1 3]\n",
            "['Computing' 'Mathematics' 'Statistics' 'Physics' 'Biology' 'Finance']\n",
            "__________________\n",
            "Maths\n",
            "0: 211\n",
            "1: 3675\n",
            "2: 15\n",
            "3: 703\n",
            "4604\n",
            "__________________\n",
            "Comp\n",
            "0: 2204\n",
            "1: 913\n",
            "2: 904\n",
            "3: 889\n",
            "4910\n",
            "__________________\n",
            "Finance\n",
            "0: 89\n",
            "1: 47\n",
            "2: 8\n",
            "3: 105\n",
            "249\n",
            "__________________\n",
            "Statistics\n",
            "0: 2824\n",
            "1: 850\n",
            "2: 1193\n",
            "3: 202\n",
            "5069\n",
            "__________________\n",
            "Physics\n",
            "0: 323\n",
            "1: 139\n",
            "2: 108\n",
            "3: 4987\n",
            "5557\n",
            "__________________\n",
            "Biology\n",
            "0: 172\n",
            "1: 17\n",
            "2: 100\n",
            "3: 294\n",
            "583\n"
          ]
        }
      ]
    },
    {
      "cell_type": "code",
      "source": [
        "#Getting unique labels\n",
        "testPred = clust.fit_predict(data_test_vec[0:100])\n",
        "\n",
        "print(testPred)"
      ],
      "metadata": {
        "colab": {
          "base_uri": "https://localhost:8080/"
        },
        "id": "CgSK7U2OI-Vi",
        "outputId": "f7b9e136-754b-4276-f1cf-7637e6e81cb7"
      },
      "execution_count": null,
      "outputs": [
        {
          "output_type": "execute_result",
          "data": {
            "text/plain": [
              "array([5, 5, 2, 4, 2, 4, 4, 4, 2, 3, 2, 0, 0, 3, 0, 5, 0, 2, 0, 2, 2, 0,\n",
              "       3, 4, 0, 5, 3, 1, 4, 4, 5, 2, 1, 4, 5, 2, 2, 1, 0, 3, 4, 3, 5, 2,\n",
              "       1, 1, 0, 2, 3, 3, 5, 2, 1, 5, 0, 2, 2, 1, 4, 4, 5, 3, 0, 1, 2, 3,\n",
              "       2, 2, 2, 5, 2, 0, 2, 2, 4, 5, 1, 4, 4, 0, 1, 3, 1, 0, 2, 5, 0, 0,\n",
              "       2, 5, 0, 4, 2, 4, 2, 5, 3, 4, 4, 0], dtype=int32)"
            ]
          },
          "metadata": {},
          "execution_count": 69
        }
      ]
    },
    {
      "cell_type": "markdown",
      "source": [
        "Failed graph Attempt:"
      ],
      "metadata": {
        "id": "ijE3L5obvOgw"
      }
    },
    {
      "cell_type": "code",
      "source": [
        "data_train_vec"
      ],
      "metadata": {
        "colab": {
          "base_uri": "https://localhost:8080/"
        },
        "id": "hVhzeLISnELD",
        "outputId": "2e75adc5-5e30-47dd-b52a-1e98ef71983b"
      },
      "execution_count": null,
      "outputs": [
        {
          "output_type": "execute_result",
          "data": {
            "text/plain": [
              "<20972x3063366 sparse matrix of type '<class 'numpy.float64'>'\n",
              "\twith 5091359 stored elements in Compressed Sparse Row format>"
            ]
          },
          "metadata": {},
          "execution_count": 71
        }
      ]
    },
    {
      "cell_type": "code",
      "source": [
        "u_labels = np.unique(testPred)\n",
        " \n",
        "for i in u_labels:\n",
        "    plt.scatter(data_train_vec[testPred == i , 0] , data_train_vec[testPred == i , 1] , label = i)\n",
        "plt.legend()\n",
        "plt.show()"
      ],
      "metadata": {
        "id": "2iWi8-AnI7x4"
      },
      "execution_count": null,
      "outputs": []
    },
    {
      "cell_type": "markdown",
      "source": [
        "# Agglomerative Clustering"
      ],
      "metadata": {
        "id": "o7DixDj1KJii"
      }
    },
    {
      "cell_type": "markdown",
      "source": [
        "Agglomerative Clustering is a method of heirarichal clustering, the algorithm starts by placing every element into a cluster of its own and continues merging them into more general clusters in a recursive manner"
      ],
      "metadata": {
        "id": "NG2nqi71z_CN"
      }
    },
    {
      "cell_type": "code",
      "source": [
        "dist = 1 - cosine_similarity(data_test_vec[0:1000])\n",
        "\n",
        "#X.toarray()\n",
        "clustering = AgglomerativeClustering().fit(dist)\n",
        "dendrogram = sch.dendrogram(sch.linkage(dist, method='ward'), truncate_mode='level')"
      ],
      "metadata": {
        "id": "HG69m_zJqZ1W",
        "colab": {
          "base_uri": "https://localhost:8080/",
          "height": 265
        },
        "outputId": "dcc9d2a5-2062-41c8-f22f-20d6a9e874dc"
      },
      "execution_count": null,
      "outputs": [
        {
          "output_type": "display_data",
          "data": {
            "text/plain": [
              "<Figure size 432x288 with 1 Axes>"
            ],
            "image/png": "[encoded data removed]"
          },
          "metadata": {
            "needs_background": "light"
          }
        }
      ]
    },
    {
      "cell_type": "code",
      "source": [
        "linkage_matrix = ward(dist)\n",
        "\n",
        "fig, ax = plt.subplots(figsize=(10, 10)) # set size\n",
        "ax = sch.dendrogram(linkage_matrix);\n",
        "\n",
        "plt.tick_params(\\\n",
        "    axis= 'x',          # changes apply to the x-axis\n",
        "    which='both',      # both major and minor ticks are affected\n",
        "    bottom='off',      # ticks along the bottom edge are off\n",
        "    top='off',         # ticks along the top edge are off\n",
        "    labelbottom='off')\n",
        "\n",
        "plt.tight_layout() #show plot with tight layout\n"
      ],
      "metadata": {
        "colab": {
          "base_uri": "https://localhost:8080/",
          "height": 729
        },
        "id": "ugwfY1tk2VaY",
        "outputId": "c3192ec7-dd14-4ec9-ad9f-61f54ec3aff2"
      },
      "execution_count": null,
      "outputs": [
        {
          "output_type": "display_data",
          "data": {
            "text/plain": [
              "<Figure size 720x720 with 1 Axes>"
            ],
            "image/png": "[encoded data removed]"
          },
          "metadata": {
            "needs_background": "light"
          }
        }
      ]
    },
    {
      "cell_type": "code",
      "source": [
        ""
      ],
      "metadata": {
        "id": "H-YfUS_lEMii"
      },
      "execution_count": null,
      "outputs": []
    },
    {
      "cell_type": "markdown",
      "source": [
        "# LDA"
      ],
      "metadata": {
        "id": "fo3AheZsFKXC"
      }
    },
    {
      "cell_type": "code",
      "source": [
        "def lemmatize_stemming(text):\n",
        "    return stemmer.stem(WordNetLemmatizer().lemmatize(text, pos='v'))\n",
        "def preprocess(text):\n",
        "    result = []\n",
        "    for token in gensim.utils.simple_preprocess(text):\n",
        "        if len(token) > 3:\n",
        "            result.append(lemmatize_stemming(token))\n",
        "    return result\n",
        "\n",
        "processed_docs = data_train['text'].map(preprocess)"
      ],
      "metadata": {
        "id": "Ymzr0JASF2M1"
      },
      "execution_count": 18,
      "outputs": []
    },
    {
      "cell_type": "code",
      "source": [
        ""
      ],
      "metadata": {
        "colab": {
          "base_uri": "https://localhost:8080/"
        },
        "id": "MMcwLWbYV506",
        "outputId": "24aef554-4a5b-41e8-fc12-20e394d41a0c"
      },
      "execution_count": null,
      "outputs": [
        {
          "output_type": "execute_result",
          "data": {
            "text/plain": [
              "2252"
            ]
          },
          "metadata": {},
          "execution_count": 49
        }
      ]
    },
    {
      "cell_type": "code",
      "source": [
        "dictionary = gensim.corpora.Dictionary(processed_docs)\n",
        "dictionary.filter_extremes(no_below=.020, no_above=0.5, keep_n=100000)\n",
        "bow_corpus = [dictionary.doc2bow(doc) for doc in processed_docs]\n",
        "\n",
        "tfidf = models.TfidfModel(bow_corpus)\n",
        "corpus_tfidf = tfidf[bow_corpus]\n",
        "\n",
        "\n",
        "lda_model_tfidf = gensim.models.LdaMulticore(bow_corpus, num_topics=4, id2word=dictionary, passes=1, workers=4)\n",
        "for idx, topic in lda_model_tfidf.print_topics(-1):\n",
        "    print('Topic: {} Word: {}'.format(idx, topic))"
      ],
      "metadata": {
        "colab": {
          "base_uri": "https://localhost:8080/"
        },
        "id": "qVjCSiK81vbY",
        "outputId": "02cc0ed3-336b-47ee-f2c5-c52010a7425b"
      },
      "execution_count": 19,
      "outputs": [
        {
          "output_type": "stream",
          "name": "stdout",
          "text": [
            "Topic: 0 Word: 0.010*\"network\" + 0.010*\"model\" + 0.008*\"method\" + 0.007*\"use\" + 0.006*\"base\" + 0.006*\"show\" + 0.006*\"result\" + 0.006*\"estim\" + 0.005*\"propos\" + 0.005*\"gener\"\n",
            "Topic: 1 Word: 0.011*\"model\" + 0.006*\"result\" + 0.006*\"learn\" + 0.006*\"show\" + 0.006*\"studi\" + 0.005*\"problem\" + 0.005*\"use\" + 0.005*\"algorithm\" + 0.005*\"base\" + 0.005*\"gener\"\n",
            "Topic: 2 Word: 0.010*\"use\" + 0.007*\"data\" + 0.006*\"method\" + 0.005*\"propos\" + 0.005*\"show\" + 0.005*\"system\" + 0.005*\"gener\" + 0.005*\"result\" + 0.005*\"learn\" + 0.005*\"model\"\n",
            "Topic: 3 Word: 0.014*\"model\" + 0.009*\"data\" + 0.007*\"time\" + 0.007*\"use\" + 0.006*\"gener\" + 0.005*\"problem\" + 0.005*\"show\" + 0.005*\"system\" + 0.005*\"base\" + 0.005*\"algorithm\"\n"
          ]
        }
      ]
    },
    {
      "cell_type": "code",
      "source": [
        ""
      ],
      "metadata": {
        "id": "sPVTwGvy8Xao"
      },
      "execution_count": null,
      "outputs": []
    },
    {
      "cell_type": "code",
      "source": [
        ""
      ],
      "metadata": {
        "id": "Sc_ih81i8ldr"
      },
      "execution_count": null,
      "outputs": []
    }
  ]
}